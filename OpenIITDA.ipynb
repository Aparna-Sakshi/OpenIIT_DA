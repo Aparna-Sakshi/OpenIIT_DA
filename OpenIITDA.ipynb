{
  "nbformat": 4,
  "nbformat_minor": 0,
  "metadata": {
    "colab": {
      "name": "Copy of Hall DA.ipynb",
      "provenance": [],
      "collapsed_sections": [],
      "toc_visible": true
    },
    "kernelspec": {
      "name": "python3",
      "display_name": "Python 3"
    },
    "accelerator": "GPU"
  },
  "cells": [
    {
      "cell_type": "code",
      "metadata": {
        "id": "SZmygYDLVpZ3",
        "colab": {
          "base_uri": "https://localhost:8080/"
        },
        "outputId": "57333b15-81bc-452e-f61b-f6c1c6c7472b"
      },
      "source": [
        "import pandas as pd\n",
        "import numpy as np\n",
        "import io\n",
        " \n",
        "from google.colab import files \n",
        "from google.colab import drive\n",
        "drive.mount('/content/drive',force_remount=True)\n",
        " \n",
        "#df = pd.read_csv(io.BytesIO(uploaded['Test_data.csv']))\n",
        "#print (df)"
      ],
      "execution_count": null,
      "outputs": [
        {
          "output_type": "stream",
          "text": [
            "Mounted at /content/drive\n"
          ],
          "name": "stdout"
        }
      ]
    },
    {
      "cell_type": "code",
      "metadata": {
        "id": "9hWUPJPHocYp",
        "colab": {
          "base_uri": "https://localhost:8080/",
          "height": 232
        },
        "outputId": "d0880a40-e8cb-491c-8723-1039007fbe8c"
      },
      "source": [
        "df = pd.read_csv('/content/drive/MyDrive/OPEN IIT/train3.csv')\n",
        "df.head()"
      ],
      "execution_count": null,
      "outputs": [
        {
          "output_type": "execute_result",
          "data": {
            "text/html": [
              "<div>\n",
              "<style scoped>\n",
              "    .dataframe tbody tr th:only-of-type {\n",
              "        vertical-align: middle;\n",
              "    }\n",
              "\n",
              "    .dataframe tbody tr th {\n",
              "        vertical-align: top;\n",
              "    }\n",
              "\n",
              "    .dataframe thead th {\n",
              "        text-align: right;\n",
              "    }\n",
              "</style>\n",
              "<table border=\"1\" class=\"dataframe\">\n",
              "  <thead>\n",
              "    <tr style=\"text-align: right;\">\n",
              "      <th></th>\n",
              "      <th>Unnamed: 0</th>\n",
              "      <th>Unnamed: 0.1</th>\n",
              "      <th>id</th>\n",
              "      <th>acousticness</th>\n",
              "      <th>danceability</th>\n",
              "      <th>energy</th>\n",
              "      <th>explicit</th>\n",
              "      <th>instrumentalness</th>\n",
              "      <th>key</th>\n",
              "      <th>liveness</th>\n",
              "      <th>loudness</th>\n",
              "      <th>mode</th>\n",
              "      <th>release_date</th>\n",
              "      <th>speechiness</th>\n",
              "      <th>tempo</th>\n",
              "      <th>valence</th>\n",
              "      <th>year</th>\n",
              "      <th>duration-min</th>\n",
              "      <th>popularity</th>\n",
              "      <th>mode*tempo</th>\n",
              "      <th>month</th>\n",
              "      <th>month_name</th>\n",
              "      <th>regression_popularity</th>\n",
              "      <th>rp&gt;0</th>\n",
              "      <th>rp&gt;1</th>\n",
              "      <th>rp&gt;2</th>\n",
              "      <th>rp&gt;3</th>\n",
              "      <th>year&gt;=2000</th>\n",
              "      <th>year&lt;=1960</th>\n",
              "      <th>year&lt;=1980</th>\n",
              "      <th>year&lt;=2000</th>\n",
              "      <th>year&lt;=2010</th>\n",
              "      <th>year&lt;=2020</th>\n",
              "    </tr>\n",
              "  </thead>\n",
              "  <tbody>\n",
              "    <tr>\n",
              "      <th>0</th>\n",
              "      <td>0</td>\n",
              "      <td>0</td>\n",
              "      <td>2015</td>\n",
              "      <td>0.949</td>\n",
              "      <td>0.235</td>\n",
              "      <td>0.0276</td>\n",
              "      <td>0</td>\n",
              "      <td>0.9270</td>\n",
              "      <td>5</td>\n",
              "      <td>0.513</td>\n",
              "      <td>-27.398</td>\n",
              "      <td>Major</td>\n",
              "      <td>01-01-1947</td>\n",
              "      <td>0.0381</td>\n",
              "      <td>110.838</td>\n",
              "      <td>0.0398</td>\n",
              "      <td>1947</td>\n",
              "      <td>3.0</td>\n",
              "      <td>very low</td>\n",
              "      <td>110.838</td>\n",
              "      <td>1</td>\n",
              "      <td>January</td>\n",
              "      <td>0</td>\n",
              "      <td>0</td>\n",
              "      <td>0</td>\n",
              "      <td>0</td>\n",
              "      <td>0</td>\n",
              "      <td>0</td>\n",
              "      <td>1</td>\n",
              "      <td>0</td>\n",
              "      <td>0</td>\n",
              "      <td>0</td>\n",
              "      <td>0</td>\n",
              "    </tr>\n",
              "    <tr>\n",
              "      <th>1</th>\n",
              "      <td>1</td>\n",
              "      <td>1</td>\n",
              "      <td>15901</td>\n",
              "      <td>0.855</td>\n",
              "      <td>0.456</td>\n",
              "      <td>0.4850</td>\n",
              "      <td>0</td>\n",
              "      <td>0.0884</td>\n",
              "      <td>4</td>\n",
              "      <td>0.151</td>\n",
              "      <td>-10.046</td>\n",
              "      <td>Major</td>\n",
              "      <td>13-11-2020</td>\n",
              "      <td>0.0437</td>\n",
              "      <td>152.066</td>\n",
              "      <td>0.8590</td>\n",
              "      <td>2020</td>\n",
              "      <td>2.4</td>\n",
              "      <td>low</td>\n",
              "      <td>152.066</td>\n",
              "      <td>11</td>\n",
              "      <td>November</td>\n",
              "      <td>1</td>\n",
              "      <td>1</td>\n",
              "      <td>0</td>\n",
              "      <td>0</td>\n",
              "      <td>0</td>\n",
              "      <td>1</td>\n",
              "      <td>0</td>\n",
              "      <td>0</td>\n",
              "      <td>0</td>\n",
              "      <td>0</td>\n",
              "      <td>1</td>\n",
              "    </tr>\n",
              "    <tr>\n",
              "      <th>2</th>\n",
              "      <td>2</td>\n",
              "      <td>2</td>\n",
              "      <td>9002</td>\n",
              "      <td>0.827</td>\n",
              "      <td>0.495</td>\n",
              "      <td>0.4990</td>\n",
              "      <td>0</td>\n",
              "      <td>0.0000</td>\n",
              "      <td>0</td>\n",
              "      <td>0.401</td>\n",
              "      <td>-8.009</td>\n",
              "      <td>Minor</td>\n",
              "      <td>01-01-1950</td>\n",
              "      <td>0.0474</td>\n",
              "      <td>108.004</td>\n",
              "      <td>0.7090</td>\n",
              "      <td>1950</td>\n",
              "      <td>2.6</td>\n",
              "      <td>very low</td>\n",
              "      <td>-108.004</td>\n",
              "      <td>1</td>\n",
              "      <td>January</td>\n",
              "      <td>0</td>\n",
              "      <td>0</td>\n",
              "      <td>0</td>\n",
              "      <td>0</td>\n",
              "      <td>0</td>\n",
              "      <td>0</td>\n",
              "      <td>1</td>\n",
              "      <td>0</td>\n",
              "      <td>0</td>\n",
              "      <td>0</td>\n",
              "      <td>0</td>\n",
              "    </tr>\n",
              "    <tr>\n",
              "      <th>3</th>\n",
              "      <td>3</td>\n",
              "      <td>3</td>\n",
              "      <td>6734</td>\n",
              "      <td>0.654</td>\n",
              "      <td>0.643</td>\n",
              "      <td>0.4690</td>\n",
              "      <td>0</td>\n",
              "      <td>0.1080</td>\n",
              "      <td>7</td>\n",
              "      <td>0.218</td>\n",
              "      <td>-15.917</td>\n",
              "      <td>Major</td>\n",
              "      <td>30-04-1974</td>\n",
              "      <td>0.0368</td>\n",
              "      <td>83.636</td>\n",
              "      <td>0.9640</td>\n",
              "      <td>1974</td>\n",
              "      <td>2.4</td>\n",
              "      <td>low</td>\n",
              "      <td>83.636</td>\n",
              "      <td>4</td>\n",
              "      <td>April</td>\n",
              "      <td>1</td>\n",
              "      <td>1</td>\n",
              "      <td>0</td>\n",
              "      <td>0</td>\n",
              "      <td>0</td>\n",
              "      <td>0</td>\n",
              "      <td>0</td>\n",
              "      <td>1</td>\n",
              "      <td>0</td>\n",
              "      <td>0</td>\n",
              "      <td>0</td>\n",
              "    </tr>\n",
              "    <tr>\n",
              "      <th>4</th>\n",
              "      <td>4</td>\n",
              "      <td>4</td>\n",
              "      <td>15563</td>\n",
              "      <td>0.738</td>\n",
              "      <td>0.705</td>\n",
              "      <td>0.3110</td>\n",
              "      <td>0</td>\n",
              "      <td>0.0000</td>\n",
              "      <td>5</td>\n",
              "      <td>0.322</td>\n",
              "      <td>-12.344</td>\n",
              "      <td>Major</td>\n",
              "      <td>01-01-1973</td>\n",
              "      <td>0.0488</td>\n",
              "      <td>117.260</td>\n",
              "      <td>0.7850</td>\n",
              "      <td>1973</td>\n",
              "      <td>3.4</td>\n",
              "      <td>average</td>\n",
              "      <td>117.260</td>\n",
              "      <td>1</td>\n",
              "      <td>January</td>\n",
              "      <td>2</td>\n",
              "      <td>1</td>\n",
              "      <td>1</td>\n",
              "      <td>0</td>\n",
              "      <td>0</td>\n",
              "      <td>0</td>\n",
              "      <td>0</td>\n",
              "      <td>1</td>\n",
              "      <td>0</td>\n",
              "      <td>0</td>\n",
              "      <td>0</td>\n",
              "    </tr>\n",
              "  </tbody>\n",
              "</table>\n",
              "</div>"
            ],
            "text/plain": [
              "   Unnamed: 0  Unnamed: 0.1     id  ...  year<=2000  year<=2010  year<=2020\n",
              "0           0             0   2015  ...           0           0           0\n",
              "1           1             1  15901  ...           0           0           1\n",
              "2           2             2   9002  ...           0           0           0\n",
              "3           3             3   6734  ...           0           0           0\n",
              "4           4             4  15563  ...           0           0           0\n",
              "\n",
              "[5 rows x 33 columns]"
            ]
          },
          "metadata": {
            "tags": []
          },
          "execution_count": 2
        }
      ]
    },
    {
      "cell_type": "code",
      "metadata": {
        "id": "nto5uHnxQFEF"
      },
      "source": [
        ""
      ],
      "execution_count": null,
      "outputs": []
    },
    {
      "cell_type": "code",
      "metadata": {
        "id": "WIS-fudq0bK3",
        "colab": {
          "base_uri": "https://localhost:8080/",
          "height": 573
        },
        "outputId": "c78715ad-753e-44c3-dd05-14f35f8011e3"
      },
      "source": [
        "import pandas as pd \n",
        "import matplotlib.pyplot as plt\n",
        "import seaborn as sns\n",
        "\n",
        "%matplotlib inline\n",
        "sns.set(style='whitegrid')\n",
        "sns.set(rc={'figure.figsize':(15,9)})\n",
        "ax = sns.boxplot(x=\"popularity\", y=\"acousticness\", data=df).set_title('Box plot for acousticness')\n",
        "\n",
        "\n",
        "\n",
        "plt.show()\n"
      ],
      "execution_count": null,
      "outputs": [
        {
          "output_type": "display_data",
          "data": {
            "image/png": "[encoded data removed]",
            "text/plain": [
              "<Figure size 1080x648 with 1 Axes>"
            ]
          },
          "metadata": {
            "tags": []
          }
        }
      ]
    },
    {
      "cell_type": "code",
      "metadata": {
        "colab": {
          "base_uri": "https://localhost:8080/",
          "height": 195
        },
        "id": "N_vPPl2ovcSu",
        "outputId": "6e6d0dfe-bd66-420b-ebfc-6e9d8fc7ede8"
      },
      "source": [
        "df.head()"
      ],
      "execution_count": null,
      "outputs": [
        {
          "output_type": "execute_result",
          "data": {
            "text/html": [
              "<div>\n",
              "<style scoped>\n",
              "    .dataframe tbody tr th:only-of-type {\n",
              "        vertical-align: middle;\n",
              "    }\n",
              "\n",
              "    .dataframe tbody tr th {\n",
              "        vertical-align: top;\n",
              "    }\n",
              "\n",
              "    .dataframe thead th {\n",
              "        text-align: right;\n",
              "    }\n",
              "</style>\n",
              "<table border=\"1\" class=\"dataframe\">\n",
              "  <thead>\n",
              "    <tr style=\"text-align: right;\">\n",
              "      <th></th>\n",
              "      <th>id</th>\n",
              "      <th>acousticness</th>\n",
              "      <th>danceability</th>\n",
              "      <th>energy</th>\n",
              "      <th>explicit</th>\n",
              "      <th>instrumentalness</th>\n",
              "      <th>key</th>\n",
              "      <th>liveness</th>\n",
              "      <th>loudness</th>\n",
              "      <th>mode</th>\n",
              "      <th>release_date</th>\n",
              "      <th>speechiness</th>\n",
              "      <th>tempo</th>\n",
              "      <th>valence</th>\n",
              "      <th>year</th>\n",
              "      <th>duration-min</th>\n",
              "      <th>popularity</th>\n",
              "    </tr>\n",
              "  </thead>\n",
              "  <tbody>\n",
              "    <tr>\n",
              "      <th>0</th>\n",
              "      <td>2015</td>\n",
              "      <td>0.949</td>\n",
              "      <td>0.235</td>\n",
              "      <td>0.0276</td>\n",
              "      <td>No</td>\n",
              "      <td>0.9270</td>\n",
              "      <td>5</td>\n",
              "      <td>0.513</td>\n",
              "      <td>-27.398</td>\n",
              "      <td>Major</td>\n",
              "      <td>01-01-1947</td>\n",
              "      <td>0.0381</td>\n",
              "      <td>110.838</td>\n",
              "      <td>0.0398</td>\n",
              "      <td>1947</td>\n",
              "      <td>3.0</td>\n",
              "      <td>very low</td>\n",
              "    </tr>\n",
              "    <tr>\n",
              "      <th>1</th>\n",
              "      <td>15901</td>\n",
              "      <td>0.855</td>\n",
              "      <td>0.456</td>\n",
              "      <td>0.4850</td>\n",
              "      <td>No</td>\n",
              "      <td>0.0884</td>\n",
              "      <td>4</td>\n",
              "      <td>0.151</td>\n",
              "      <td>-10.046</td>\n",
              "      <td>Major</td>\n",
              "      <td>13-11-2020</td>\n",
              "      <td>0.0437</td>\n",
              "      <td>152.066</td>\n",
              "      <td>0.8590</td>\n",
              "      <td>2020</td>\n",
              "      <td>2.4</td>\n",
              "      <td>low</td>\n",
              "    </tr>\n",
              "    <tr>\n",
              "      <th>2</th>\n",
              "      <td>9002</td>\n",
              "      <td>0.827</td>\n",
              "      <td>0.495</td>\n",
              "      <td>0.4990</td>\n",
              "      <td>No</td>\n",
              "      <td>0.0000</td>\n",
              "      <td>0</td>\n",
              "      <td>0.401</td>\n",
              "      <td>-8.009</td>\n",
              "      <td>Minor</td>\n",
              "      <td>01-01-1950</td>\n",
              "      <td>0.0474</td>\n",
              "      <td>108.004</td>\n",
              "      <td>0.7090</td>\n",
              "      <td>1950</td>\n",
              "      <td>2.6</td>\n",
              "      <td>very low</td>\n",
              "    </tr>\n",
              "    <tr>\n",
              "      <th>3</th>\n",
              "      <td>6734</td>\n",
              "      <td>0.654</td>\n",
              "      <td>0.643</td>\n",
              "      <td>0.4690</td>\n",
              "      <td>No</td>\n",
              "      <td>0.1080</td>\n",
              "      <td>7</td>\n",
              "      <td>0.218</td>\n",
              "      <td>-15.917</td>\n",
              "      <td>Major</td>\n",
              "      <td>30-04-1974</td>\n",
              "      <td>0.0368</td>\n",
              "      <td>83.636</td>\n",
              "      <td>0.9640</td>\n",
              "      <td>1974</td>\n",
              "      <td>2.4</td>\n",
              "      <td>low</td>\n",
              "    </tr>\n",
              "    <tr>\n",
              "      <th>4</th>\n",
              "      <td>15563</td>\n",
              "      <td>0.738</td>\n",
              "      <td>0.705</td>\n",
              "      <td>0.3110</td>\n",
              "      <td>No</td>\n",
              "      <td>0.0000</td>\n",
              "      <td>5</td>\n",
              "      <td>0.322</td>\n",
              "      <td>-12.344</td>\n",
              "      <td>Major</td>\n",
              "      <td>01-01-1973</td>\n",
              "      <td>0.0488</td>\n",
              "      <td>117.260</td>\n",
              "      <td>0.7850</td>\n",
              "      <td>1973</td>\n",
              "      <td>3.4</td>\n",
              "      <td>average</td>\n",
              "    </tr>\n",
              "  </tbody>\n",
              "</table>\n",
              "</div>"
            ],
            "text/plain": [
              "      id  acousticness  danceability  ...  year duration-min  popularity\n",
              "0   2015         0.949         0.235  ...  1947          3.0    very low\n",
              "1  15901         0.855         0.456  ...  2020          2.4         low\n",
              "2   9002         0.827         0.495  ...  1950          2.6    very low\n",
              "3   6734         0.654         0.643  ...  1974          2.4         low\n",
              "4  15563         0.738         0.705  ...  1973          3.4     average\n",
              "\n",
              "[5 rows x 17 columns]"
            ]
          },
          "metadata": {
            "tags": []
          },
          "execution_count": 3
        }
      ]
    },
    {
      "cell_type": "code",
      "metadata": {
        "id": "jq90bjCxh_pa",
        "colab": {
          "base_uri": "https://localhost:8080/"
        },
        "outputId": "9cf8d942-3ade-4c1b-eb23-3ce1479a26d4"
      },
      "source": [
        "from scipy.stats import kendalltau \n",
        "  \n",
        "# Taking values from the above example in Lists \n",
        "cat_cols=['explicit','mode']\n",
        "y=df['popularity']\n",
        "# Calculating Kendall Rank correlation \n",
        "corr, _ = kendalltau(df['month'], y) \n",
        "print('month_name: %.5f' % corr) \n",
        "corr, _ = kendalltau(df['mode'], y) \n",
        "print(' mode: %.5f' % corr) "
      ],
      "execution_count": null,
      "outputs": [
        {
          "output_type": "stream",
          "text": [
            "month_name: -0.08132\n",
            " mode: 0.00367\n"
          ],
          "name": "stdout"
        }
      ]
    },
    {
      "cell_type": "code",
      "metadata": {
        "colab": {
          "base_uri": "https://localhost:8080/",
          "height": 232
        },
        "id": "-2M_kf1XmWMd",
        "outputId": "0534d790-7516-42ec-aee9-9d90944d4c55"
      },
      "source": [
        "df.head()"
      ],
      "execution_count": null,
      "outputs": [
        {
          "output_type": "execute_result",
          "data": {
            "text/html": [
              "<div>\n",
              "<style scoped>\n",
              "    .dataframe tbody tr th:only-of-type {\n",
              "        vertical-align: middle;\n",
              "    }\n",
              "\n",
              "    .dataframe tbody tr th {\n",
              "        vertical-align: top;\n",
              "    }\n",
              "\n",
              "    .dataframe thead th {\n",
              "        text-align: right;\n",
              "    }\n",
              "</style>\n",
              "<table border=\"1\" class=\"dataframe\">\n",
              "  <thead>\n",
              "    <tr style=\"text-align: right;\">\n",
              "      <th></th>\n",
              "      <th>id</th>\n",
              "      <th>acousticness</th>\n",
              "      <th>danceability</th>\n",
              "      <th>energy</th>\n",
              "      <th>explicit</th>\n",
              "      <th>instrumentalness</th>\n",
              "      <th>key</th>\n",
              "      <th>liveness</th>\n",
              "      <th>loudness</th>\n",
              "      <th>mode</th>\n",
              "      <th>release_date</th>\n",
              "      <th>speechiness</th>\n",
              "      <th>tempo</th>\n",
              "      <th>valence</th>\n",
              "      <th>year</th>\n",
              "      <th>duration-min</th>\n",
              "      <th>popularity</th>\n",
              "      <th>mode*tempo</th>\n",
              "      <th>month</th>\n",
              "      <th>month_name</th>\n",
              "    </tr>\n",
              "  </thead>\n",
              "  <tbody>\n",
              "    <tr>\n",
              "      <th>0</th>\n",
              "      <td>2015</td>\n",
              "      <td>0.949</td>\n",
              "      <td>0.235</td>\n",
              "      <td>0.0276</td>\n",
              "      <td>No</td>\n",
              "      <td>0.9270</td>\n",
              "      <td>5</td>\n",
              "      <td>0.513</td>\n",
              "      <td>-27.398</td>\n",
              "      <td>Major</td>\n",
              "      <td>01-01-1947</td>\n",
              "      <td>0.0381</td>\n",
              "      <td>110.838</td>\n",
              "      <td>0.0398</td>\n",
              "      <td>1947</td>\n",
              "      <td>3.0</td>\n",
              "      <td>very low</td>\n",
              "      <td>110.838</td>\n",
              "      <td>1</td>\n",
              "      <td>January</td>\n",
              "    </tr>\n",
              "    <tr>\n",
              "      <th>1</th>\n",
              "      <td>15901</td>\n",
              "      <td>0.855</td>\n",
              "      <td>0.456</td>\n",
              "      <td>0.4850</td>\n",
              "      <td>No</td>\n",
              "      <td>0.0884</td>\n",
              "      <td>4</td>\n",
              "      <td>0.151</td>\n",
              "      <td>-10.046</td>\n",
              "      <td>Major</td>\n",
              "      <td>13-11-2020</td>\n",
              "      <td>0.0437</td>\n",
              "      <td>152.066</td>\n",
              "      <td>0.8590</td>\n",
              "      <td>2020</td>\n",
              "      <td>2.4</td>\n",
              "      <td>low</td>\n",
              "      <td>152.066</td>\n",
              "      <td>11</td>\n",
              "      <td>November</td>\n",
              "    </tr>\n",
              "    <tr>\n",
              "      <th>2</th>\n",
              "      <td>9002</td>\n",
              "      <td>0.827</td>\n",
              "      <td>0.495</td>\n",
              "      <td>0.4990</td>\n",
              "      <td>No</td>\n",
              "      <td>0.0000</td>\n",
              "      <td>0</td>\n",
              "      <td>0.401</td>\n",
              "      <td>-8.009</td>\n",
              "      <td>Minor</td>\n",
              "      <td>01-01-1950</td>\n",
              "      <td>0.0474</td>\n",
              "      <td>108.004</td>\n",
              "      <td>0.7090</td>\n",
              "      <td>1950</td>\n",
              "      <td>2.6</td>\n",
              "      <td>very low</td>\n",
              "      <td>-108.004</td>\n",
              "      <td>1</td>\n",
              "      <td>January</td>\n",
              "    </tr>\n",
              "    <tr>\n",
              "      <th>3</th>\n",
              "      <td>6734</td>\n",
              "      <td>0.654</td>\n",
              "      <td>0.643</td>\n",
              "      <td>0.4690</td>\n",
              "      <td>No</td>\n",
              "      <td>0.1080</td>\n",
              "      <td>7</td>\n",
              "      <td>0.218</td>\n",
              "      <td>-15.917</td>\n",
              "      <td>Major</td>\n",
              "      <td>30-04-1974</td>\n",
              "      <td>0.0368</td>\n",
              "      <td>83.636</td>\n",
              "      <td>0.9640</td>\n",
              "      <td>1974</td>\n",
              "      <td>2.4</td>\n",
              "      <td>low</td>\n",
              "      <td>83.636</td>\n",
              "      <td>4</td>\n",
              "      <td>April</td>\n",
              "    </tr>\n",
              "    <tr>\n",
              "      <th>4</th>\n",
              "      <td>15563</td>\n",
              "      <td>0.738</td>\n",
              "      <td>0.705</td>\n",
              "      <td>0.3110</td>\n",
              "      <td>No</td>\n",
              "      <td>0.0000</td>\n",
              "      <td>5</td>\n",
              "      <td>0.322</td>\n",
              "      <td>-12.344</td>\n",
              "      <td>Major</td>\n",
              "      <td>01-01-1973</td>\n",
              "      <td>0.0488</td>\n",
              "      <td>117.260</td>\n",
              "      <td>0.7850</td>\n",
              "      <td>1973</td>\n",
              "      <td>3.4</td>\n",
              "      <td>average</td>\n",
              "      <td>117.260</td>\n",
              "      <td>1</td>\n",
              "      <td>January</td>\n",
              "    </tr>\n",
              "  </tbody>\n",
              "</table>\n",
              "</div>"
            ],
            "text/plain": [
              "      id  acousticness  danceability  ...  mode*tempo month  month_name\n",
              "0   2015         0.949         0.235  ...     110.838     1     January\n",
              "1  15901         0.855         0.456  ...     152.066    11    November\n",
              "2   9002         0.827         0.495  ...    -108.004     1     January\n",
              "3   6734         0.654         0.643  ...      83.636     4       April\n",
              "4  15563         0.738         0.705  ...     117.260     1     January\n",
              "\n",
              "[5 rows x 20 columns]"
            ]
          },
          "metadata": {
            "tags": []
          },
          "execution_count": 23
        }
      ]
    },
    {
      "cell_type": "code",
      "metadata": {
        "colab": {
          "base_uri": "https://localhost:8080/"
        },
        "id": "ucUxhhQvwe9Y",
        "outputId": "3b10f2c3-0d13-430b-81a1-59ed83f11ddd"
      },
      "source": [
        "from scipy.stats import spearmanr\n",
        "num_cols=['acousticness','danceability','energy','instrumentalness','key','liveness','loudness','speechiness','tempo','valence','year','duration-min']\n",
        "y=df['popularity']\n",
        "for i in range (len(num_cols)):\n",
        "  coef, _= spearmanr(df[num_cols[i]], y)\n",
        "  print(\"%s\" %num_cols[i] +': %f' % coef) \n"
      ],
      "execution_count": null,
      "outputs": [
        {
          "output_type": "stream",
          "text": [
            "acousticness: 0.347970\n",
            "danceability: -0.117860\n",
            "energy: -0.301132\n",
            "instrumentalness: 0.230806\n",
            "key: -0.009673\n",
            "liveness: 0.102318\n",
            "loudness: -0.319311\n",
            "speechiness: 0.130699\n",
            "tempo: -0.057757\n",
            "valence: -0.035607\n",
            "year: -0.414323\n",
            "duration-min: -0.195697\n"
          ],
          "name": "stdout"
        }
      ]
    },
    {
      "cell_type": "code",
      "metadata": {
        "colab": {
          "base_uri": "https://localhost:8080/",
          "height": 432
        },
        "id": "qKGrtCSg9IMp",
        "outputId": "536eed92-f433-45e0-ec43-2f6ed29a4813"
      },
      "source": [
        "num_df=df._get_numeric_data()\n",
        "num_df.columns\n",
        "no_of_cols=len(num_df.columns)\n",
        "columns=list(num_df.columns)\n",
        "spearman_coeffs_dict={col1:{col2:0 for col2 in columns} for col1 in columns}\n",
        "for col1 in columns:\n",
        "    for col2 in columns:\n",
        "        spearman_coeff, p_value = spearmanr(num_df[col1],num_df[col2])\n",
        "        spearman_coeffs_dict[col1][col2]=spearman_coeff\n",
        "        \n",
        "spearman_coeffs_matrix= pd.DataFrame(spearman_coeffs_dict) \n",
        "        \n",
        "spearman_coeffs_matrix   "
      ],
      "execution_count": null,
      "outputs": [
        {
          "output_type": "execute_result",
          "data": {
            "text/html": [
              "<div>\n",
              "<style scoped>\n",
              "    .dataframe tbody tr th:only-of-type {\n",
              "        vertical-align: middle;\n",
              "    }\n",
              "\n",
              "    .dataframe tbody tr th {\n",
              "        vertical-align: top;\n",
              "    }\n",
              "\n",
              "    .dataframe thead th {\n",
              "        text-align: right;\n",
              "    }\n",
              "</style>\n",
              "<table border=\"1\" class=\"dataframe\">\n",
              "  <thead>\n",
              "    <tr style=\"text-align: right;\">\n",
              "      <th></th>\n",
              "      <th>id</th>\n",
              "      <th>acousticness</th>\n",
              "      <th>danceability</th>\n",
              "      <th>energy</th>\n",
              "      <th>instrumentalness</th>\n",
              "      <th>key</th>\n",
              "      <th>liveness</th>\n",
              "      <th>loudness</th>\n",
              "      <th>speechiness</th>\n",
              "      <th>tempo</th>\n",
              "      <th>valence</th>\n",
              "      <th>year</th>\n",
              "      <th>duration-min</th>\n",
              "    </tr>\n",
              "  </thead>\n",
              "  <tbody>\n",
              "    <tr>\n",
              "      <th>id</th>\n",
              "      <td>1.000000</td>\n",
              "      <td>-0.005156</td>\n",
              "      <td>-0.001384</td>\n",
              "      <td>0.014830</td>\n",
              "      <td>0.000545</td>\n",
              "      <td>0.006317</td>\n",
              "      <td>0.005816</td>\n",
              "      <td>0.007774</td>\n",
              "      <td>-0.000212</td>\n",
              "      <td>0.005690</td>\n",
              "      <td>-0.001332</td>\n",
              "      <td>0.015516</td>\n",
              "      <td>0.005706</td>\n",
              "    </tr>\n",
              "    <tr>\n",
              "      <th>acousticness</th>\n",
              "      <td>-0.005156</td>\n",
              "      <td>1.000000</td>\n",
              "      <td>-0.223237</td>\n",
              "      <td>-0.749523</td>\n",
              "      <td>0.171720</td>\n",
              "      <td>-0.016293</td>\n",
              "      <td>0.004445</td>\n",
              "      <td>-0.594261</td>\n",
              "      <td>-0.111683</td>\n",
              "      <td>-0.226805</td>\n",
              "      <td>-0.130948</td>\n",
              "      <td>-0.536437</td>\n",
              "      <td>-0.221048</td>\n",
              "    </tr>\n",
              "    <tr>\n",
              "      <th>danceability</th>\n",
              "      <td>-0.001384</td>\n",
              "      <td>-0.223237</td>\n",
              "      <td>1.000000</td>\n",
              "      <td>0.182135</td>\n",
              "      <td>-0.255608</td>\n",
              "      <td>0.027893</td>\n",
              "      <td>-0.134703</td>\n",
              "      <td>0.233436</td>\n",
              "      <td>0.258963</td>\n",
              "      <td>-0.014572</td>\n",
              "      <td>0.463994</td>\n",
              "      <td>0.234180</td>\n",
              "      <td>-0.058832</td>\n",
              "    </tr>\n",
              "    <tr>\n",
              "      <th>energy</th>\n",
              "      <td>0.014830</td>\n",
              "      <td>-0.749523</td>\n",
              "      <td>0.182135</td>\n",
              "      <td>1.000000</td>\n",
              "      <td>-0.144952</td>\n",
              "      <td>0.032001</td>\n",
              "      <td>0.079758</td>\n",
              "      <td>0.795655</td>\n",
              "      <td>0.155753</td>\n",
              "      <td>0.243172</td>\n",
              "      <td>0.323890</td>\n",
              "      <td>0.468503</td>\n",
              "      <td>0.162725</td>\n",
              "    </tr>\n",
              "    <tr>\n",
              "      <th>instrumentalness</th>\n",
              "      <td>0.000545</td>\n",
              "      <td>0.171720</td>\n",
              "      <td>-0.255608</td>\n",
              "      <td>-0.144952</td>\n",
              "      <td>1.000000</td>\n",
              "      <td>-0.005349</td>\n",
              "      <td>-0.030885</td>\n",
              "      <td>-0.316098</td>\n",
              "      <td>-0.108770</td>\n",
              "      <td>-0.046446</td>\n",
              "      <td>-0.152431</td>\n",
              "      <td>-0.230644</td>\n",
              "      <td>0.115354</td>\n",
              "    </tr>\n",
              "    <tr>\n",
              "      <th>key</th>\n",
              "      <td>0.006317</td>\n",
              "      <td>-0.016293</td>\n",
              "      <td>0.027893</td>\n",
              "      <td>0.032001</td>\n",
              "      <td>-0.005349</td>\n",
              "      <td>1.000000</td>\n",
              "      <td>-0.011139</td>\n",
              "      <td>0.026023</td>\n",
              "      <td>0.033068</td>\n",
              "      <td>0.014435</td>\n",
              "      <td>0.030120</td>\n",
              "      <td>0.014373</td>\n",
              "      <td>0.007157</td>\n",
              "    </tr>\n",
              "    <tr>\n",
              "      <th>liveness</th>\n",
              "      <td>0.005816</td>\n",
              "      <td>0.004445</td>\n",
              "      <td>-0.134703</td>\n",
              "      <td>0.079758</td>\n",
              "      <td>-0.030885</td>\n",
              "      <td>-0.011139</td>\n",
              "      <td>1.000000</td>\n",
              "      <td>0.029311</td>\n",
              "      <td>0.087146</td>\n",
              "      <td>0.001204</td>\n",
              "      <td>-0.009867</td>\n",
              "      <td>-0.069227</td>\n",
              "      <td>-0.076074</td>\n",
              "    </tr>\n",
              "    <tr>\n",
              "      <th>loudness</th>\n",
              "      <td>0.007774</td>\n",
              "      <td>-0.594261</td>\n",
              "      <td>0.233436</td>\n",
              "      <td>0.795655</td>\n",
              "      <td>-0.316098</td>\n",
              "      <td>0.026023</td>\n",
              "      <td>0.029311</td>\n",
              "      <td>1.000000</td>\n",
              "      <td>0.083154</td>\n",
              "      <td>0.194499</td>\n",
              "      <td>0.216213</td>\n",
              "      <td>0.553669</td>\n",
              "      <td>0.114661</td>\n",
              "    </tr>\n",
              "    <tr>\n",
              "      <th>speechiness</th>\n",
              "      <td>-0.000212</td>\n",
              "      <td>-0.111683</td>\n",
              "      <td>0.258963</td>\n",
              "      <td>0.155753</td>\n",
              "      <td>-0.108770</td>\n",
              "      <td>0.033068</td>\n",
              "      <td>0.087146</td>\n",
              "      <td>0.083154</td>\n",
              "      <td>1.000000</td>\n",
              "      <td>0.074799</td>\n",
              "      <td>0.113943</td>\n",
              "      <td>0.058074</td>\n",
              "      <td>-0.095652</td>\n",
              "    </tr>\n",
              "    <tr>\n",
              "      <th>tempo</th>\n",
              "      <td>0.005690</td>\n",
              "      <td>-0.226805</td>\n",
              "      <td>-0.014572</td>\n",
              "      <td>0.243172</td>\n",
              "      <td>-0.046446</td>\n",
              "      <td>0.014435</td>\n",
              "      <td>0.001204</td>\n",
              "      <td>0.194499</td>\n",
              "      <td>0.074799</td>\n",
              "      <td>1.000000</td>\n",
              "      <td>0.126656</td>\n",
              "      <td>0.127825</td>\n",
              "      <td>0.005905</td>\n",
              "    </tr>\n",
              "    <tr>\n",
              "      <th>valence</th>\n",
              "      <td>-0.001332</td>\n",
              "      <td>-0.130948</td>\n",
              "      <td>0.463994</td>\n",
              "      <td>0.323890</td>\n",
              "      <td>-0.152431</td>\n",
              "      <td>0.030120</td>\n",
              "      <td>-0.009867</td>\n",
              "      <td>0.216213</td>\n",
              "      <td>0.113943</td>\n",
              "      <td>0.126656</td>\n",
              "      <td>1.000000</td>\n",
              "      <td>-0.105617</td>\n",
              "      <td>-0.176669</td>\n",
              "    </tr>\n",
              "    <tr>\n",
              "      <th>year</th>\n",
              "      <td>0.015516</td>\n",
              "      <td>-0.536437</td>\n",
              "      <td>0.234180</td>\n",
              "      <td>0.468503</td>\n",
              "      <td>-0.230644</td>\n",
              "      <td>0.014373</td>\n",
              "      <td>-0.069227</td>\n",
              "      <td>0.553669</td>\n",
              "      <td>0.058074</td>\n",
              "      <td>0.127825</td>\n",
              "      <td>-0.105617</td>\n",
              "      <td>1.000000</td>\n",
              "      <td>0.171717</td>\n",
              "    </tr>\n",
              "    <tr>\n",
              "      <th>duration-min</th>\n",
              "      <td>0.005706</td>\n",
              "      <td>-0.221048</td>\n",
              "      <td>-0.058832</td>\n",
              "      <td>0.162725</td>\n",
              "      <td>0.115354</td>\n",
              "      <td>0.007157</td>\n",
              "      <td>-0.076074</td>\n",
              "      <td>0.114661</td>\n",
              "      <td>-0.095652</td>\n",
              "      <td>0.005905</td>\n",
              "      <td>-0.176669</td>\n",
              "      <td>0.171717</td>\n",
              "      <td>1.000000</td>\n",
              "    </tr>\n",
              "  </tbody>\n",
              "</table>\n",
              "</div>"
            ],
            "text/plain": [
              "                        id  acousticness  ...      year  duration-min\n",
              "id                1.000000     -0.005156  ...  0.015516      0.005706\n",
              "acousticness     -0.005156      1.000000  ... -0.536437     -0.221048\n",
              "danceability     -0.001384     -0.223237  ...  0.234180     -0.058832\n",
              "energy            0.014830     -0.749523  ...  0.468503      0.162725\n",
              "instrumentalness  0.000545      0.171720  ... -0.230644      0.115354\n",
              "key               0.006317     -0.016293  ...  0.014373      0.007157\n",
              "liveness          0.005816      0.004445  ... -0.069227     -0.076074\n",
              "loudness          0.007774     -0.594261  ...  0.553669      0.114661\n",
              "speechiness      -0.000212     -0.111683  ...  0.058074     -0.095652\n",
              "tempo             0.005690     -0.226805  ...  0.127825      0.005905\n",
              "valence          -0.001332     -0.130948  ... -0.105617     -0.176669\n",
              "year              0.015516     -0.536437  ...  1.000000      0.171717\n",
              "duration-min      0.005706     -0.221048  ...  0.171717      1.000000\n",
              "\n",
              "[13 rows x 13 columns]"
            ]
          },
          "metadata": {
            "tags": []
          },
          "execution_count": 18
        }
      ]
    },
    {
      "cell_type": "code",
      "metadata": {
        "id": "oOlQxwNo_aQg"
      },
      "source": [
        "spearman_coeffs_matrix.to_csv('/content/drive/MyDrive/OPEN IIT/corr_data.csv')"
      ],
      "execution_count": null,
      "outputs": []
    },
    {
      "cell_type": "code",
      "metadata": {
        "colab": {
          "base_uri": "https://localhost:8080/"
        },
        "id": "HMgcMdkucV4-",
        "outputId": "dcdda435-e622-4929-92d8-3d93d27e2da9"
      },
      "source": [
        "from scipy.stats import spearmanr\n",
        "coef, _= spearmanr(df['mode*tempo'], df['popularity'])\n",
        "print('mode*tempo' +': %f' % coef) "
      ],
      "execution_count": null,
      "outputs": [
        {
          "output_type": "stream",
          "text": [
            "mode*tempo: -0.027774\n"
          ],
          "name": "stdout"
        }
      ]
    },
    {
      "cell_type": "code",
      "metadata": {
        "colab": {
          "base_uri": "https://localhost:8080/",
          "height": 296
        },
        "id": "OFvJmrzIeuNS",
        "outputId": "898c2af7-71d2-48dc-9d7a-9c23eedbaabf"
      },
      "source": [
        "import pandas as pd \n",
        "import matplotlib.pyplot as plt\n",
        "import seaborn as sns\n",
        "sns.histplot(data=df, x=\"popularity\", )"
      ],
      "execution_count": null,
      "outputs": [
        {
          "output_type": "execute_result",
          "data": {
            "text/plain": [
              "<matplotlib.axes._subplots.AxesSubplot at 0x7fafa18db350>"
            ]
          },
          "metadata": {
            "tags": []
          },
          "execution_count": 5
        },
        {
          "output_type": "display_data",
          "data": {
            "image/png": "[encoded data removed]",
            "text/plain": [
              "<Figure size 432x288 with 1 Axes>"
            ]
          },
          "metadata": {
            "tags": [],
            "needs_background": "light"
          }
        }
      ]
    },
    {
      "cell_type": "code",
      "metadata": {
        "colab": {
          "base_uri": "https://localhost:8080/",
          "height": 574
        },
        "id": "PHUP9TORfuz4",
        "outputId": "6e98369f-888f-40bb-b77c-7f7a8dfa6cd1"
      },
      "source": [
        "%matplotlib inline\n",
        "sns.set(style='whitegrid')\n",
        "sns.set(rc={'figure.figsize':(15,9)})\n",
        "sns.histplot(\n",
        "    df, x=\"year\", hue=\"popularity\", element=\"step\",\n",
        "    stat=\"density\", common_norm=False,\n",
        ")"
      ],
      "execution_count": null,
      "outputs": [
        {
          "output_type": "execute_result",
          "data": {
            "text/plain": [
              "<matplotlib.axes._subplots.AxesSubplot at 0x7faf9f8c39d0>"
            ]
          },
          "metadata": {
            "tags": []
          },
          "execution_count": 7
        },
        {
          "output_type": "display_data",
          "data": {
            "image/png": "[encoded data removed]",
            "text/plain": [
              "<Figure size 1080x648 with 1 Axes>"
            ]
          },
          "metadata": {
            "tags": []
          }
        }
      ]
    },
    {
      "cell_type": "code",
      "metadata": {
        "colab": {
          "base_uri": "https://localhost:8080/",
          "height": 574
        },
        "id": "yHlkSbOxgjHL",
        "outputId": "32407714-fcd3-4c0f-9cb2-670a9b106744"
      },
      "source": [
        "%matplotlib inline\n",
        "sns.set(style='whitegrid')\n",
        "sns.set(rc={'figure.figsize':(15,9)})\n",
        "sns.histplot(\n",
        "    df, x=\"mode\", hue=\"popularity\", element=\"bars\",\n",
        "    stat=\"density\", common_norm=False,\n",
        ")"
      ],
      "execution_count": null,
      "outputs": [
        {
          "output_type": "execute_result",
          "data": {
            "text/plain": [
              "<matplotlib.axes._subplots.AxesSubplot at 0x7faf9f724050>"
            ]
          },
          "metadata": {
            "tags": []
          },
          "execution_count": 9
        },
        {
          "output_type": "display_data",
          "data": {
            "image/png": "[encoded data removed]",
            "text/plain": [
              "<Figure size 1080x648 with 1 Axes>"
            ]
          },
          "metadata": {
            "tags": []
          }
        }
      ]
    },
    {
      "cell_type": "code",
      "metadata": {
        "colab": {
          "base_uri": "https://localhost:8080/",
          "height": 232
        },
        "id": "8yQJCi8Yg-nC",
        "outputId": "161636b8-cdc6-4197-b35a-6733cf340d4e"
      },
      "source": [
        "df['month'] = pd.DatetimeIndex(df['release_date']).month\n",
        "df2=df.sort_values(by=['month'])\n",
        "df2.head()"
      ],
      "execution_count": null,
      "outputs": [
        {
          "output_type": "execute_result",
          "data": {
            "text/html": [
              "<div>\n",
              "<style scoped>\n",
              "    .dataframe tbody tr th:only-of-type {\n",
              "        vertical-align: middle;\n",
              "    }\n",
              "\n",
              "    .dataframe tbody tr th {\n",
              "        vertical-align: top;\n",
              "    }\n",
              "\n",
              "    .dataframe thead th {\n",
              "        text-align: right;\n",
              "    }\n",
              "</style>\n",
              "<table border=\"1\" class=\"dataframe\">\n",
              "  <thead>\n",
              "    <tr style=\"text-align: right;\">\n",
              "      <th></th>\n",
              "      <th>id</th>\n",
              "      <th>acousticness</th>\n",
              "      <th>danceability</th>\n",
              "      <th>energy</th>\n",
              "      <th>explicit</th>\n",
              "      <th>instrumentalness</th>\n",
              "      <th>key</th>\n",
              "      <th>liveness</th>\n",
              "      <th>loudness</th>\n",
              "      <th>mode</th>\n",
              "      <th>release_date</th>\n",
              "      <th>speechiness</th>\n",
              "      <th>tempo</th>\n",
              "      <th>valence</th>\n",
              "      <th>year</th>\n",
              "      <th>duration-min</th>\n",
              "      <th>popularity</th>\n",
              "      <th>mode*tempo</th>\n",
              "      <th>month</th>\n",
              "      <th>month_name</th>\n",
              "    </tr>\n",
              "  </thead>\n",
              "  <tbody>\n",
              "    <tr>\n",
              "      <th>0</th>\n",
              "      <td>2015</td>\n",
              "      <td>0.949</td>\n",
              "      <td>0.235</td>\n",
              "      <td>0.0276</td>\n",
              "      <td>No</td>\n",
              "      <td>0.9270</td>\n",
              "      <td>5</td>\n",
              "      <td>0.5130</td>\n",
              "      <td>-27.398</td>\n",
              "      <td>Major</td>\n",
              "      <td>01-01-1947</td>\n",
              "      <td>0.0381</td>\n",
              "      <td>110.838</td>\n",
              "      <td>0.0398</td>\n",
              "      <td>1947</td>\n",
              "      <td>3.0</td>\n",
              "      <td>very low</td>\n",
              "      <td>110.838</td>\n",
              "      <td>1</td>\n",
              "      <td>January</td>\n",
              "    </tr>\n",
              "    <tr>\n",
              "      <th>6844</th>\n",
              "      <td>914</td>\n",
              "      <td>0.964</td>\n",
              "      <td>0.350</td>\n",
              "      <td>0.0972</td>\n",
              "      <td>No</td>\n",
              "      <td>0.0072</td>\n",
              "      <td>0</td>\n",
              "      <td>0.0983</td>\n",
              "      <td>-17.980</td>\n",
              "      <td>Minor</td>\n",
              "      <td>01-11-1967</td>\n",
              "      <td>0.0392</td>\n",
              "      <td>105.311</td>\n",
              "      <td>0.1780</td>\n",
              "      <td>1967</td>\n",
              "      <td>2.2</td>\n",
              "      <td>low</td>\n",
              "      <td>-105.311</td>\n",
              "      <td>1</td>\n",
              "      <td>January</td>\n",
              "    </tr>\n",
              "    <tr>\n",
              "      <th>6843</th>\n",
              "      <td>3556</td>\n",
              "      <td>0.948</td>\n",
              "      <td>0.328</td>\n",
              "      <td>0.5250</td>\n",
              "      <td>No</td>\n",
              "      <td>0.9410</td>\n",
              "      <td>5</td>\n",
              "      <td>0.1980</td>\n",
              "      <td>-14.025</td>\n",
              "      <td>Major</td>\n",
              "      <td>01-01-1948</td>\n",
              "      <td>0.0458</td>\n",
              "      <td>79.851</td>\n",
              "      <td>0.2660</td>\n",
              "      <td>1948</td>\n",
              "      <td>1.4</td>\n",
              "      <td>very low</td>\n",
              "      <td>79.851</td>\n",
              "      <td>1</td>\n",
              "      <td>January</td>\n",
              "    </tr>\n",
              "    <tr>\n",
              "      <th>6842</th>\n",
              "      <td>8191</td>\n",
              "      <td>0.783</td>\n",
              "      <td>0.618</td>\n",
              "      <td>0.2730</td>\n",
              "      <td>No</td>\n",
              "      <td>0.1960</td>\n",
              "      <td>0</td>\n",
              "      <td>0.1080</td>\n",
              "      <td>-9.242</td>\n",
              "      <td>Major</td>\n",
              "      <td>01-01-1963</td>\n",
              "      <td>0.0324</td>\n",
              "      <td>80.493</td>\n",
              "      <td>0.5030</td>\n",
              "      <td>1963</td>\n",
              "      <td>3.3</td>\n",
              "      <td>low</td>\n",
              "      <td>80.493</td>\n",
              "      <td>1</td>\n",
              "      <td>January</td>\n",
              "    </tr>\n",
              "    <tr>\n",
              "      <th>6840</th>\n",
              "      <td>13333</td>\n",
              "      <td>0.269</td>\n",
              "      <td>0.673</td>\n",
              "      <td>0.6870</td>\n",
              "      <td>Yes</td>\n",
              "      <td>0.0000</td>\n",
              "      <td>6</td>\n",
              "      <td>0.1810</td>\n",
              "      <td>-5.295</td>\n",
              "      <td>Minor</td>\n",
              "      <td>01-03-2019</td>\n",
              "      <td>0.0623</td>\n",
              "      <td>96.964</td>\n",
              "      <td>0.5240</td>\n",
              "      <td>2019</td>\n",
              "      <td>3.5</td>\n",
              "      <td>high</td>\n",
              "      <td>-96.964</td>\n",
              "      <td>1</td>\n",
              "      <td>January</td>\n",
              "    </tr>\n",
              "  </tbody>\n",
              "</table>\n",
              "</div>"
            ],
            "text/plain": [
              "         id  acousticness  danceability  ...  mode*tempo month  month_name\n",
              "0      2015         0.949         0.235  ...     110.838     1     January\n",
              "6844    914         0.964         0.350  ...    -105.311     1     January\n",
              "6843   3556         0.948         0.328  ...      79.851     1     January\n",
              "6842   8191         0.783         0.618  ...      80.493     1     January\n",
              "6840  13333         0.269         0.673  ...     -96.964     1     January\n",
              "\n",
              "[5 rows x 20 columns]"
            ]
          },
          "metadata": {
            "tags": []
          },
          "execution_count": 18
        }
      ]
    },
    {
      "cell_type": "code",
      "metadata": {
        "colab": {
          "base_uri": "https://localhost:8080/",
          "height": 574
        },
        "id": "D_7uUHGci5s4",
        "outputId": "b477302c-3799-45d0-a2f7-17552dd803e3"
      },
      "source": [
        "import pandas as pd \n",
        "import matplotlib.pyplot as plt\n",
        "import seaborn as sns\n",
        "\n",
        "sns.histplot(data=df2, x=\"month_name\" )"
      ],
      "execution_count": null,
      "outputs": [
        {
          "output_type": "execute_result",
          "data": {
            "text/plain": [
              "<matplotlib.axes._subplots.AxesSubplot at 0x7faf9f2bd450>"
            ]
          },
          "metadata": {
            "tags": []
          },
          "execution_count": 19
        },
        {
          "output_type": "display_data",
          "data": {
            "image/png": "[encoded data removed]",
            "text/plain": [
              "<Figure size 1080x648 with 1 Axes>"
            ]
          },
          "metadata": {
            "tags": []
          }
        }
      ]
    },
    {
      "cell_type": "code",
      "metadata": {
        "colab": {
          "base_uri": "https://localhost:8080/",
          "height": 574
        },
        "id": "lKLKqKPhjPe5",
        "outputId": "b727c286-27a9-4558-c838-e8fd2c75af4d"
      },
      "source": [
        "%matplotlib inline\n",
        "sns.set(style='whitegrid')\n",
        "sns.set(rc={'figure.figsize':(15,9)})\n",
        "sns.histplot(\n",
        "    df2, x=\"month_name\", hue=\"popularity\", element=\"bars\",\n",
        "    stat=\"density\", common_norm=False,\n",
        ")"
      ],
      "execution_count": null,
      "outputs": [
        {
          "output_type": "execute_result",
          "data": {
            "text/plain": [
              "<matplotlib.axes._subplots.AxesSubplot at 0x7faf9f0e5c50>"
            ]
          },
          "metadata": {
            "tags": []
          },
          "execution_count": 21
        },
        {
          "output_type": "display_data",
          "data": {
            "image/png": "[encoded data removed]",
            "text/plain": [
              "<Figure size 1080x648 with 1 Axes>"
            ]
          },
          "metadata": {
            "tags": []
          }
        }
      ]
    },
    {
      "cell_type": "code",
      "metadata": {
        "id": "M9MrAbP3nS5y"
      },
      "source": [
        ""
      ],
      "execution_count": null,
      "outputs": []
    },
    {
      "cell_type": "code",
      "metadata": {
        "colab": {
          "base_uri": "https://localhost:8080/",
          "height": 232
        },
        "id": "udn5ZIsojoLm",
        "outputId": "e9eea2ac-95a4-4b43-f4b1-efbc65540ee5"
      },
      "source": [
        "df['month_name'] = pd.DatetimeIndex(df['release_date']).month_name()\n",
        "df['month_name'] = pd.DatetimeIndex(df['release_date']).month_name()\n",
        "df.head()"
      ],
      "execution_count": null,
      "outputs": [
        {
          "output_type": "execute_result",
          "data": {
            "text/html": [
              "<div>\n",
              "<style scoped>\n",
              "    .dataframe tbody tr th:only-of-type {\n",
              "        vertical-align: middle;\n",
              "    }\n",
              "\n",
              "    .dataframe tbody tr th {\n",
              "        vertical-align: top;\n",
              "    }\n",
              "\n",
              "    .dataframe thead th {\n",
              "        text-align: right;\n",
              "    }\n",
              "</style>\n",
              "<table border=\"1\" class=\"dataframe\">\n",
              "  <thead>\n",
              "    <tr style=\"text-align: right;\">\n",
              "      <th></th>\n",
              "      <th>id</th>\n",
              "      <th>acousticness</th>\n",
              "      <th>danceability</th>\n",
              "      <th>energy</th>\n",
              "      <th>explicit</th>\n",
              "      <th>instrumentalness</th>\n",
              "      <th>key</th>\n",
              "      <th>liveness</th>\n",
              "      <th>loudness</th>\n",
              "      <th>mode</th>\n",
              "      <th>release_date</th>\n",
              "      <th>speechiness</th>\n",
              "      <th>tempo</th>\n",
              "      <th>valence</th>\n",
              "      <th>year</th>\n",
              "      <th>duration-min</th>\n",
              "      <th>popularity</th>\n",
              "      <th>mode*tempo</th>\n",
              "      <th>month</th>\n",
              "      <th>month_name</th>\n",
              "    </tr>\n",
              "  </thead>\n",
              "  <tbody>\n",
              "    <tr>\n",
              "      <th>0</th>\n",
              "      <td>2015</td>\n",
              "      <td>0.949</td>\n",
              "      <td>0.235</td>\n",
              "      <td>0.0276</td>\n",
              "      <td>No</td>\n",
              "      <td>0.9270</td>\n",
              "      <td>5</td>\n",
              "      <td>0.513</td>\n",
              "      <td>-27.398</td>\n",
              "      <td>Major</td>\n",
              "      <td>01-01-1947</td>\n",
              "      <td>0.0381</td>\n",
              "      <td>110.838</td>\n",
              "      <td>0.0398</td>\n",
              "      <td>1947</td>\n",
              "      <td>3.0</td>\n",
              "      <td>very low</td>\n",
              "      <td>110.838</td>\n",
              "      <td>1</td>\n",
              "      <td>January</td>\n",
              "    </tr>\n",
              "    <tr>\n",
              "      <th>1</th>\n",
              "      <td>15901</td>\n",
              "      <td>0.855</td>\n",
              "      <td>0.456</td>\n",
              "      <td>0.4850</td>\n",
              "      <td>No</td>\n",
              "      <td>0.0884</td>\n",
              "      <td>4</td>\n",
              "      <td>0.151</td>\n",
              "      <td>-10.046</td>\n",
              "      <td>Major</td>\n",
              "      <td>13-11-2020</td>\n",
              "      <td>0.0437</td>\n",
              "      <td>152.066</td>\n",
              "      <td>0.8590</td>\n",
              "      <td>2020</td>\n",
              "      <td>2.4</td>\n",
              "      <td>low</td>\n",
              "      <td>152.066</td>\n",
              "      <td>11</td>\n",
              "      <td>November</td>\n",
              "    </tr>\n",
              "    <tr>\n",
              "      <th>2</th>\n",
              "      <td>9002</td>\n",
              "      <td>0.827</td>\n",
              "      <td>0.495</td>\n",
              "      <td>0.4990</td>\n",
              "      <td>No</td>\n",
              "      <td>0.0000</td>\n",
              "      <td>0</td>\n",
              "      <td>0.401</td>\n",
              "      <td>-8.009</td>\n",
              "      <td>Minor</td>\n",
              "      <td>01-01-1950</td>\n",
              "      <td>0.0474</td>\n",
              "      <td>108.004</td>\n",
              "      <td>0.7090</td>\n",
              "      <td>1950</td>\n",
              "      <td>2.6</td>\n",
              "      <td>very low</td>\n",
              "      <td>-108.004</td>\n",
              "      <td>1</td>\n",
              "      <td>January</td>\n",
              "    </tr>\n",
              "    <tr>\n",
              "      <th>3</th>\n",
              "      <td>6734</td>\n",
              "      <td>0.654</td>\n",
              "      <td>0.643</td>\n",
              "      <td>0.4690</td>\n",
              "      <td>No</td>\n",
              "      <td>0.1080</td>\n",
              "      <td>7</td>\n",
              "      <td>0.218</td>\n",
              "      <td>-15.917</td>\n",
              "      <td>Major</td>\n",
              "      <td>30-04-1974</td>\n",
              "      <td>0.0368</td>\n",
              "      <td>83.636</td>\n",
              "      <td>0.9640</td>\n",
              "      <td>1974</td>\n",
              "      <td>2.4</td>\n",
              "      <td>low</td>\n",
              "      <td>83.636</td>\n",
              "      <td>4</td>\n",
              "      <td>April</td>\n",
              "    </tr>\n",
              "    <tr>\n",
              "      <th>4</th>\n",
              "      <td>15563</td>\n",
              "      <td>0.738</td>\n",
              "      <td>0.705</td>\n",
              "      <td>0.3110</td>\n",
              "      <td>No</td>\n",
              "      <td>0.0000</td>\n",
              "      <td>5</td>\n",
              "      <td>0.322</td>\n",
              "      <td>-12.344</td>\n",
              "      <td>Major</td>\n",
              "      <td>01-01-1973</td>\n",
              "      <td>0.0488</td>\n",
              "      <td>117.260</td>\n",
              "      <td>0.7850</td>\n",
              "      <td>1973</td>\n",
              "      <td>3.4</td>\n",
              "      <td>average</td>\n",
              "      <td>117.260</td>\n",
              "      <td>1</td>\n",
              "      <td>January</td>\n",
              "    </tr>\n",
              "  </tbody>\n",
              "</table>\n",
              "</div>"
            ],
            "text/plain": [
              "      id  acousticness  danceability  ...  mode*tempo month  month_name\n",
              "0   2015         0.949         0.235  ...     110.838     1     January\n",
              "1  15901         0.855         0.456  ...     152.066    11    November\n",
              "2   9002         0.827         0.495  ...    -108.004     1     January\n",
              "3   6734         0.654         0.643  ...      83.636     4       April\n",
              "4  15563         0.738         0.705  ...     117.260     1     January\n",
              "\n",
              "[5 rows x 20 columns]"
            ]
          },
          "metadata": {
            "tags": []
          },
          "execution_count": 14
        }
      ]
    },
    {
      "cell_type": "code",
      "metadata": {
        "id": "fL_d8L3EnUUw"
      },
      "source": [
        "df.to_csv('/content/drive/MyDrive/OPEN IIT/train2.csv')"
      ],
      "execution_count": null,
      "outputs": []
    },
    {
      "cell_type": "code",
      "metadata": {
        "id": "rwqgZcHgaAtg"
      },
      "source": [
        ""
      ],
      "execution_count": null,
      "outputs": []
    },
    {
      "cell_type": "code",
      "metadata": {
        "id": "DaUZDpChqkyS"
      },
      "source": [
        "import matplotlib.pyplot as plt\n",
        "from kneed import KneeLocator\n",
        "from sklearn.datasets import make_blobs\n",
        "from sklearn.cluster import KMeans\n",
        "from sklearn.metrics import silhouette_score\n",
        "from sklearn.preprocessing import StandardScaler\n"
      ],
      "execution_count": null,
      "outputs": []
    },
    {
      "cell_type": "code",
      "metadata": {
        "id": "pDhhlHt7P-Fi"
      },
      "source": [
        "df['year>=2000'] = df['year'].apply(lambda x: 1 if x>=2000 else 0)"
      ],
      "execution_count": null,
      "outputs": []
    },
    {
      "cell_type": "code",
      "metadata": {
        "colab": {
          "base_uri": "https://localhost:8080/",
          "height": 232
        },
        "id": "muaxVbI3Qedq",
        "outputId": "ef23d5b2-63b5-42a7-b5bb-69a0d741ea6c"
      },
      "source": [
        "df.head()"
      ],
      "execution_count": null,
      "outputs": [
        {
          "output_type": "execute_result",
          "data": {
            "text/html": [
              "<div>\n",
              "<style scoped>\n",
              "    .dataframe tbody tr th:only-of-type {\n",
              "        vertical-align: middle;\n",
              "    }\n",
              "\n",
              "    .dataframe tbody tr th {\n",
              "        vertical-align: top;\n",
              "    }\n",
              "\n",
              "    .dataframe thead th {\n",
              "        text-align: right;\n",
              "    }\n",
              "</style>\n",
              "<table border=\"1\" class=\"dataframe\">\n",
              "  <thead>\n",
              "    <tr style=\"text-align: right;\">\n",
              "      <th></th>\n",
              "      <th>Unnamed: 0</th>\n",
              "      <th>id</th>\n",
              "      <th>acousticness</th>\n",
              "      <th>danceability</th>\n",
              "      <th>energy</th>\n",
              "      <th>explicit</th>\n",
              "      <th>instrumentalness</th>\n",
              "      <th>key</th>\n",
              "      <th>liveness</th>\n",
              "      <th>loudness</th>\n",
              "      <th>mode</th>\n",
              "      <th>release_date</th>\n",
              "      <th>speechiness</th>\n",
              "      <th>tempo</th>\n",
              "      <th>valence</th>\n",
              "      <th>year</th>\n",
              "      <th>duration-min</th>\n",
              "      <th>popularity</th>\n",
              "      <th>mode*tempo</th>\n",
              "      <th>month</th>\n",
              "      <th>month_name</th>\n",
              "      <th>year&gt;=2000</th>\n",
              "    </tr>\n",
              "  </thead>\n",
              "  <tbody>\n",
              "    <tr>\n",
              "      <th>0</th>\n",
              "      <td>0</td>\n",
              "      <td>2015</td>\n",
              "      <td>0.949</td>\n",
              "      <td>0.235</td>\n",
              "      <td>0.0276</td>\n",
              "      <td>No</td>\n",
              "      <td>0.9270</td>\n",
              "      <td>5</td>\n",
              "      <td>0.513</td>\n",
              "      <td>-27.398</td>\n",
              "      <td>Major</td>\n",
              "      <td>01-01-1947</td>\n",
              "      <td>0.0381</td>\n",
              "      <td>110.838</td>\n",
              "      <td>0.0398</td>\n",
              "      <td>1947</td>\n",
              "      <td>3.0</td>\n",
              "      <td>very low</td>\n",
              "      <td>110.838</td>\n",
              "      <td>1</td>\n",
              "      <td>January</td>\n",
              "      <td>0</td>\n",
              "    </tr>\n",
              "    <tr>\n",
              "      <th>1</th>\n",
              "      <td>1</td>\n",
              "      <td>15901</td>\n",
              "      <td>0.855</td>\n",
              "      <td>0.456</td>\n",
              "      <td>0.4850</td>\n",
              "      <td>No</td>\n",
              "      <td>0.0884</td>\n",
              "      <td>4</td>\n",
              "      <td>0.151</td>\n",
              "      <td>-10.046</td>\n",
              "      <td>Major</td>\n",
              "      <td>13-11-2020</td>\n",
              "      <td>0.0437</td>\n",
              "      <td>152.066</td>\n",
              "      <td>0.8590</td>\n",
              "      <td>2020</td>\n",
              "      <td>2.4</td>\n",
              "      <td>low</td>\n",
              "      <td>152.066</td>\n",
              "      <td>11</td>\n",
              "      <td>November</td>\n",
              "      <td>1</td>\n",
              "    </tr>\n",
              "    <tr>\n",
              "      <th>2</th>\n",
              "      <td>2</td>\n",
              "      <td>9002</td>\n",
              "      <td>0.827</td>\n",
              "      <td>0.495</td>\n",
              "      <td>0.4990</td>\n",
              "      <td>No</td>\n",
              "      <td>0.0000</td>\n",
              "      <td>0</td>\n",
              "      <td>0.401</td>\n",
              "      <td>-8.009</td>\n",
              "      <td>Minor</td>\n",
              "      <td>01-01-1950</td>\n",
              "      <td>0.0474</td>\n",
              "      <td>108.004</td>\n",
              "      <td>0.7090</td>\n",
              "      <td>1950</td>\n",
              "      <td>2.6</td>\n",
              "      <td>very low</td>\n",
              "      <td>-108.004</td>\n",
              "      <td>1</td>\n",
              "      <td>January</td>\n",
              "      <td>0</td>\n",
              "    </tr>\n",
              "    <tr>\n",
              "      <th>3</th>\n",
              "      <td>3</td>\n",
              "      <td>6734</td>\n",
              "      <td>0.654</td>\n",
              "      <td>0.643</td>\n",
              "      <td>0.4690</td>\n",
              "      <td>No</td>\n",
              "      <td>0.1080</td>\n",
              "      <td>7</td>\n",
              "      <td>0.218</td>\n",
              "      <td>-15.917</td>\n",
              "      <td>Major</td>\n",
              "      <td>30-04-1974</td>\n",
              "      <td>0.0368</td>\n",
              "      <td>83.636</td>\n",
              "      <td>0.9640</td>\n",
              "      <td>1974</td>\n",
              "      <td>2.4</td>\n",
              "      <td>low</td>\n",
              "      <td>83.636</td>\n",
              "      <td>4</td>\n",
              "      <td>April</td>\n",
              "      <td>0</td>\n",
              "    </tr>\n",
              "    <tr>\n",
              "      <th>4</th>\n",
              "      <td>4</td>\n",
              "      <td>15563</td>\n",
              "      <td>0.738</td>\n",
              "      <td>0.705</td>\n",
              "      <td>0.3110</td>\n",
              "      <td>No</td>\n",
              "      <td>0.0000</td>\n",
              "      <td>5</td>\n",
              "      <td>0.322</td>\n",
              "      <td>-12.344</td>\n",
              "      <td>Major</td>\n",
              "      <td>01-01-1973</td>\n",
              "      <td>0.0488</td>\n",
              "      <td>117.260</td>\n",
              "      <td>0.7850</td>\n",
              "      <td>1973</td>\n",
              "      <td>3.4</td>\n",
              "      <td>average</td>\n",
              "      <td>117.260</td>\n",
              "      <td>1</td>\n",
              "      <td>January</td>\n",
              "      <td>0</td>\n",
              "    </tr>\n",
              "  </tbody>\n",
              "</table>\n",
              "</div>"
            ],
            "text/plain": [
              "   Unnamed: 0     id  acousticness  ...  month  month_name year>=2000\n",
              "0           0   2015         0.949  ...      1     January          0\n",
              "1           1  15901         0.855  ...     11    November          1\n",
              "2           2   9002         0.827  ...      1     January          0\n",
              "3           3   6734         0.654  ...      4       April          0\n",
              "4           4  15563         0.738  ...      1     January          0\n",
              "\n",
              "[5 rows x 22 columns]"
            ]
          },
          "metadata": {
            "tags": []
          },
          "execution_count": 5
        }
      ]
    },
    {
      "cell_type": "code",
      "metadata": {
        "colab": {
          "base_uri": "https://localhost:8080/"
        },
        "id": "ewWl9LBrQtRu",
        "outputId": "4543e618-9bb5-4dcd-bacd-1aef2da12271"
      },
      "source": [
        " corr, _= spearmanr(df['year<=1960'], df['popularity']) \n",
        "print(' year<=2000: %.5f' % corr) "
      ],
      "execution_count": null,
      "outputs": [
        {
          "output_type": "stream",
          "text": [
            " year<=2000: 0.56885\n"
          ],
          "name": "stdout"
        }
      ]
    },
    {
      "cell_type": "code",
      "metadata": {
        "id": "L8InNmJfRSuV"
      },
      "source": [
        "df['year<=1960'] = df['year'].apply(lambda x: 1 if x<=1960 else 0)"
      ],
      "execution_count": null,
      "outputs": []
    },
    {
      "cell_type": "code",
      "metadata": {
        "id": "X2ZrrX2iRwQR"
      },
      "source": [
        "df['year<=1980'] = df['year'].apply(lambda x: 1 if x<=1980 and x>1960 else 0)"
      ],
      "execution_count": null,
      "outputs": []
    },
    {
      "cell_type": "code",
      "metadata": {
        "id": "8se50DMHR6Zb"
      },
      "source": [
        "df['year<=2000'] = df['year'].apply(lambda x: 1 if x<=2000 and x>1980 else 0)"
      ],
      "execution_count": null,
      "outputs": []
    },
    {
      "cell_type": "code",
      "metadata": {
        "id": "lRMI2Q-8SDwP"
      },
      "source": [
        "df['year<=2010'] = df['year'].apply(lambda x: 1 if x<=2010 and x>2000 else 0)\n",
        "df['year<=2020'] = df['year'].apply(lambda x: 1 if x<=2020 and x>2010 else 0)"
      ],
      "execution_count": null,
      "outputs": []
    },
    {
      "cell_type": "code",
      "metadata": {
        "colab": {
          "base_uri": "https://localhost:8080/",
          "height": 232
        },
        "id": "3KHiht-eSPTe",
        "outputId": "240392ef-6082-47e4-adb1-0f8574ff9a2b"
      },
      "source": [
        "df.head()"
      ],
      "execution_count": null,
      "outputs": [
        {
          "output_type": "execute_result",
          "data": {
            "text/html": [
              "<div>\n",
              "<style scoped>\n",
              "    .dataframe tbody tr th:only-of-type {\n",
              "        vertical-align: middle;\n",
              "    }\n",
              "\n",
              "    .dataframe tbody tr th {\n",
              "        vertical-align: top;\n",
              "    }\n",
              "\n",
              "    .dataframe thead th {\n",
              "        text-align: right;\n",
              "    }\n",
              "</style>\n",
              "<table border=\"1\" class=\"dataframe\">\n",
              "  <thead>\n",
              "    <tr style=\"text-align: right;\">\n",
              "      <th></th>\n",
              "      <th>Unnamed: 0</th>\n",
              "      <th>id</th>\n",
              "      <th>acousticness</th>\n",
              "      <th>danceability</th>\n",
              "      <th>energy</th>\n",
              "      <th>explicit</th>\n",
              "      <th>instrumentalness</th>\n",
              "      <th>key</th>\n",
              "      <th>liveness</th>\n",
              "      <th>loudness</th>\n",
              "      <th>mode</th>\n",
              "      <th>release_date</th>\n",
              "      <th>speechiness</th>\n",
              "      <th>tempo</th>\n",
              "      <th>valence</th>\n",
              "      <th>year</th>\n",
              "      <th>duration-min</th>\n",
              "      <th>popularity</th>\n",
              "      <th>mode*tempo</th>\n",
              "      <th>month</th>\n",
              "      <th>month_name</th>\n",
              "      <th>year&gt;=2000</th>\n",
              "      <th>year&lt;=1960</th>\n",
              "      <th>year&lt;=1980</th>\n",
              "      <th>year&lt;=2000</th>\n",
              "      <th>year&lt;=2010</th>\n",
              "      <th>year&lt;=2020</th>\n",
              "    </tr>\n",
              "  </thead>\n",
              "  <tbody>\n",
              "    <tr>\n",
              "      <th>0</th>\n",
              "      <td>0</td>\n",
              "      <td>2015</td>\n",
              "      <td>0.949</td>\n",
              "      <td>0.235</td>\n",
              "      <td>0.0276</td>\n",
              "      <td>0</td>\n",
              "      <td>0.9270</td>\n",
              "      <td>5</td>\n",
              "      <td>0.513</td>\n",
              "      <td>-27.398</td>\n",
              "      <td>Major</td>\n",
              "      <td>01-01-1947</td>\n",
              "      <td>0.0381</td>\n",
              "      <td>110.838</td>\n",
              "      <td>0.0398</td>\n",
              "      <td>1947</td>\n",
              "      <td>3.0</td>\n",
              "      <td>very low</td>\n",
              "      <td>110.838</td>\n",
              "      <td>1</td>\n",
              "      <td>January</td>\n",
              "      <td>0</td>\n",
              "      <td>1</td>\n",
              "      <td>0</td>\n",
              "      <td>0</td>\n",
              "      <td>0</td>\n",
              "      <td>0</td>\n",
              "    </tr>\n",
              "    <tr>\n",
              "      <th>1</th>\n",
              "      <td>1</td>\n",
              "      <td>15901</td>\n",
              "      <td>0.855</td>\n",
              "      <td>0.456</td>\n",
              "      <td>0.4850</td>\n",
              "      <td>0</td>\n",
              "      <td>0.0884</td>\n",
              "      <td>4</td>\n",
              "      <td>0.151</td>\n",
              "      <td>-10.046</td>\n",
              "      <td>Major</td>\n",
              "      <td>13-11-2020</td>\n",
              "      <td>0.0437</td>\n",
              "      <td>152.066</td>\n",
              "      <td>0.8590</td>\n",
              "      <td>2020</td>\n",
              "      <td>2.4</td>\n",
              "      <td>low</td>\n",
              "      <td>152.066</td>\n",
              "      <td>11</td>\n",
              "      <td>November</td>\n",
              "      <td>1</td>\n",
              "      <td>0</td>\n",
              "      <td>0</td>\n",
              "      <td>0</td>\n",
              "      <td>0</td>\n",
              "      <td>1</td>\n",
              "    </tr>\n",
              "    <tr>\n",
              "      <th>2</th>\n",
              "      <td>2</td>\n",
              "      <td>9002</td>\n",
              "      <td>0.827</td>\n",
              "      <td>0.495</td>\n",
              "      <td>0.4990</td>\n",
              "      <td>0</td>\n",
              "      <td>0.0000</td>\n",
              "      <td>0</td>\n",
              "      <td>0.401</td>\n",
              "      <td>-8.009</td>\n",
              "      <td>Minor</td>\n",
              "      <td>01-01-1950</td>\n",
              "      <td>0.0474</td>\n",
              "      <td>108.004</td>\n",
              "      <td>0.7090</td>\n",
              "      <td>1950</td>\n",
              "      <td>2.6</td>\n",
              "      <td>very low</td>\n",
              "      <td>-108.004</td>\n",
              "      <td>1</td>\n",
              "      <td>January</td>\n",
              "      <td>0</td>\n",
              "      <td>1</td>\n",
              "      <td>0</td>\n",
              "      <td>0</td>\n",
              "      <td>0</td>\n",
              "      <td>0</td>\n",
              "    </tr>\n",
              "    <tr>\n",
              "      <th>3</th>\n",
              "      <td>3</td>\n",
              "      <td>6734</td>\n",
              "      <td>0.654</td>\n",
              "      <td>0.643</td>\n",
              "      <td>0.4690</td>\n",
              "      <td>0</td>\n",
              "      <td>0.1080</td>\n",
              "      <td>7</td>\n",
              "      <td>0.218</td>\n",
              "      <td>-15.917</td>\n",
              "      <td>Major</td>\n",
              "      <td>30-04-1974</td>\n",
              "      <td>0.0368</td>\n",
              "      <td>83.636</td>\n",
              "      <td>0.9640</td>\n",
              "      <td>1974</td>\n",
              "      <td>2.4</td>\n",
              "      <td>low</td>\n",
              "      <td>83.636</td>\n",
              "      <td>4</td>\n",
              "      <td>April</td>\n",
              "      <td>0</td>\n",
              "      <td>0</td>\n",
              "      <td>1</td>\n",
              "      <td>0</td>\n",
              "      <td>0</td>\n",
              "      <td>0</td>\n",
              "    </tr>\n",
              "    <tr>\n",
              "      <th>4</th>\n",
              "      <td>4</td>\n",
              "      <td>15563</td>\n",
              "      <td>0.738</td>\n",
              "      <td>0.705</td>\n",
              "      <td>0.3110</td>\n",
              "      <td>0</td>\n",
              "      <td>0.0000</td>\n",
              "      <td>5</td>\n",
              "      <td>0.322</td>\n",
              "      <td>-12.344</td>\n",
              "      <td>Major</td>\n",
              "      <td>01-01-1973</td>\n",
              "      <td>0.0488</td>\n",
              "      <td>117.260</td>\n",
              "      <td>0.7850</td>\n",
              "      <td>1973</td>\n",
              "      <td>3.4</td>\n",
              "      <td>average</td>\n",
              "      <td>117.260</td>\n",
              "      <td>1</td>\n",
              "      <td>January</td>\n",
              "      <td>0</td>\n",
              "      <td>0</td>\n",
              "      <td>1</td>\n",
              "      <td>0</td>\n",
              "      <td>0</td>\n",
              "      <td>0</td>\n",
              "    </tr>\n",
              "  </tbody>\n",
              "</table>\n",
              "</div>"
            ],
            "text/plain": [
              "   Unnamed: 0     id  acousticness  ...  year<=2000  year<=2010  year<=2020\n",
              "0           0   2015         0.949  ...           0           0           0\n",
              "1           1  15901         0.855  ...           0           0           1\n",
              "2           2   9002         0.827  ...           0           0           0\n",
              "3           3   6734         0.654  ...           0           0           0\n",
              "4           4  15563         0.738  ...           0           0           0\n",
              "\n",
              "[5 rows x 27 columns]"
            ]
          },
          "metadata": {
            "tags": []
          },
          "execution_count": 21
        }
      ]
    },
    {
      "cell_type": "code",
      "metadata": {
        "id": "8bCeKC_haBnc"
      },
      "source": [
        "df['explicit']=df['explicit'].apply(lambda x: 0 if x==\"No\" else 1)"
      ],
      "execution_count": null,
      "outputs": []
    },
    {
      "cell_type": "code",
      "metadata": {
        "id": "vnjlDP-HbIJH",
        "colab": {
          "base_uri": "https://localhost:8080/"
        },
        "outputId": "9f12b5f4-42dd-4396-b752-3387d07772d7"
      },
      "source": [
        "df.columns"
      ],
      "execution_count": null,
      "outputs": [
        {
          "output_type": "execute_result",
          "data": {
            "text/plain": [
              "Index(['Unnamed: 0', 'id', 'acousticness', 'danceability', 'energy',\n",
              "       'explicit', 'instrumentalness', 'key', 'liveness', 'loudness', 'mode',\n",
              "       'release_date', 'speechiness', 'tempo', 'valence', 'year',\n",
              "       'duration-min', 'popularity', 'mode*tempo', 'month', 'month_name',\n",
              "       'year>=2000', 'year<=1960', 'year<=1980', 'year<=2000', 'year<=2010',\n",
              "       'year<=2020'],\n",
              "      dtype='object')"
            ]
          },
          "metadata": {
            "tags": []
          },
          "execution_count": 24
        }
      ]
    },
    {
      "cell_type": "code",
      "metadata": {
        "id": "9_XvJijYRtO8"
      },
      "source": [
        "target = {\n",
        "  \"very low\": 1,\n",
        "  \"low\": 2,\n",
        "  \"average\": 3,\n",
        "  \"high\": 4,\n",
        "  \"very high\": 5\n",
        "}\n",
        "df['regression_popularity']=df['popularity'].apply(lambda x: target[x])"
      ],
      "execution_count": null,
      "outputs": []
    },
    {
      "cell_type": "code",
      "metadata": {
        "colab": {
          "base_uri": "https://localhost:8080/",
          "height": 232
        },
        "id": "hHmAONu_SXBS",
        "outputId": "5ccd29fc-cc74-4eab-9351-0f7ae8a9161a"
      },
      "source": [
        "df.head()"
      ],
      "execution_count": null,
      "outputs": [
        {
          "output_type": "execute_result",
          "data": {
            "text/html": [
              "<div>\n",
              "<style scoped>\n",
              "    .dataframe tbody tr th:only-of-type {\n",
              "        vertical-align: middle;\n",
              "    }\n",
              "\n",
              "    .dataframe tbody tr th {\n",
              "        vertical-align: top;\n",
              "    }\n",
              "\n",
              "    .dataframe thead th {\n",
              "        text-align: right;\n",
              "    }\n",
              "</style>\n",
              "<table border=\"1\" class=\"dataframe\">\n",
              "  <thead>\n",
              "    <tr style=\"text-align: right;\">\n",
              "      <th></th>\n",
              "      <th>Unnamed: 0</th>\n",
              "      <th>Unnamed: 0.1</th>\n",
              "      <th>id</th>\n",
              "      <th>acousticness</th>\n",
              "      <th>danceability</th>\n",
              "      <th>energy</th>\n",
              "      <th>explicit</th>\n",
              "      <th>instrumentalness</th>\n",
              "      <th>key</th>\n",
              "      <th>liveness</th>\n",
              "      <th>loudness</th>\n",
              "      <th>mode</th>\n",
              "      <th>release_date</th>\n",
              "      <th>speechiness</th>\n",
              "      <th>tempo</th>\n",
              "      <th>valence</th>\n",
              "      <th>year</th>\n",
              "      <th>duration-min</th>\n",
              "      <th>popularity</th>\n",
              "      <th>mode*tempo</th>\n",
              "      <th>month</th>\n",
              "      <th>month_name</th>\n",
              "      <th>year&gt;=2000</th>\n",
              "      <th>year&lt;=1960</th>\n",
              "      <th>year&lt;=1980</th>\n",
              "      <th>year&lt;=2000</th>\n",
              "      <th>year&lt;=2010</th>\n",
              "      <th>year&lt;=2020</th>\n",
              "      <th>regression_popularity</th>\n",
              "    </tr>\n",
              "  </thead>\n",
              "  <tbody>\n",
              "    <tr>\n",
              "      <th>0</th>\n",
              "      <td>0</td>\n",
              "      <td>0</td>\n",
              "      <td>2015</td>\n",
              "      <td>0.949</td>\n",
              "      <td>0.235</td>\n",
              "      <td>0.0276</td>\n",
              "      <td>0</td>\n",
              "      <td>0.9270</td>\n",
              "      <td>5</td>\n",
              "      <td>0.513</td>\n",
              "      <td>-27.398</td>\n",
              "      <td>Major</td>\n",
              "      <td>01-01-1947</td>\n",
              "      <td>0.0381</td>\n",
              "      <td>110.838</td>\n",
              "      <td>0.0398</td>\n",
              "      <td>1947</td>\n",
              "      <td>3.0</td>\n",
              "      <td>very low</td>\n",
              "      <td>110.838</td>\n",
              "      <td>1</td>\n",
              "      <td>January</td>\n",
              "      <td>0</td>\n",
              "      <td>1</td>\n",
              "      <td>0</td>\n",
              "      <td>0</td>\n",
              "      <td>0</td>\n",
              "      <td>0</td>\n",
              "      <td>1</td>\n",
              "    </tr>\n",
              "    <tr>\n",
              "      <th>1</th>\n",
              "      <td>1</td>\n",
              "      <td>1</td>\n",
              "      <td>15901</td>\n",
              "      <td>0.855</td>\n",
              "      <td>0.456</td>\n",
              "      <td>0.4850</td>\n",
              "      <td>0</td>\n",
              "      <td>0.0884</td>\n",
              "      <td>4</td>\n",
              "      <td>0.151</td>\n",
              "      <td>-10.046</td>\n",
              "      <td>Major</td>\n",
              "      <td>13-11-2020</td>\n",
              "      <td>0.0437</td>\n",
              "      <td>152.066</td>\n",
              "      <td>0.8590</td>\n",
              "      <td>2020</td>\n",
              "      <td>2.4</td>\n",
              "      <td>low</td>\n",
              "      <td>152.066</td>\n",
              "      <td>11</td>\n",
              "      <td>November</td>\n",
              "      <td>1</td>\n",
              "      <td>0</td>\n",
              "      <td>0</td>\n",
              "      <td>0</td>\n",
              "      <td>0</td>\n",
              "      <td>1</td>\n",
              "      <td>2</td>\n",
              "    </tr>\n",
              "    <tr>\n",
              "      <th>2</th>\n",
              "      <td>2</td>\n",
              "      <td>2</td>\n",
              "      <td>9002</td>\n",
              "      <td>0.827</td>\n",
              "      <td>0.495</td>\n",
              "      <td>0.4990</td>\n",
              "      <td>0</td>\n",
              "      <td>0.0000</td>\n",
              "      <td>0</td>\n",
              "      <td>0.401</td>\n",
              "      <td>-8.009</td>\n",
              "      <td>Minor</td>\n",
              "      <td>01-01-1950</td>\n",
              "      <td>0.0474</td>\n",
              "      <td>108.004</td>\n",
              "      <td>0.7090</td>\n",
              "      <td>1950</td>\n",
              "      <td>2.6</td>\n",
              "      <td>very low</td>\n",
              "      <td>-108.004</td>\n",
              "      <td>1</td>\n",
              "      <td>January</td>\n",
              "      <td>0</td>\n",
              "      <td>1</td>\n",
              "      <td>0</td>\n",
              "      <td>0</td>\n",
              "      <td>0</td>\n",
              "      <td>0</td>\n",
              "      <td>1</td>\n",
              "    </tr>\n",
              "    <tr>\n",
              "      <th>3</th>\n",
              "      <td>3</td>\n",
              "      <td>3</td>\n",
              "      <td>6734</td>\n",
              "      <td>0.654</td>\n",
              "      <td>0.643</td>\n",
              "      <td>0.4690</td>\n",
              "      <td>0</td>\n",
              "      <td>0.1080</td>\n",
              "      <td>7</td>\n",
              "      <td>0.218</td>\n",
              "      <td>-15.917</td>\n",
              "      <td>Major</td>\n",
              "      <td>30-04-1974</td>\n",
              "      <td>0.0368</td>\n",
              "      <td>83.636</td>\n",
              "      <td>0.9640</td>\n",
              "      <td>1974</td>\n",
              "      <td>2.4</td>\n",
              "      <td>low</td>\n",
              "      <td>83.636</td>\n",
              "      <td>4</td>\n",
              "      <td>April</td>\n",
              "      <td>0</td>\n",
              "      <td>0</td>\n",
              "      <td>1</td>\n",
              "      <td>0</td>\n",
              "      <td>0</td>\n",
              "      <td>0</td>\n",
              "      <td>2</td>\n",
              "    </tr>\n",
              "    <tr>\n",
              "      <th>4</th>\n",
              "      <td>4</td>\n",
              "      <td>4</td>\n",
              "      <td>15563</td>\n",
              "      <td>0.738</td>\n",
              "      <td>0.705</td>\n",
              "      <td>0.3110</td>\n",
              "      <td>0</td>\n",
              "      <td>0.0000</td>\n",
              "      <td>5</td>\n",
              "      <td>0.322</td>\n",
              "      <td>-12.344</td>\n",
              "      <td>Major</td>\n",
              "      <td>01-01-1973</td>\n",
              "      <td>0.0488</td>\n",
              "      <td>117.260</td>\n",
              "      <td>0.7850</td>\n",
              "      <td>1973</td>\n",
              "      <td>3.4</td>\n",
              "      <td>average</td>\n",
              "      <td>117.260</td>\n",
              "      <td>1</td>\n",
              "      <td>January</td>\n",
              "      <td>0</td>\n",
              "      <td>0</td>\n",
              "      <td>1</td>\n",
              "      <td>0</td>\n",
              "      <td>0</td>\n",
              "      <td>0</td>\n",
              "      <td>3</td>\n",
              "    </tr>\n",
              "  </tbody>\n",
              "</table>\n",
              "</div>"
            ],
            "text/plain": [
              "   Unnamed: 0  Unnamed: 0.1  ...  year<=2020  regression_popularity\n",
              "0           0             0  ...           0                      1\n",
              "1           1             1  ...           1                      2\n",
              "2           2             2  ...           0                      1\n",
              "3           3             3  ...           0                      2\n",
              "4           4             4  ...           0                      3\n",
              "\n",
              "[5 rows x 29 columns]"
            ]
          },
          "metadata": {
            "tags": []
          },
          "execution_count": 4
        }
      ]
    },
    {
      "cell_type": "markdown",
      "metadata": {
        "id": "ykW5oAt2vktY"
      },
      "source": [
        "**EXPERIMENT** 1\n"
      ]
    },
    {
      "cell_type": "code",
      "metadata": {
        "colab": {
          "base_uri": "https://localhost:8080/"
        },
        "id": "gkiOHfN1vneL",
        "outputId": "e33ced14-937d-439a-d15a-fb5e0477c1bb"
      },
      "source": [
        "from sklearn.model_selection import cross_val_score\n",
        "from sklearn.model_selection import RepeatedStratifiedKFold\n",
        "from sklearn.linear_model import LogisticRegression\n",
        "from sklearn.model_selection import train_test_split\n",
        "from sklearn import metrics\n",
        "from sklearn import preprocessing \n",
        "  \n",
        "\n",
        "label_encoder = preprocessing.LabelEncoder()\n",
        "\n",
        "X=df[[ 'acousticness', 'danceability',\n",
        "       'explicit', 'instrumentalness', 'key', 'liveness',\n",
        "       'speechiness', 'tempo', 'valence',\n",
        "       'duration-min', 'year<=1960', 'year<=1980', 'year<=2000', 'year<=2010',\n",
        "       'year<=2020']]\n",
        "y=df['popularity']\n",
        "label_encoder.fit_transform(y)\n",
        "X_train, X_test, y_train, y_test = train_test_split(X, y, test_size=0.2, random_state=42)\n",
        "model = LogisticRegression(multi_class='multinomial',max_iter=000)\n",
        "model.fit(X_train, y_train)\n",
        "y_pred = model.predict(X_test)\n",
        "print('Accuracy of logistic regression classifier on test set: {:.2f}'.format(model.score(X_test, y_test)))"
      ],
      "execution_count": null,
      "outputs": [
        {
          "output_type": "stream",
          "text": [
            "Accuracy of logistic regression classifier on test set: 0.59\n"
          ],
          "name": "stdout"
        }
      ]
    },
    {
      "cell_type": "code",
      "metadata": {
        "colab": {
          "base_uri": "https://localhost:8080/",
          "height": 488
        },
        "id": "mc76UlmD5gnf",
        "outputId": "83c7af52-86ad-4f46-ab85-fcd699e9db53"
      },
      "source": [
        "import matplotlib.pyplot as plt\n",
        "fig, ax = plt.subplots(figsize=(10, 6))\n",
        "ax.set_title('Confusion Matrx')\n",
        "\n",
        "disp =metrics.plot_confusion_matrix(model, X_test, y_test, display_labels= df.popularity, ax = ax)\n",
        "disp.confusion_matrix"
      ],
      "execution_count": null,
      "outputs": [
        {
          "output_type": "execute_result",
          "data": {
            "text/plain": [
              "array([[292,  53, 224,   0,  19],\n",
              "       [168, 271,  68,   0,  33],\n",
              "       [157,   7, 394,   0,  63],\n",
              "       [  5,  67,   1,   0,   1],\n",
              "       [ 31,  56,  55,   0, 481]])"
            ]
          },
          "metadata": {
            "tags": []
          },
          "execution_count": 15
        },
        {
          "output_type": "display_data",
          "data": {
            "image/png": "[encoded data removed]",
            "text/plain": [
              "<Figure size 720x432 with 2 Axes>"
            ]
          },
          "metadata": {
            "tags": [],
            "needs_background": "light"
          }
        }
      ]
    },
    {
      "cell_type": "code",
      "metadata": {
        "colab": {
          "base_uri": "https://localhost:8080/"
        },
        "id": "7uc2LuJq7H0k",
        "outputId": "9d980383-a373-41ac-8de2-5751e7f6f175"
      },
      "source": [
        "import lightgbm as lgb\n",
        "from sklearn.preprocessing import StandardScaler\n",
        "X=df[[ 'acousticness', 'danceability',\n",
        "       'explicit', 'instrumentalness', 'key', 'liveness',\n",
        "       'speechiness', 'tempo', 'valence',\n",
        "       'duration-min', 'year<=1960', 'year<=1980', 'year<=2000', 'year<=2010',\n",
        "       'year<=2020']]\n",
        "y=df['popularity']\n",
        "label_encoder = preprocessing.LabelEncoder()\n",
        "y=label_encoder.fit_transform(y)\n",
        "sc_1=StandardScaler()\n",
        "sc_1.fit(X)\n",
        "X=pd.DataFrame(sc_1.fit_transform(X))\n",
        "X_train, X_test, y_train, y_test = train_test_split(X, y, test_size=0.2, random_state=42)\n",
        "clf = lgb.LGBMClassifier()\n",
        "d_train=lgb.Dataset(X_train, label=y_train)\n",
        "\n",
        "params={}\n",
        "params['learning_rate']=0.03\n",
        "params['boosting_type']='gbdt' #GradientBoostingDecisionTree\n",
        "params['objective']='multiclass' #Multi-class target feature\n",
        "params['metric']='multi_logloss' #metric for multi-class\n",
        "params['max_depth']=10\n",
        "params['num_class']=5 #no.of unique values in the target class not inclusive of the end value\n",
        "#training the model\n",
        "clf=lgb.train(params,d_train,200)\n",
        "# predict the results\n",
        "y_pred=clf.predict(X_test)\n",
        "y_pred = [np.argmax(line) for line in y_pred]\n",
        "from sklearn.metrics import accuracy_score\n",
        "accuracy=accuracy_score(y_pred, y_test)\n",
        "print('LightGBM Model accuracy score: {0:0.4f}'.format(accuracy_score(y_test, y_pred)))"
      ],
      "execution_count": null,
      "outputs": [
        {
          "output_type": "stream",
          "text": [
            "LightGBM Model accuracy score: 0.5899\n"
          ],
          "name": "stdout"
        }
      ]
    },
    {
      "cell_type": "code",
      "metadata": {
        "colab": {
          "base_uri": "https://localhost:8080/"
        },
        "id": "wmBzFCyh_62x",
        "outputId": "d7b63caa-bd38-43f7-ff70-bd4eae80b322"
      },
      "source": [
        "print(y_pred[1])"
      ],
      "execution_count": null,
      "outputs": [
        {
          "output_type": "stream",
          "text": [
            "4\n"
          ],
          "name": "stdout"
        }
      ]
    },
    {
      "cell_type": "code",
      "metadata": {
        "colab": {
          "base_uri": "https://localhost:8080/"
        },
        "id": "c93eP2eq_Vxa",
        "outputId": "b258857a-0d3e-460d-cde0-7d320525fdad"
      },
      "source": [
        "from sklearn.metrics import mean_squared_error,roc_auc_score,precision_score,f1_score\n",
        "f1_score(y_pred,y_test,average=None).mean()"
      ],
      "execution_count": null,
      "outputs": [
        {
          "output_type": "execute_result",
          "data": {
            "text/plain": [
              "0.482900107162315"
            ]
          },
          "metadata": {
            "tags": []
          },
          "execution_count": 31
        }
      ]
    },
    {
      "cell_type": "markdown",
      "metadata": {
        "id": "K5aLUSuq_xAT"
      },
      "source": [
        "USING ONE HOT ENCODING"
      ]
    },
    {
      "cell_type": "code",
      "metadata": {
        "id": "CJDM31Yr_0Pz"
      },
      "source": [
        ""
      ],
      "execution_count": null,
      "outputs": []
    },
    {
      "cell_type": "markdown",
      "metadata": {
        "id": "aGkoaXxKCDQ5"
      },
      "source": [
        "DEEP LEARNING"
      ]
    },
    {
      "cell_type": "code",
      "metadata": {
        "colab": {
          "base_uri": "https://localhost:8080/"
        },
        "id": "4tyCHGorEe5g",
        "outputId": "df7103ab-d926-435a-9ad8-63a143d9f081"
      },
      "source": [
        "import pandas as pd\n",
        "import numpy as np\n",
        "import io\n",
        "\n",
        "from google.colab import files \n",
        "from google.colab import drive\n",
        "drive.mount('/content/drive',force_remount=True)\n",
        "import tensorflow as tf\n",
        "device_name = tf.test.gpu_device_name()\n",
        "print(device_name)"
      ],
      "execution_count": null,
      "outputs": [
        {
          "output_type": "stream",
          "text": [
            "Mounted at /content/drive\n",
            "/device:GPU:0\n"
          ],
          "name": "stdout"
        }
      ]
    },
    {
      "cell_type": "code",
      "metadata": {
        "colab": {
          "base_uri": "https://localhost:8080/"
        },
        "id": "2WGdbShcCFcZ",
        "outputId": "43bda27e-bd1b-48af-c999-bf88170ecfda"
      },
      "source": [
        "# multi-class classification with Keras\n",
        "import pandas\n",
        "from keras.models import Sequential\n",
        "from keras.layers import Dense\n",
        "from keras.wrappers.scikit_learn import KerasClassifier\n",
        "from keras.utils import np_utils\n",
        "from sklearn.model_selection import cross_val_score\n",
        "from sklearn.model_selection import KFold\n",
        "from sklearn.preprocessing import LabelEncoder\n",
        "from sklearn.pipeline import Pipeline\n",
        "\n",
        "# load dataset\n",
        "df = pd.read_csv('/content/drive/MyDrive/OPEN IIT/train2.csv')\n",
        "X=df[[ 'acousticness', 'danceability',\n",
        "       'explicit', 'instrumentalness', 'key', 'liveness',\n",
        "       'speechiness', 'tempo', 'valence',\n",
        "       'duration-min', 'year']]\n",
        "Y=df['popularity']\n",
        "# encode class values as integers\n",
        "encoder = LabelEncoder()\n",
        "encoder.fit(Y)\n",
        "encoded_Y = encoder.transform(Y)\n",
        "# convert integers to dummy variables (i.e. one hot encoded)\n",
        "dummy_y = np_utils.to_categorical(encoded_Y)\n",
        "\n",
        "# define baseline model\n",
        "def baseline_model():\n",
        "\t# create model\n",
        "\tmodel = Sequential()\n",
        "\tmodel.add(Dense(32, input_dim=11, activation='relu'))\n",
        "\tmodel.add(Dense(5, activation='softmax'))\n",
        "\t# Compile model\n",
        "\tmodel.compile(loss='categorical_crossentropy', optimizer='adam', metrics=['accuracy'])\n",
        "\treturn model\n",
        "\n",
        "estimator = KerasClassifier(build_fn=baseline_model, epochs=20, batch_size=4, verbose=1)\n",
        "kfold = KFold(n_splits=5, shuffle=True)\n",
        "results = cross_val_score(estimator, X, dummy_y, cv=kfold)\n",
        "print(\"Baseline: %.2f%% (%.2f%%)\" % (results.mean()*100, results.std()*100))"
      ],
      "execution_count": null,
      "outputs": [
        {
          "output_type": "stream",
          "text": [
            "Epoch 1/20\n",
            "2446/2446 [==============================] - 5s 2ms/step - loss: 116.7584 - accuracy: 0.2367\n",
            "Epoch 2/20\n",
            "2446/2446 [==============================] - 5s 2ms/step - loss: 4.3075 - accuracy: 0.2692\n",
            "Epoch 3/20\n",
            "2446/2446 [==============================] - 5s 2ms/step - loss: 3.8462 - accuracy: 0.2892\n",
            "Epoch 4/20\n",
            "2446/2446 [==============================] - 5s 2ms/step - loss: 3.6779 - accuracy: 0.3108\n",
            "Epoch 5/20\n",
            "2446/2446 [==============================] - 5s 2ms/step - loss: 3.3015 - accuracy: 0.3126\n",
            "Epoch 6/20\n",
            "2446/2446 [==============================] - 5s 2ms/step - loss: 3.5024 - accuracy: 0.3146\n",
            "Epoch 7/20\n",
            "2446/2446 [==============================] - 5s 2ms/step - loss: 3.4343 - accuracy: 0.3036\n",
            "Epoch 8/20\n",
            "2446/2446 [==============================] - 5s 2ms/step - loss: 3.4131 - accuracy: 0.3164\n",
            "Epoch 9/20\n",
            "2446/2446 [==============================] - 5s 2ms/step - loss: 3.0758 - accuracy: 0.3205\n",
            "Epoch 10/20\n",
            "2446/2446 [==============================] - 5s 2ms/step - loss: 3.2912 - accuracy: 0.3252\n",
            "Epoch 11/20\n",
            "2446/2446 [==============================] - 5s 2ms/step - loss: 3.2893 - accuracy: 0.3205\n",
            "Epoch 12/20\n",
            "2446/2446 [==============================] - 5s 2ms/step - loss: 2.9321 - accuracy: 0.3301\n",
            "Epoch 13/20\n",
            "2446/2446 [==============================] - 5s 2ms/step - loss: 2.9490 - accuracy: 0.3344\n",
            "Epoch 14/20\n",
            "2446/2446 [==============================] - 5s 2ms/step - loss: 2.8468 - accuracy: 0.3359\n",
            "Epoch 15/20\n",
            "2446/2446 [==============================] - 5s 2ms/step - loss: 2.7472 - accuracy: 0.3309\n",
            "Epoch 16/20\n",
            "2446/2446 [==============================] - 5s 2ms/step - loss: 2.7541 - accuracy: 0.3470\n",
            "Epoch 17/20\n",
            "2446/2446 [==============================] - 5s 2ms/step - loss: 2.7066 - accuracy: 0.3320\n",
            "Epoch 18/20\n",
            "2446/2446 [==============================] - 5s 2ms/step - loss: 2.5080 - accuracy: 0.3394\n",
            "Epoch 19/20\n",
            "2446/2446 [==============================] - 5s 2ms/step - loss: 2.7094 - accuracy: 0.3313\n",
            "Epoch 20/20\n",
            "2446/2446 [==============================] - 5s 2ms/step - loss: 2.6363 - accuracy: 0.3422\n",
            "612/612 [==============================] - 1s 2ms/step - loss: 1.6576 - accuracy: 0.3843\n",
            "Epoch 1/20\n",
            "2446/2446 [==============================] - 5s 2ms/step - loss: 33.2531 - accuracy: 0.2450\n",
            "Epoch 2/20\n",
            "2446/2446 [==============================] - 5s 2ms/step - loss: 2.9082 - accuracy: 0.2733\n",
            "Epoch 3/20\n",
            "2446/2446 [==============================] - 5s 2ms/step - loss: 2.9141 - accuracy: 0.3031\n",
            "Epoch 4/20\n",
            "2446/2446 [==============================] - 5s 2ms/step - loss: 2.7553 - accuracy: 0.3071\n",
            "Epoch 5/20\n",
            "2446/2446 [==============================] - 5s 2ms/step - loss: 2.9263 - accuracy: 0.3029\n",
            "Epoch 6/20\n",
            "2446/2446 [==============================] - 5s 2ms/step - loss: 2.6098 - accuracy: 0.3251\n",
            "Epoch 7/20\n",
            "2446/2446 [==============================] - 5s 2ms/step - loss: 2.6107 - accuracy: 0.3304\n",
            "Epoch 8/20\n",
            "2446/2446 [==============================] - 5s 2ms/step - loss: 2.6473 - accuracy: 0.3423\n",
            "Epoch 9/20\n",
            "2446/2446 [==============================] - 5s 2ms/step - loss: 2.5277 - accuracy: 0.3452\n",
            "Epoch 10/20\n",
            "2446/2446 [==============================] - 5s 2ms/step - loss: 2.3986 - accuracy: 0.3343\n",
            "Epoch 11/20\n",
            "2446/2446 [==============================] - 5s 2ms/step - loss: 2.2996 - accuracy: 0.3359\n",
            "Epoch 12/20\n",
            "2446/2446 [==============================] - 5s 2ms/step - loss: 2.2657 - accuracy: 0.3481\n",
            "Epoch 13/20\n",
            "2446/2446 [==============================] - 5s 2ms/step - loss: 2.2891 - accuracy: 0.3448\n",
            "Epoch 14/20\n",
            "2446/2446 [==============================] - 5s 2ms/step - loss: 2.2096 - accuracy: 0.3420\n",
            "Epoch 15/20\n",
            "2446/2446 [==============================] - 5s 2ms/step - loss: 2.1764 - accuracy: 0.3345\n",
            "Epoch 16/20\n",
            "2446/2446 [==============================] - 5s 2ms/step - loss: 2.1874 - accuracy: 0.3530\n",
            "Epoch 17/20\n",
            "2446/2446 [==============================] - 5s 2ms/step - loss: 2.0827 - accuracy: 0.3545\n",
            "Epoch 18/20\n",
            "2446/2446 [==============================] - 5s 2ms/step - loss: 2.0410 - accuracy: 0.3492\n",
            "Epoch 19/20\n",
            "2446/2446 [==============================] - 5s 2ms/step - loss: 2.0087 - accuracy: 0.3472\n",
            "Epoch 20/20\n",
            "2446/2446 [==============================] - 5s 2ms/step - loss: 1.9232 - accuracy: 0.3493\n",
            "612/612 [==============================] - 1s 2ms/step - loss: 1.8902 - accuracy: 0.2445\n",
            "Epoch 1/20\n",
            "2446/2446 [==============================] - 5s 2ms/step - loss: 33.0977 - accuracy: 0.2475\n",
            "Epoch 2/20\n",
            "2446/2446 [==============================] - 5s 2ms/step - loss: 3.1169 - accuracy: 0.2781\n",
            "Epoch 3/20\n",
            "2446/2446 [==============================] - 5s 2ms/step - loss: 2.8546 - accuracy: 0.2865\n",
            "Epoch 4/20\n",
            "2446/2446 [==============================] - 5s 2ms/step - loss: 2.9697 - accuracy: 0.3105\n",
            "Epoch 5/20\n",
            "2446/2446 [==============================] - 5s 2ms/step - loss: 2.8724 - accuracy: 0.3128\n",
            "Epoch 6/20\n",
            "2446/2446 [==============================] - 5s 2ms/step - loss: 2.9021 - accuracy: 0.3213\n",
            "Epoch 7/20\n",
            "2446/2446 [==============================] - 5s 2ms/step - loss: 2.8976 - accuracy: 0.3227\n",
            "Epoch 8/20\n",
            "2446/2446 [==============================] - 5s 2ms/step - loss: 2.7066 - accuracy: 0.3156\n",
            "Epoch 9/20\n",
            "2446/2446 [==============================] - 5s 2ms/step - loss: 2.5549 - accuracy: 0.3399\n",
            "Epoch 10/20\n",
            "2446/2446 [==============================] - 5s 2ms/step - loss: 2.7165 - accuracy: 0.3376\n",
            "Epoch 11/20\n",
            "2446/2446 [==============================] - 5s 2ms/step - loss: 2.7258 - accuracy: 0.3228\n",
            "Epoch 12/20\n",
            "2446/2446 [==============================] - 5s 2ms/step - loss: 2.6179 - accuracy: 0.3380\n",
            "Epoch 13/20\n",
            "2446/2446 [==============================] - 5s 2ms/step - loss: 2.4833 - accuracy: 0.3411\n",
            "Epoch 14/20\n",
            "2446/2446 [==============================] - 5s 2ms/step - loss: 2.5600 - accuracy: 0.3440\n",
            "Epoch 15/20\n",
            "2446/2446 [==============================] - 5s 2ms/step - loss: 2.3189 - accuracy: 0.3502\n",
            "Epoch 16/20\n",
            "2446/2446 [==============================] - 5s 2ms/step - loss: 2.2850 - accuracy: 0.3585\n",
            "Epoch 17/20\n",
            "2446/2446 [==============================] - 5s 2ms/step - loss: 2.2301 - accuracy: 0.3558\n",
            "Epoch 18/20\n",
            "2446/2446 [==============================] - 5s 2ms/step - loss: 2.1091 - accuracy: 0.3541\n",
            "Epoch 19/20\n",
            "2446/2446 [==============================] - 5s 2ms/step - loss: 2.1868 - accuracy: 0.3440\n",
            "Epoch 20/20\n",
            "2446/2446 [==============================] - 5s 2ms/step - loss: 2.1422 - accuracy: 0.3591\n",
            "612/612 [==============================] - 1s 2ms/step - loss: 3.0919 - accuracy: 0.3047\n",
            "Epoch 1/20\n",
            "2446/2446 [==============================] - 5s 2ms/step - loss: 46.8109 - accuracy: 0.2517\n",
            "Epoch 2/20\n",
            "2446/2446 [==============================] - 5s 2ms/step - loss: 2.6669 - accuracy: 0.2934\n",
            "Epoch 3/20\n",
            "2446/2446 [==============================] - 5s 2ms/step - loss: 2.7232 - accuracy: 0.3068\n",
            "Epoch 4/20\n",
            "2446/2446 [==============================] - 5s 2ms/step - loss: 2.5129 - accuracy: 0.3087\n",
            "Epoch 5/20\n",
            "2446/2446 [==============================] - 5s 2ms/step - loss: 2.5287 - accuracy: 0.3246\n",
            "Epoch 6/20\n",
            "2446/2446 [==============================] - 5s 2ms/step - loss: 2.4450 - accuracy: 0.3306\n",
            "Epoch 7/20\n",
            "2446/2446 [==============================] - 5s 2ms/step - loss: 2.3227 - accuracy: 0.3119\n",
            "Epoch 8/20\n",
            "2446/2446 [==============================] - 5s 2ms/step - loss: 2.3343 - accuracy: 0.3296\n",
            "Epoch 9/20\n",
            "2446/2446 [==============================] - 5s 2ms/step - loss: 2.2852 - accuracy: 0.3301\n",
            "Epoch 10/20\n",
            "2446/2446 [==============================] - 5s 2ms/step - loss: 2.3079 - accuracy: 0.3384\n",
            "Epoch 11/20\n",
            "2446/2446 [==============================] - 5s 2ms/step - loss: 2.2917 - accuracy: 0.3397\n",
            "Epoch 12/20\n",
            "2446/2446 [==============================] - 5s 2ms/step - loss: 2.1625 - accuracy: 0.3445\n",
            "Epoch 13/20\n",
            "2446/2446 [==============================] - 5s 2ms/step - loss: 2.0584 - accuracy: 0.3443\n",
            "Epoch 14/20\n",
            "2446/2446 [==============================] - 5s 2ms/step - loss: 2.0209 - accuracy: 0.3503\n",
            "Epoch 15/20\n",
            "2446/2446 [==============================] - 5s 2ms/step - loss: 1.9999 - accuracy: 0.3473\n",
            "Epoch 16/20\n",
            "2446/2446 [==============================] - 5s 2ms/step - loss: 1.9714 - accuracy: 0.3466\n",
            "Epoch 17/20\n",
            "2446/2446 [==============================] - 5s 2ms/step - loss: 1.8775 - accuracy: 0.3412\n",
            "Epoch 18/20\n",
            "2446/2446 [==============================] - 5s 2ms/step - loss: 1.8492 - accuracy: 0.3552\n",
            "Epoch 19/20\n",
            "2446/2446 [==============================] - 5s 2ms/step - loss: 1.8271 - accuracy: 0.3589\n",
            "Epoch 20/20\n",
            "2446/2446 [==============================] - 5s 2ms/step - loss: 1.7683 - accuracy: 0.3593\n",
            "612/612 [==============================] - 1s 2ms/step - loss: 1.5604 - accuracy: 0.3808\n",
            "Epoch 1/20\n",
            "2446/2446 [==============================] - 5s 2ms/step - loss: 45.1765 - accuracy: 0.2300\n",
            "Epoch 2/20\n",
            "2446/2446 [==============================] - 5s 2ms/step - loss: 3.1463 - accuracy: 0.2976\n",
            "Epoch 3/20\n",
            "2446/2446 [==============================] - 5s 2ms/step - loss: 3.2902 - accuracy: 0.3120\n",
            "Epoch 4/20\n",
            "2446/2446 [==============================] - 5s 2ms/step - loss: 3.1691 - accuracy: 0.3220\n",
            "Epoch 5/20\n",
            "2446/2446 [==============================] - 5s 2ms/step - loss: 3.3320 - accuracy: 0.3189\n",
            "Epoch 6/20\n",
            "2446/2446 [==============================] - 5s 2ms/step - loss: 3.0005 - accuracy: 0.3301\n",
            "Epoch 7/20\n",
            "2446/2446 [==============================] - 5s 2ms/step - loss: 2.9538 - accuracy: 0.3461\n",
            "Epoch 8/20\n",
            "2446/2446 [==============================] - 5s 2ms/step - loss: 3.0257 - accuracy: 0.3321\n",
            "Epoch 9/20\n",
            "2446/2446 [==============================] - 5s 2ms/step - loss: 2.7122 - accuracy: 0.3477\n",
            "Epoch 10/20\n",
            "2446/2446 [==============================] - 5s 2ms/step - loss: 2.9426 - accuracy: 0.3392\n",
            "Epoch 11/20\n",
            "2446/2446 [==============================] - 5s 2ms/step - loss: 2.9571 - accuracy: 0.3250\n",
            "Epoch 12/20\n",
            "2446/2446 [==============================] - 5s 2ms/step - loss: 2.7096 - accuracy: 0.3389\n",
            "Epoch 13/20\n",
            "2446/2446 [==============================] - 5s 2ms/step - loss: 2.5079 - accuracy: 0.3405\n",
            "Epoch 14/20\n",
            "2446/2446 [==============================] - 5s 2ms/step - loss: 2.3494 - accuracy: 0.3493\n",
            "Epoch 15/20\n",
            "2446/2446 [==============================] - 5s 2ms/step - loss: 2.4528 - accuracy: 0.3529\n",
            "Epoch 16/20\n",
            "2446/2446 [==============================] - 5s 2ms/step - loss: 2.3503 - accuracy: 0.3576\n",
            "Epoch 17/20\n",
            "2446/2446 [==============================] - 5s 2ms/step - loss: 2.3154 - accuracy: 0.3386\n",
            "Epoch 18/20\n",
            "2446/2446 [==============================] - 5s 2ms/step - loss: 2.3017 - accuracy: 0.3537\n",
            "Epoch 19/20\n",
            "2446/2446 [==============================] - 5s 2ms/step - loss: 2.2667 - accuracy: 0.3396\n",
            "Epoch 20/20\n",
            "2446/2446 [==============================] - 5s 2ms/step - loss: 2.2258 - accuracy: 0.3455\n",
            "612/612 [==============================] - 1s 2ms/step - loss: 1.5655 - accuracy: 0.2888\n",
            "Baseline: 32.06% (5.43%)\n"
          ],
          "name": "stdout"
        }
      ]
    },
    {
      "cell_type": "code",
      "metadata": {
        "colab": {
          "base_uri": "https://localhost:8080/"
        },
        "id": "1xbwEJQtHgqL",
        "outputId": "467ff7b8-aead-4545-bf52-0c1beb94cd12"
      },
      "source": [
        "df.shape"
      ],
      "execution_count": null,
      "outputs": [
        {
          "output_type": "execute_result",
          "data": {
            "text/plain": [
              "(12227, 30)"
            ]
          },
          "metadata": {
            "tags": []
          },
          "execution_count": 35
        }
      ]
    },
    {
      "cell_type": "markdown",
      "metadata": {
        "id": "zKOQMqY8avPN"
      },
      "source": [
        "KNN"
      ]
    },
    {
      "cell_type": "code",
      "metadata": {
        "colab": {
          "base_uri": "https://localhost:8080/"
        },
        "id": "x9FgrFfVauGt",
        "outputId": "d7f32d6d-b364-4795-c07e-752956b079ea"
      },
      "source": [
        "from sklearn.preprocessing import LabelEncoder\n",
        "from sklearn.preprocessing import MinMaxScaler\n",
        "df = pd.read_csv('/content/drive/MyDrive/OPEN IIT/train2.csv')\n",
        "X=df[[ 'acousticness', 'danceability',\n",
        "       'explicit', 'instrumentalness', 'key', 'liveness',\n",
        "       'speechiness', 'tempo', 'valence',\n",
        "       'duration-min', 'year<=1960', 'year<=1980', 'year<=2000', 'year<=2010',\n",
        "       'year<=2020']]\n",
        "y=df['popularity']\n",
        "label_encoder = LabelEncoder()\n",
        "y=label_encoder.fit_transform(y)\n",
        "MinMaxScaler = MinMaxScaler()\n",
        "X = MinMaxScaler.fit_transform(X)\n",
        "X"
      ],
      "execution_count": null,
      "outputs": [
        {
          "output_type": "execute_result",
          "data": {
            "text/plain": [
              "array([[0.9528112 , 0.23979592, 0.        , ..., 0.        , 0.        ,\n",
              "        0.        ],\n",
              "       [0.85843359, 0.46530612, 0.        , ..., 0.        , 0.        ,\n",
              "        1.        ],\n",
              "       [0.83032111, 0.50510204, 0.        , ..., 0.        , 0.        ,\n",
              "        0.        ],\n",
              "       ...,\n",
              "       [0.32931657, 0.5622449 , 0.        , ..., 1.        , 0.        ,\n",
              "        0.        ],\n",
              "       [0.12248904, 0.06204082, 0.        , ..., 0.        , 0.        ,\n",
              "        1.        ],\n",
              "       [0.03815161, 0.39693878, 1.        , ..., 0.        , 0.        ,\n",
              "        1.        ]])"
            ]
          },
          "metadata": {
            "tags": []
          },
          "execution_count": 6
        }
      ]
    },
    {
      "cell_type": "code",
      "metadata": {
        "colab": {
          "base_uri": "https://localhost:8080/"
        },
        "id": "DoQKTcVrdFkh",
        "outputId": "613fe216-e17d-493d-f95f-83ff159da6d6"
      },
      "source": [
        "from sklearn.model_selection import train_test_split\n",
        "from sklearn.neighbors import KNeighborsClassifier\n",
        "import matplotlib.pyplot as plt\n",
        "import seaborn as sns\n",
        "X_train, X_test, y_train, y_test = train_test_split(X, y,test_size=0.2, random_state = 1)\n",
        "knn_clf=KNeighborsClassifier()\n",
        "knn_clf.fit(X_train,y_train)\n",
        "ypred=knn_clf.predict(X_test)\n",
        "\n",
        "from sklearn.metrics import classification_report, confusion_matrix, accuracy_score\n",
        "result = confusion_matrix(y_test, ypred)\n",
        "print(\"Confusion Matrix:\")\n",
        "print(result)\n",
        "result1 = classification_report(y_test, ypred)\n",
        "print(\"Classification Report:\",)\n",
        "print (result1)\n",
        "result2 = accuracy_score(y_test,ypred)\n",
        "print(\"Accuracy:\",result2)"
      ],
      "execution_count": null,
      "outputs": [
        {
          "output_type": "stream",
          "text": [
            "Confusion Matrix:\n",
            "[[299 101 143   4  19]\n",
            " [137 285  42  17  24]\n",
            " [247  50 312   1  72]\n",
            " [  5  61   4   6   0]\n",
            " [ 34  66  61   0 456]]\n",
            "Classification Report:\n",
            "              precision    recall  f1-score   support\n",
            "\n",
            "           0       0.41      0.53      0.46       566\n",
            "           1       0.51      0.56      0.53       505\n",
            "           2       0.56      0.46      0.50       682\n",
            "           3       0.21      0.08      0.12        76\n",
            "           4       0.80      0.74      0.77       617\n",
            "\n",
            "    accuracy                           0.56      2446\n",
            "   macro avg       0.50      0.47      0.48      2446\n",
            "weighted avg       0.56      0.56      0.55      2446\n",
            "\n",
            "Accuracy: 0.5551921504497138\n"
          ],
          "name": "stdout"
        }
      ]
    },
    {
      "cell_type": "code",
      "metadata": {
        "colab": {
          "base_uri": "https://localhost:8080/"
        },
        "id": "mcsjGZwI7UQ6",
        "outputId": "e1e95bd9-c369-443c-a11c-b20b040b89f6"
      },
      "source": [
        "!pip install mord"
      ],
      "execution_count": null,
      "outputs": [
        {
          "output_type": "stream",
          "text": [
            "Collecting mord\n",
            "  Downloading https://files.pythonhosted.org/packages/67/9d/c791c841501d9ff4ecb76b57f208dec6cf9f925109c59c995ddec80f9b32/mord-0.6.tar.gz\n",
            "Building wheels for collected packages: mord\n",
            "  Building wheel for mord (setup.py) ... \u001b[?25l\u001b[?25hdone\n",
            "  Created wheel for mord: filename=mord-0.6-cp37-none-any.whl size=6007 sha256=11b5df416fb00a169b3018376adbb95796c3527bdc12e957cbb385cc2e9ecf91\n",
            "  Stored in directory: /root/.cache/pip/wheels/98/14/b2/244c2cec93a0c6edb29b488bd6b2710ded7e9d457033b86366\n",
            "Successfully built mord\n",
            "Installing collected packages: mord\n",
            "Successfully installed mord-0.6\n"
          ],
          "name": "stdout"
        }
      ]
    },
    {
      "cell_type": "code",
      "metadata": {
        "colab": {
          "base_uri": "https://localhost:8080/"
        },
        "id": "eqvkB4Tz4R3a",
        "outputId": "6767c5cf-d4c7-408b-f54a-05f77b6e8443"
      },
      "source": [
        "from sklearn.linear_model import LinearRegression, LogisticRegression\n",
        "from mord import LogisticAT\n",
        "from sklearn.model_selection import train_test_split\n",
        "import sklearn.preprocessing \n",
        "X=df[[ 'acousticness', 'danceability',\n",
        "       'explicit', 'instrumentalness', 'key', 'liveness',\n",
        "       'speechiness', 'tempo', 'valence',\n",
        "       'duration-min', 'year<=1960', 'year<=1980', 'year<=2000', 'year<=2010',\n",
        "       'year<=2020']]\n",
        "df['regression_popularity']=df['regression_popularity']-1\n",
        "y=df['regression_popularity']\n",
        "label_encoder = sklearn.preprocessing.LabelEncoder()\n",
        "y=label_encoder.fit_transform(y)\n",
        "sc_1=sklearn.preprocessing.StandardScaler()\n",
        "sc_1.fit(X)\n",
        "X_train, X_test, y_train, y_test = train_test_split(X, y,test_size=0.2, random_state = 1)\n",
        "model_ordinal = LogisticAT(alpha=0)\n",
        "print(y)"
      ],
      "execution_count": null,
      "outputs": [
        {
          "output_type": "stream",
          "text": [
            "[0 1 0 ... 1 3 3]\n"
          ],
          "name": "stdout"
        }
      ]
    },
    {
      "cell_type": "code",
      "metadata": {
        "colab": {
          "base_uri": "https://localhost:8080/"
        },
        "id": "gtrUTssY8M2L",
        "outputId": "3ca56f2b-b9ca-4d6e-cdb6-e8fbab0c7d64"
      },
      "source": [
        "from sklearn.model_selection import cross_val_score\n",
        "from sklearn.metrics import mean_absolute_error\n",
        "from sklearn.metrics import make_scorer\n",
        "MAE = make_scorer(mean_absolute_error)\n",
        "folds = 5\n",
        "MAE_ordinal = cross_val_score(model_ordinal,\n",
        "    X_train,\n",
        "    y_train,\n",
        "    cv=folds,\n",
        "    scoring=MAE)\n",
        "print('Ordered logistic regression: ', np.mean(MAE_ordinal))"
      ],
      "execution_count": null,
      "outputs": [
        {
          "output_type": "stream",
          "text": [
            "Ordered logistic regression:  0.5655856016836421\n"
          ],
          "name": "stdout"
        }
      ]
    },
    {
      "cell_type": "code",
      "metadata": {
        "id": "-v_ERF0X9MOH"
      },
      "source": [
        "from sklearn.metrics import accuracy_score\n",
        "\n",
        "def acc_fun(target_true, target_fit):\n",
        "    target_fit = np.round(target_fit)\n",
        "    target_fit.astype('int')\n",
        "    return accuracy_score(target_true, target_fit)\n",
        "\n",
        "acc = make_scorer(acc_fun)\n",
        "folds = 5"
      ],
      "execution_count": null,
      "outputs": []
    },
    {
      "cell_type": "code",
      "metadata": {
        "colab": {
          "base_uri": "https://localhost:8080/"
        },
        "id": "N0pltP4j9XfC",
        "outputId": "bfc83e7a-b07b-4faf-aa05-a4229682280e"
      },
      "source": [
        "from sklearn.metrics import accuracy_score\n",
        "def acc_fun(target_true, target_fit):\n",
        "    target_fit = np.round(target_fit)\n",
        "    target_fit.astype('int')\n",
        "    return accuracy_score(target_true, target_fit)\n",
        "\n",
        "acc = make_scorer(acc_fun)\n",
        "folds = 5\n",
        "acc_ordinal = cross_val_score(model_ordinal,\n",
        "    X,\n",
        "    y,\n",
        "    cv=folds,\n",
        "    scoring=acc)\n",
        "print('Ordered logistic regression: ', np.mean(acc_ordinal))"
      ],
      "execution_count": null,
      "outputs": [
        {
          "output_type": "stream",
          "text": [
            "Ordered logistic regression:  0.5441239902549466\n"
          ],
          "name": "stdout"
        }
      ]
    },
    {
      "cell_type": "code",
      "metadata": {
        "colab": {
          "base_uri": "https://localhost:8080/"
        },
        "id": "X_rJxPhS_cnM",
        "outputId": "5b9306e8-9c52-4caa-ac68-1af1c8e1314f"
      },
      "source": [
        "print(X_train)"
      ],
      "execution_count": null,
      "outputs": [
        {
          "output_type": "stream",
          "text": [
            "       acousticness  danceability  explicit  ...  year<=2000  year<=2010  year<=2020\n",
            "1589        0.00753         0.371         0  ...           0           1           0\n",
            "11169       0.62500         0.712         0  ...           0           0           0\n",
            "566         0.89400         0.202         0  ...           0           0           0\n",
            "406         0.99000         0.543         0  ...           0           0           0\n",
            "5615        0.86400         0.540         0  ...           0           0           0\n",
            "...             ...           ...       ...  ...         ...         ...         ...\n",
            "10955       0.99400         0.278         0  ...           0           0           0\n",
            "905         0.01690         0.827         1  ...           0           0           1\n",
            "5192        0.08880         0.780         1  ...           1           0           0\n",
            "12172       0.06980         0.357         0  ...           0           0           0\n",
            "235         0.11700         0.916         1  ...           0           0           1\n",
            "\n",
            "[9781 rows x 15 columns]\n"
          ],
          "name": "stdout"
        }
      ]
    },
    {
      "cell_type": "code",
      "metadata": {
        "colab": {
          "base_uri": "https://localhost:8080/"
        },
        "id": "U6WP0tql-dPp",
        "outputId": "5555e985-2484-45aa-bab8-ca583586b72e"
      },
      "source": [
        "from sklearn.ensemble import RandomForestRegressor\n",
        "from sklearn.datasets import make_regression\n",
        "df = pd.read_csv('/content/drive/MyDrive/OPEN IIT/train2.csv')\n",
        "X=df[[ 'acousticness', 'danceability',\n",
        "       'explicit', 'instrumentalness', 'key', 'liveness',\n",
        "       'speechiness', 'tempo', 'valence',\n",
        "       'duration-min', 'year<=1960', 'year<=1980', 'year<=2000', 'year<=2010',\n",
        "       'year<=2020']]\n",
        "df['regression_popularity']=df['regression_popularity']-1\n",
        "y=df['regression_popularity']\n",
        "sc_1=sklearn.preprocessing.StandardScaler()\n",
        "sc_1.fit(X)\n",
        "X_train, X_test, y_train, y_test = train_test_split(X, y,test_size=0.1, random_state = 1)\n",
        "regr = RandomForestRegressor(max_depth=16,criterion='mae', random_state=0)\n",
        "regr.fit(X_train, y_train)\n",
        "y_pred=regr.predict(X_test)\n",
        "print(y_pred)\n",
        "\n"
      ],
      "execution_count": null,
      "outputs": [
        {
          "output_type": "stream",
          "text": [
            "[1.89 2.   3.   ... 3.   0.06 1.3 ]\n"
          ],
          "name": "stdout"
        }
      ]
    },
    {
      "cell_type": "code",
      "metadata": {
        "colab": {
          "base_uri": "https://localhost:8080/"
        },
        "id": "-zvX1SSU_9Al",
        "outputId": "2149777e-e345-41dc-dcc4-2a89c65a34cd"
      },
      "source": [
        "print((y_test))"
      ],
      "execution_count": null,
      "outputs": [
        {
          "output_type": "stream",
          "text": [
            "1986    2\n",
            "9184    1\n",
            "345     2\n",
            "7636    3\n",
            "3281    3\n",
            "       ..\n",
            "1911    0\n",
            "8626    0\n",
            "7132    3\n",
            "8054    0\n",
            "4057    2\n",
            "Name: regression_popularity, Length: 1223, dtype: int64\n"
          ],
          "name": "stdout"
        }
      ]
    },
    {
      "cell_type": "code",
      "metadata": {
        "id": "5Ydxq75KACa5"
      },
      "source": [
        "import numpy as np\n",
        "y_pred=np.round(y_pred)\n",
        "for i in range (len(y_pred)):\n",
        "  if y_pred[i]<0:\n",
        "    y_pred[i]=0\n",
        "                "
      ],
      "execution_count": null,
      "outputs": []
    },
    {
      "cell_type": "code",
      "metadata": {
        "colab": {
          "base_uri": "https://localhost:8080/"
        },
        "id": "qYxVIo-s_yRT",
        "outputId": "a380a308-fe2e-4f6a-874d-102ea55e5b36"
      },
      "source": [
        "accuracy=accuracy_score(y_pred, y_test)\n",
        "print('RF Model accuracy score: {0:0.4f}'.format(accuracy_score(y_test, y_pred)))"
      ],
      "execution_count": null,
      "outputs": [
        {
          "output_type": "stream",
          "text": [
            "RF Model accuracy score: 0.5944\n"
          ],
          "name": "stdout"
        }
      ]
    },
    {
      "cell_type": "code",
      "metadata": {
        "id": "qaME9D1ybmCd"
      },
      "source": [
        "from sklearn.ensemble import RandomForestRegressor\n",
        "from sklearn.datasets import make_regression\n",
        "\n",
        "df = pd.read_csv('/content/drive/MyDrive/OPEN IIT/train2.csv')\n",
        "X=df[[ 'acousticness', 'danceability',\n",
        "       'explicit', 'instrumentalness', 'key', 'liveness',\n",
        "       'speechiness', 'tempo', 'valence',\n",
        "       'duration-min', 'year<=1960', 'year<=1980', 'year<=2000', 'year<=2010',\n",
        "       'year<=2020']]\n",
        "df['regression_popularity']=df['regression_popularity']-1\n",
        "y=df['regression_popularity']\n",
        "sc_1=sklearn.preprocessing.StandardScaler()\n",
        "sc_1.fit(X)\n",
        "X_train, X_test, y_train, y_test = train_test_split(X, y,test_size=0.1, random_state = 1)\n",
        "regr = RandomForestRegressor(max_depth=16,criterion='mae', random_state=0)\n",
        "regr.fit(X_train, y_train)\n",
        "y_pred=regr.predict(X_test)\n",
        "print(y_pred)"
      ],
      "execution_count": null,
      "outputs": []
    },
    {
      "cell_type": "code",
      "metadata": {
        "id": "RnI7bMi3wQWT",
        "colab": {
          "base_uri": "https://localhost:8080/",
          "height": 438
        },
        "outputId": "522e9ea5-fc8d-49f8-9a8c-ee8f58295af0"
      },
      "source": [
        "from sklearn.ensemble import RandomForestRegressor\n",
        "from sklearn.datasets import make_regression\n",
        "from sklearn.model_selection import train_test_split\n",
        "import sklearn.preprocessing \n",
        "import pandas as pd\n",
        "import numpy as np\n",
        "df = pd.read_csv('/content/drive/MyDrive/OPEN IIT/train3.csv')\n",
        "X=df[[ 'energy', 'danceability',\n",
        "       'explicit', 'instrumentalness',  'liveness',\n",
        "       'speechiness', 'tempo', 'valence',\n",
        "       'duration-min', 'year<=1960', 'year<=2000' ,'year<=2010',\n",
        "       'year<=2020']]\n",
        "\n",
        "y=df['regression_popularity']-1\n",
        "sc_1=sklearn.preprocessing.StandardScaler()\n",
        "sc_1.fit(X)\n",
        "X_train, X_test, y_train, y_test = train_test_split(X, y,test_size=0.2, random_state = 1)\n"
      ],
      "execution_count": null,
      "outputs": [
        {
          "output_type": "error",
          "ename": "FileNotFoundError",
          "evalue": "ignored",
          "traceback": [
            "\u001b[0;31m---------------------------------------------------------------------------\u001b[0m",
            "\u001b[0;31mFileNotFoundError\u001b[0m                         Traceback (most recent call last)",
            "\u001b[0;32m<ipython-input-1-1575d604ec4f>\u001b[0m in \u001b[0;36m<module>\u001b[0;34m()\u001b[0m\n\u001b[1;32m      5\u001b[0m \u001b[0;32mimport\u001b[0m \u001b[0mpandas\u001b[0m \u001b[0;32mas\u001b[0m \u001b[0mpd\u001b[0m\u001b[0;34m\u001b[0m\u001b[0;34m\u001b[0m\u001b[0m\n\u001b[1;32m      6\u001b[0m \u001b[0;32mimport\u001b[0m \u001b[0mnumpy\u001b[0m \u001b[0;32mas\u001b[0m \u001b[0mnp\u001b[0m\u001b[0;34m\u001b[0m\u001b[0;34m\u001b[0m\u001b[0m\n\u001b[0;32m----> 7\u001b[0;31m \u001b[0mdf\u001b[0m \u001b[0;34m=\u001b[0m \u001b[0mpd\u001b[0m\u001b[0;34m.\u001b[0m\u001b[0mread_csv\u001b[0m\u001b[0;34m(\u001b[0m\u001b[0;34m'/content/drive/MyDrive/OPEN IIT/train3.csv'\u001b[0m\u001b[0;34m)\u001b[0m\u001b[0;34m\u001b[0m\u001b[0;34m\u001b[0m\u001b[0m\n\u001b[0m\u001b[1;32m      8\u001b[0m X=df[[ 'energy', 'danceability',\n\u001b[1;32m      9\u001b[0m        \u001b[0;34m'explicit'\u001b[0m\u001b[0;34m,\u001b[0m \u001b[0;34m'instrumentalness'\u001b[0m\u001b[0;34m,\u001b[0m  \u001b[0;34m'liveness'\u001b[0m\u001b[0;34m,\u001b[0m\u001b[0;34m\u001b[0m\u001b[0;34m\u001b[0m\u001b[0m\n",
            "\u001b[0;32m/usr/local/lib/python3.7/dist-packages/pandas/io/parsers.py\u001b[0m in \u001b[0;36mread_csv\u001b[0;34m(filepath_or_buffer, sep, delimiter, header, names, index_col, usecols, squeeze, prefix, mangle_dupe_cols, dtype, engine, converters, true_values, false_values, skipinitialspace, skiprows, skipfooter, nrows, na_values, keep_default_na, na_filter, verbose, skip_blank_lines, parse_dates, infer_datetime_format, keep_date_col, date_parser, dayfirst, cache_dates, iterator, chunksize, compression, thousands, decimal, lineterminator, quotechar, quoting, doublequote, escapechar, comment, encoding, dialect, error_bad_lines, warn_bad_lines, delim_whitespace, low_memory, memory_map, float_precision)\u001b[0m\n\u001b[1;32m    686\u001b[0m     )\n\u001b[1;32m    687\u001b[0m \u001b[0;34m\u001b[0m\u001b[0m\n\u001b[0;32m--> 688\u001b[0;31m     \u001b[0;32mreturn\u001b[0m \u001b[0m_read\u001b[0m\u001b[0;34m(\u001b[0m\u001b[0mfilepath_or_buffer\u001b[0m\u001b[0;34m,\u001b[0m \u001b[0mkwds\u001b[0m\u001b[0;34m)\u001b[0m\u001b[0;34m\u001b[0m\u001b[0;34m\u001b[0m\u001b[0m\n\u001b[0m\u001b[1;32m    689\u001b[0m \u001b[0;34m\u001b[0m\u001b[0m\n\u001b[1;32m    690\u001b[0m \u001b[0;34m\u001b[0m\u001b[0m\n",
            "\u001b[0;32m/usr/local/lib/python3.7/dist-packages/pandas/io/parsers.py\u001b[0m in \u001b[0;36m_read\u001b[0;34m(filepath_or_buffer, kwds)\u001b[0m\n\u001b[1;32m    452\u001b[0m \u001b[0;34m\u001b[0m\u001b[0m\n\u001b[1;32m    453\u001b[0m     \u001b[0;31m# Create the parser.\u001b[0m\u001b[0;34m\u001b[0m\u001b[0;34m\u001b[0m\u001b[0;34m\u001b[0m\u001b[0m\n\u001b[0;32m--> 454\u001b[0;31m     \u001b[0mparser\u001b[0m \u001b[0;34m=\u001b[0m \u001b[0mTextFileReader\u001b[0m\u001b[0;34m(\u001b[0m\u001b[0mfp_or_buf\u001b[0m\u001b[0;34m,\u001b[0m \u001b[0;34m**\u001b[0m\u001b[0mkwds\u001b[0m\u001b[0;34m)\u001b[0m\u001b[0;34m\u001b[0m\u001b[0;34m\u001b[0m\u001b[0m\n\u001b[0m\u001b[1;32m    455\u001b[0m \u001b[0;34m\u001b[0m\u001b[0m\n\u001b[1;32m    456\u001b[0m     \u001b[0;32mif\u001b[0m \u001b[0mchunksize\u001b[0m \u001b[0;32mor\u001b[0m \u001b[0miterator\u001b[0m\u001b[0;34m:\u001b[0m\u001b[0;34m\u001b[0m\u001b[0;34m\u001b[0m\u001b[0m\n",
            "\u001b[0;32m/usr/local/lib/python3.7/dist-packages/pandas/io/parsers.py\u001b[0m in \u001b[0;36m__init__\u001b[0;34m(self, f, engine, **kwds)\u001b[0m\n\u001b[1;32m    946\u001b[0m             \u001b[0mself\u001b[0m\u001b[0;34m.\u001b[0m\u001b[0moptions\u001b[0m\u001b[0;34m[\u001b[0m\u001b[0;34m\"has_index_names\"\u001b[0m\u001b[0;34m]\u001b[0m \u001b[0;34m=\u001b[0m \u001b[0mkwds\u001b[0m\u001b[0;34m[\u001b[0m\u001b[0;34m\"has_index_names\"\u001b[0m\u001b[0;34m]\u001b[0m\u001b[0;34m\u001b[0m\u001b[0;34m\u001b[0m\u001b[0m\n\u001b[1;32m    947\u001b[0m \u001b[0;34m\u001b[0m\u001b[0m\n\u001b[0;32m--> 948\u001b[0;31m         \u001b[0mself\u001b[0m\u001b[0;34m.\u001b[0m\u001b[0m_make_engine\u001b[0m\u001b[0;34m(\u001b[0m\u001b[0mself\u001b[0m\u001b[0;34m.\u001b[0m\u001b[0mengine\u001b[0m\u001b[0;34m)\u001b[0m\u001b[0;34m\u001b[0m\u001b[0;34m\u001b[0m\u001b[0m\n\u001b[0m\u001b[1;32m    949\u001b[0m \u001b[0;34m\u001b[0m\u001b[0m\n\u001b[1;32m    950\u001b[0m     \u001b[0;32mdef\u001b[0m \u001b[0mclose\u001b[0m\u001b[0;34m(\u001b[0m\u001b[0mself\u001b[0m\u001b[0;34m)\u001b[0m\u001b[0;34m:\u001b[0m\u001b[0;34m\u001b[0m\u001b[0;34m\u001b[0m\u001b[0m\n",
            "\u001b[0;32m/usr/local/lib/python3.7/dist-packages/pandas/io/parsers.py\u001b[0m in \u001b[0;36m_make_engine\u001b[0;34m(self, engine)\u001b[0m\n\u001b[1;32m   1178\u001b[0m     \u001b[0;32mdef\u001b[0m \u001b[0m_make_engine\u001b[0m\u001b[0;34m(\u001b[0m\u001b[0mself\u001b[0m\u001b[0;34m,\u001b[0m \u001b[0mengine\u001b[0m\u001b[0;34m=\u001b[0m\u001b[0;34m\"c\"\u001b[0m\u001b[0;34m)\u001b[0m\u001b[0;34m:\u001b[0m\u001b[0;34m\u001b[0m\u001b[0;34m\u001b[0m\u001b[0m\n\u001b[1;32m   1179\u001b[0m         \u001b[0;32mif\u001b[0m \u001b[0mengine\u001b[0m \u001b[0;34m==\u001b[0m \u001b[0;34m\"c\"\u001b[0m\u001b[0;34m:\u001b[0m\u001b[0;34m\u001b[0m\u001b[0;34m\u001b[0m\u001b[0m\n\u001b[0;32m-> 1180\u001b[0;31m             \u001b[0mself\u001b[0m\u001b[0;34m.\u001b[0m\u001b[0m_engine\u001b[0m \u001b[0;34m=\u001b[0m \u001b[0mCParserWrapper\u001b[0m\u001b[0;34m(\u001b[0m\u001b[0mself\u001b[0m\u001b[0;34m.\u001b[0m\u001b[0mf\u001b[0m\u001b[0;34m,\u001b[0m \u001b[0;34m**\u001b[0m\u001b[0mself\u001b[0m\u001b[0;34m.\u001b[0m\u001b[0moptions\u001b[0m\u001b[0;34m)\u001b[0m\u001b[0;34m\u001b[0m\u001b[0;34m\u001b[0m\u001b[0m\n\u001b[0m\u001b[1;32m   1181\u001b[0m         \u001b[0;32melse\u001b[0m\u001b[0;34m:\u001b[0m\u001b[0;34m\u001b[0m\u001b[0;34m\u001b[0m\u001b[0m\n\u001b[1;32m   1182\u001b[0m             \u001b[0;32mif\u001b[0m \u001b[0mengine\u001b[0m \u001b[0;34m==\u001b[0m \u001b[0;34m\"python\"\u001b[0m\u001b[0;34m:\u001b[0m\u001b[0;34m\u001b[0m\u001b[0;34m\u001b[0m\u001b[0m\n",
            "\u001b[0;32m/usr/local/lib/python3.7/dist-packages/pandas/io/parsers.py\u001b[0m in \u001b[0;36m__init__\u001b[0;34m(self, src, **kwds)\u001b[0m\n\u001b[1;32m   2008\u001b[0m         \u001b[0mkwds\u001b[0m\u001b[0;34m[\u001b[0m\u001b[0;34m\"usecols\"\u001b[0m\u001b[0;34m]\u001b[0m \u001b[0;34m=\u001b[0m \u001b[0mself\u001b[0m\u001b[0;34m.\u001b[0m\u001b[0musecols\u001b[0m\u001b[0;34m\u001b[0m\u001b[0;34m\u001b[0m\u001b[0m\n\u001b[1;32m   2009\u001b[0m \u001b[0;34m\u001b[0m\u001b[0m\n\u001b[0;32m-> 2010\u001b[0;31m         \u001b[0mself\u001b[0m\u001b[0;34m.\u001b[0m\u001b[0m_reader\u001b[0m \u001b[0;34m=\u001b[0m \u001b[0mparsers\u001b[0m\u001b[0;34m.\u001b[0m\u001b[0mTextReader\u001b[0m\u001b[0;34m(\u001b[0m\u001b[0msrc\u001b[0m\u001b[0;34m,\u001b[0m \u001b[0;34m**\u001b[0m\u001b[0mkwds\u001b[0m\u001b[0;34m)\u001b[0m\u001b[0;34m\u001b[0m\u001b[0;34m\u001b[0m\u001b[0m\n\u001b[0m\u001b[1;32m   2011\u001b[0m         \u001b[0mself\u001b[0m\u001b[0;34m.\u001b[0m\u001b[0munnamed_cols\u001b[0m \u001b[0;34m=\u001b[0m \u001b[0mself\u001b[0m\u001b[0;34m.\u001b[0m\u001b[0m_reader\u001b[0m\u001b[0;34m.\u001b[0m\u001b[0munnamed_cols\u001b[0m\u001b[0;34m\u001b[0m\u001b[0;34m\u001b[0m\u001b[0m\n\u001b[1;32m   2012\u001b[0m \u001b[0;34m\u001b[0m\u001b[0m\n",
            "\u001b[0;32mpandas/_libs/parsers.pyx\u001b[0m in \u001b[0;36mpandas._libs.parsers.TextReader.__cinit__\u001b[0;34m()\u001b[0m\n",
            "\u001b[0;32mpandas/_libs/parsers.pyx\u001b[0m in \u001b[0;36mpandas._libs.parsers.TextReader._setup_parser_source\u001b[0;34m()\u001b[0m\n",
            "\u001b[0;31mFileNotFoundError\u001b[0m: [Errno 2] No such file or directory: '/content/drive/MyDrive/OPEN IIT/train3.csv'"
          ]
        }
      ]
    },
    {
      "cell_type": "code",
      "metadata": {
        "id": "at1p0ivRwbXF"
      },
      "source": [
        "from sklearn.base import clone\n",
        "\n",
        "\n",
        "class OrdinalClassifier():\n",
        "    \n",
        "    def __init__(self, clf):\n",
        "        self.clf = clf\n",
        "        self.clfs = {}\n",
        "    \n",
        "    def fit(self, X, y):\n",
        "        self.unique_class = np.sort(np.unique(y))\n",
        "        if self.unique_class.shape[0] > 2:\n",
        "            for i in range(self.unique_class.shape[0]-1):\n",
        "                # for each k - 1 ordinal value we fit a binary classification problem\n",
        "                binary_y = (y > self.unique_class[i]).astype(np.uint8)\n",
        "                clf = clone(self.clf)\n",
        "                clf.fit(X, binary_y)\n",
        "                self.clfs[i] = clf\n",
        "    \n",
        "    def predict_proba(self, X):\n",
        "        clfs_predict = {k:self.clfs[k].predict_proba(X) for k in self.clfs}\n",
        "        predicted = []\n",
        "        for i,y in enumerate(self.unique_class):\n",
        "            if i == 0:\n",
        "                # V1 = 1 - Pr(y > V1)\n",
        "                predicted.append(1 - clfs_predict[y][:,1])\n",
        "            elif y in clfs_predict:\n",
        "                # Vi = Pr(y > Vi-1) - Pr(y > Vi)\n",
        "                 predicted.append(clfs_predict[y-1][:,1] - clfs_predict[y][:,1])\n",
        "            else:\n",
        "                # Vk = Pr(y > Vk-1)\n",
        "                predicted.append(clfs_predict[y-1][:,1])\n",
        "        return np.vstack(predicted).T\n",
        "    \n",
        "    def predict(self, X):\n",
        "        return np.argmax(self.predict_proba(X), axis=1)"
      ],
      "execution_count": null,
      "outputs": []
    },
    {
      "cell_type": "code",
      "metadata": {
        "colab": {
          "base_uri": "https://localhost:8080/"
        },
        "id": "FexH5AxOwpyy",
        "outputId": "6487d9a4-aeeb-4779-af30-973147ad7cb7"
      },
      "source": [
        "from sklearn.ensemble import RandomForestClassifier\n",
        "from sklearn.svm import SVC\n",
        "from sklearn.tree import DecisionTreeClassifier\n",
        "clf = OrdinalClassifier(RandomForestClassifier(max_depth=8))\n",
        "clf.fit(X_train, y_train)\n",
        "y_pred=clf.predict(X_test)\n",
        "print(y_pred)"
      ],
      "execution_count": null,
      "outputs": [
        {
          "output_type": "stream",
          "text": [
            "[1 2 3 ... 1 2 0]\n"
          ],
          "name": "stdout"
        }
      ]
    },
    {
      "cell_type": "code",
      "metadata": {
        "colab": {
          "base_uri": "https://localhost:8080/"
        },
        "id": "qsKO6VXtxxvM",
        "outputId": "7c7b02ae-2393-4326-a6ea-e278402f6a09"
      },
      "source": [
        "from sklearn.metrics import accuracy_score\n",
        "accuracy=accuracy_score(y_pred, y_test)\n",
        "print('RF Model accuracy score: {0:0.4f}'.format(accuracy_score(y_test, y_pred)))"
      ],
      "execution_count": null,
      "outputs": [
        {
          "output_type": "stream",
          "text": [
            "RF Model accuracy score: 0.6169\n"
          ],
          "name": "stdout"
        }
      ]
    },
    {
      "cell_type": "code",
      "metadata": {
        "colab": {
          "base_uri": "https://localhost:8080/"
        },
        "id": "jd1s2NiL1Rb4",
        "outputId": "a5829d9c-2435-406f-a967-f893f2c8673e"
      },
      "source": [
        "from sklearn.metrics import classification_report, confusion_matrix, accuracy_score\n",
        "result = confusion_matrix(y_test, y_pred)\n",
        "print(\"Confusion Matrix:\")\n",
        "print(result)\n",
        "result1 = classification_report(y_test, y_pred)\n",
        "print(\"Classification Report:\",)\n",
        "print (result1)\n",
        "result2 = accuracy_score(y_test,y_pred)\n",
        "print(\"Accuracy:\",result2)"
      ],
      "execution_count": null,
      "outputs": [
        {
          "output_type": "stream",
          "text": [
            "Confusion Matrix:\n",
            "[[474  68  29  46   0]\n",
            " [ 77 462 132  11   0]\n",
            " [ 19 209 284  54   0]\n",
            " [  6  71 139 289   0]\n",
            " [  0   4   3  69   0]]\n",
            "Classification Report:\n",
            "              precision    recall  f1-score   support\n",
            "\n",
            "           0       0.82      0.77      0.79       617\n",
            "           1       0.57      0.68      0.62       682\n",
            "           2       0.48      0.50      0.49       566\n",
            "           3       0.62      0.57      0.59       505\n",
            "           4       0.00      0.00      0.00        76\n",
            "\n",
            "    accuracy                           0.62      2446\n",
            "   macro avg       0.50      0.50      0.50      2446\n",
            "weighted avg       0.61      0.62      0.61      2446\n",
            "\n",
            "Accuracy: 0.6169255928045789\n"
          ],
          "name": "stdout"
        },
        {
          "output_type": "stream",
          "text": [
            "/usr/local/lib/python3.7/dist-packages/sklearn/metrics/_classification.py:1272: UndefinedMetricWarning: Precision and F-score are ill-defined and being set to 0.0 in labels with no predicted samples. Use `zero_division` parameter to control this behavior.\n",
            "  _warn_prf(average, modifier, msg_start, len(result))\n"
          ],
          "name": "stderr"
        }
      ]
    },
    {
      "cell_type": "markdown",
      "metadata": {
        "id": "YzSa7qG0bWjl"
      },
      "source": [
        "## **TRAIN3**"
      ]
    },
    {
      "cell_type": "code",
      "metadata": {
        "colab": {
          "base_uri": "https://localhost:8080/",
          "height": 232
        },
        "id": "0rhyb9V0bYHj",
        "outputId": "0446fb82-9116-4662-a5d0-98255309f118"
      },
      "source": [
        "from sklearn.ensemble import RandomForestRegressor\n",
        "from sklearn.datasets import make_regression\n",
        "from sklearn.model_selection import train_test_split\n",
        "import sklearn.preprocessing \n",
        "import pandas as pd\n",
        "import numpy as np\n",
        "df = pd.read_csv('/content/drive/MyDrive/OPEN IIT/train3.csv')\n",
        "\n",
        "\n",
        "df.head()\n"
      ],
      "execution_count": null,
      "outputs": [
        {
          "output_type": "execute_result",
          "data": {
            "text/html": [
              "<div>\n",
              "<style scoped>\n",
              "    .dataframe tbody tr th:only-of-type {\n",
              "        vertical-align: middle;\n",
              "    }\n",
              "\n",
              "    .dataframe tbody tr th {\n",
              "        vertical-align: top;\n",
              "    }\n",
              "\n",
              "    .dataframe thead th {\n",
              "        text-align: right;\n",
              "    }\n",
              "</style>\n",
              "<table border=\"1\" class=\"dataframe\">\n",
              "  <thead>\n",
              "    <tr style=\"text-align: right;\">\n",
              "      <th></th>\n",
              "      <th>Unnamed: 0</th>\n",
              "      <th>Unnamed: 0.1</th>\n",
              "      <th>id</th>\n",
              "      <th>acousticness</th>\n",
              "      <th>danceability</th>\n",
              "      <th>energy</th>\n",
              "      <th>explicit</th>\n",
              "      <th>instrumentalness</th>\n",
              "      <th>key</th>\n",
              "      <th>liveness</th>\n",
              "      <th>loudness</th>\n",
              "      <th>mode</th>\n",
              "      <th>release_date</th>\n",
              "      <th>speechiness</th>\n",
              "      <th>tempo</th>\n",
              "      <th>valence</th>\n",
              "      <th>year</th>\n",
              "      <th>duration-min</th>\n",
              "      <th>popularity</th>\n",
              "      <th>mode*tempo</th>\n",
              "      <th>month</th>\n",
              "      <th>month_name</th>\n",
              "      <th>regression_popularity</th>\n",
              "      <th>rp&gt;0</th>\n",
              "      <th>rp&gt;1</th>\n",
              "      <th>rp&gt;2</th>\n",
              "      <th>rp&gt;3</th>\n",
              "      <th>year&gt;=2000</th>\n",
              "      <th>year&lt;=1960</th>\n",
              "      <th>year&lt;=1980</th>\n",
              "      <th>year&lt;=2000</th>\n",
              "      <th>year&lt;=2010</th>\n",
              "      <th>year&lt;=2020</th>\n",
              "    </tr>\n",
              "  </thead>\n",
              "  <tbody>\n",
              "    <tr>\n",
              "      <th>0</th>\n",
              "      <td>0</td>\n",
              "      <td>0</td>\n",
              "      <td>2015</td>\n",
              "      <td>0.949</td>\n",
              "      <td>0.235</td>\n",
              "      <td>0.0276</td>\n",
              "      <td>0</td>\n",
              "      <td>0.9270</td>\n",
              "      <td>5</td>\n",
              "      <td>0.513</td>\n",
              "      <td>-27.398</td>\n",
              "      <td>Major</td>\n",
              "      <td>01-01-1947</td>\n",
              "      <td>0.0381</td>\n",
              "      <td>110.838</td>\n",
              "      <td>0.0398</td>\n",
              "      <td>1947</td>\n",
              "      <td>3.0</td>\n",
              "      <td>very low</td>\n",
              "      <td>110.838</td>\n",
              "      <td>1</td>\n",
              "      <td>January</td>\n",
              "      <td>0</td>\n",
              "      <td>0</td>\n",
              "      <td>0</td>\n",
              "      <td>0</td>\n",
              "      <td>0</td>\n",
              "      <td>0</td>\n",
              "      <td>1</td>\n",
              "      <td>0</td>\n",
              "      <td>0</td>\n",
              "      <td>0</td>\n",
              "      <td>0</td>\n",
              "    </tr>\n",
              "    <tr>\n",
              "      <th>1</th>\n",
              "      <td>1</td>\n",
              "      <td>1</td>\n",
              "      <td>15901</td>\n",
              "      <td>0.855</td>\n",
              "      <td>0.456</td>\n",
              "      <td>0.4850</td>\n",
              "      <td>0</td>\n",
              "      <td>0.0884</td>\n",
              "      <td>4</td>\n",
              "      <td>0.151</td>\n",
              "      <td>-10.046</td>\n",
              "      <td>Major</td>\n",
              "      <td>13-11-2020</td>\n",
              "      <td>0.0437</td>\n",
              "      <td>152.066</td>\n",
              "      <td>0.8590</td>\n",
              "      <td>2020</td>\n",
              "      <td>2.4</td>\n",
              "      <td>low</td>\n",
              "      <td>152.066</td>\n",
              "      <td>11</td>\n",
              "      <td>November</td>\n",
              "      <td>1</td>\n",
              "      <td>1</td>\n",
              "      <td>0</td>\n",
              "      <td>0</td>\n",
              "      <td>0</td>\n",
              "      <td>1</td>\n",
              "      <td>0</td>\n",
              "      <td>0</td>\n",
              "      <td>0</td>\n",
              "      <td>0</td>\n",
              "      <td>1</td>\n",
              "    </tr>\n",
              "    <tr>\n",
              "      <th>2</th>\n",
              "      <td>2</td>\n",
              "      <td>2</td>\n",
              "      <td>9002</td>\n",
              "      <td>0.827</td>\n",
              "      <td>0.495</td>\n",
              "      <td>0.4990</td>\n",
              "      <td>0</td>\n",
              "      <td>0.0000</td>\n",
              "      <td>0</td>\n",
              "      <td>0.401</td>\n",
              "      <td>-8.009</td>\n",
              "      <td>Minor</td>\n",
              "      <td>01-01-1950</td>\n",
              "      <td>0.0474</td>\n",
              "      <td>108.004</td>\n",
              "      <td>0.7090</td>\n",
              "      <td>1950</td>\n",
              "      <td>2.6</td>\n",
              "      <td>very low</td>\n",
              "      <td>-108.004</td>\n",
              "      <td>1</td>\n",
              "      <td>January</td>\n",
              "      <td>0</td>\n",
              "      <td>0</td>\n",
              "      <td>0</td>\n",
              "      <td>0</td>\n",
              "      <td>0</td>\n",
              "      <td>0</td>\n",
              "      <td>1</td>\n",
              "      <td>0</td>\n",
              "      <td>0</td>\n",
              "      <td>0</td>\n",
              "      <td>0</td>\n",
              "    </tr>\n",
              "    <tr>\n",
              "      <th>3</th>\n",
              "      <td>3</td>\n",
              "      <td>3</td>\n",
              "      <td>6734</td>\n",
              "      <td>0.654</td>\n",
              "      <td>0.643</td>\n",
              "      <td>0.4690</td>\n",
              "      <td>0</td>\n",
              "      <td>0.1080</td>\n",
              "      <td>7</td>\n",
              "      <td>0.218</td>\n",
              "      <td>-15.917</td>\n",
              "      <td>Major</td>\n",
              "      <td>30-04-1974</td>\n",
              "      <td>0.0368</td>\n",
              "      <td>83.636</td>\n",
              "      <td>0.9640</td>\n",
              "      <td>1974</td>\n",
              "      <td>2.4</td>\n",
              "      <td>low</td>\n",
              "      <td>83.636</td>\n",
              "      <td>4</td>\n",
              "      <td>April</td>\n",
              "      <td>1</td>\n",
              "      <td>1</td>\n",
              "      <td>0</td>\n",
              "      <td>0</td>\n",
              "      <td>0</td>\n",
              "      <td>0</td>\n",
              "      <td>0</td>\n",
              "      <td>1</td>\n",
              "      <td>0</td>\n",
              "      <td>0</td>\n",
              "      <td>0</td>\n",
              "    </tr>\n",
              "    <tr>\n",
              "      <th>4</th>\n",
              "      <td>4</td>\n",
              "      <td>4</td>\n",
              "      <td>15563</td>\n",
              "      <td>0.738</td>\n",
              "      <td>0.705</td>\n",
              "      <td>0.3110</td>\n",
              "      <td>0</td>\n",
              "      <td>0.0000</td>\n",
              "      <td>5</td>\n",
              "      <td>0.322</td>\n",
              "      <td>-12.344</td>\n",
              "      <td>Major</td>\n",
              "      <td>01-01-1973</td>\n",
              "      <td>0.0488</td>\n",
              "      <td>117.260</td>\n",
              "      <td>0.7850</td>\n",
              "      <td>1973</td>\n",
              "      <td>3.4</td>\n",
              "      <td>average</td>\n",
              "      <td>117.260</td>\n",
              "      <td>1</td>\n",
              "      <td>January</td>\n",
              "      <td>2</td>\n",
              "      <td>1</td>\n",
              "      <td>1</td>\n",
              "      <td>0</td>\n",
              "      <td>0</td>\n",
              "      <td>0</td>\n",
              "      <td>0</td>\n",
              "      <td>1</td>\n",
              "      <td>0</td>\n",
              "      <td>0</td>\n",
              "      <td>0</td>\n",
              "    </tr>\n",
              "  </tbody>\n",
              "</table>\n",
              "</div>"
            ],
            "text/plain": [
              "   Unnamed: 0  Unnamed: 0.1     id  ...  year<=2000  year<=2010  year<=2020\n",
              "0           0             0   2015  ...           0           0           0\n",
              "1           1             1  15901  ...           0           0           1\n",
              "2           2             2   9002  ...           0           0           0\n",
              "3           3             3   6734  ...           0           0           0\n",
              "4           4             4  15563  ...           0           0           0\n",
              "\n",
              "[5 rows x 33 columns]"
            ]
          },
          "metadata": {
            "tags": []
          },
          "execution_count": 10
        }
      ]
    },
    {
      "cell_type": "code",
      "metadata": {
        "colab": {
          "base_uri": "https://localhost:8080/",
          "height": 232
        },
        "id": "QDXBPFdWb9_N",
        "outputId": "7fe1e67b-45ad-418f-e7b4-43ce530d696b"
      },
      "source": [
        "df2 = pd.read_csv('/content/drive/MyDrive/OPEN IIT/train2.csv')\n",
        "df2.head()"
      ],
      "execution_count": null,
      "outputs": [
        {
          "output_type": "execute_result",
          "data": {
            "text/html": [
              "<div>\n",
              "<style scoped>\n",
              "    .dataframe tbody tr th:only-of-type {\n",
              "        vertical-align: middle;\n",
              "    }\n",
              "\n",
              "    .dataframe tbody tr th {\n",
              "        vertical-align: top;\n",
              "    }\n",
              "\n",
              "    .dataframe thead th {\n",
              "        text-align: right;\n",
              "    }\n",
              "</style>\n",
              "<table border=\"1\" class=\"dataframe\">\n",
              "  <thead>\n",
              "    <tr style=\"text-align: right;\">\n",
              "      <th></th>\n",
              "      <th>Unnamed: 0</th>\n",
              "      <th>Unnamed: 0.1</th>\n",
              "      <th>Unnamed: 0.1.1</th>\n",
              "      <th>id</th>\n",
              "      <th>acousticness</th>\n",
              "      <th>danceability</th>\n",
              "      <th>energy</th>\n",
              "      <th>explicit</th>\n",
              "      <th>instrumentalness</th>\n",
              "      <th>key</th>\n",
              "      <th>liveness</th>\n",
              "      <th>loudness</th>\n",
              "      <th>mode</th>\n",
              "      <th>release_date</th>\n",
              "      <th>speechiness</th>\n",
              "      <th>tempo</th>\n",
              "      <th>valence</th>\n",
              "      <th>year</th>\n",
              "      <th>duration-min</th>\n",
              "      <th>popularity</th>\n",
              "      <th>mode*tempo</th>\n",
              "      <th>month</th>\n",
              "      <th>month_name</th>\n",
              "      <th>year&gt;=2000</th>\n",
              "      <th>year&lt;=1960</th>\n",
              "      <th>year&lt;=1980</th>\n",
              "      <th>year&lt;=2000</th>\n",
              "      <th>year&lt;=2010</th>\n",
              "      <th>year&lt;=2020</th>\n",
              "      <th>regression_popularity</th>\n",
              "    </tr>\n",
              "  </thead>\n",
              "  <tbody>\n",
              "    <tr>\n",
              "      <th>0</th>\n",
              "      <td>0</td>\n",
              "      <td>0</td>\n",
              "      <td>0</td>\n",
              "      <td>2015</td>\n",
              "      <td>0.949</td>\n",
              "      <td>0.235</td>\n",
              "      <td>0.0276</td>\n",
              "      <td>0</td>\n",
              "      <td>0.9270</td>\n",
              "      <td>5</td>\n",
              "      <td>0.513</td>\n",
              "      <td>-27.398</td>\n",
              "      <td>Major</td>\n",
              "      <td>01-01-1947</td>\n",
              "      <td>0.0381</td>\n",
              "      <td>110.838</td>\n",
              "      <td>0.0398</td>\n",
              "      <td>1947</td>\n",
              "      <td>3.0</td>\n",
              "      <td>very low</td>\n",
              "      <td>110.838</td>\n",
              "      <td>1</td>\n",
              "      <td>January</td>\n",
              "      <td>0</td>\n",
              "      <td>1</td>\n",
              "      <td>0</td>\n",
              "      <td>0</td>\n",
              "      <td>0</td>\n",
              "      <td>0</td>\n",
              "      <td>1</td>\n",
              "    </tr>\n",
              "    <tr>\n",
              "      <th>1</th>\n",
              "      <td>1</td>\n",
              "      <td>1</td>\n",
              "      <td>1</td>\n",
              "      <td>15901</td>\n",
              "      <td>0.855</td>\n",
              "      <td>0.456</td>\n",
              "      <td>0.4850</td>\n",
              "      <td>0</td>\n",
              "      <td>0.0884</td>\n",
              "      <td>4</td>\n",
              "      <td>0.151</td>\n",
              "      <td>-10.046</td>\n",
              "      <td>Major</td>\n",
              "      <td>13-11-2020</td>\n",
              "      <td>0.0437</td>\n",
              "      <td>152.066</td>\n",
              "      <td>0.8590</td>\n",
              "      <td>2020</td>\n",
              "      <td>2.4</td>\n",
              "      <td>low</td>\n",
              "      <td>152.066</td>\n",
              "      <td>11</td>\n",
              "      <td>November</td>\n",
              "      <td>1</td>\n",
              "      <td>0</td>\n",
              "      <td>0</td>\n",
              "      <td>0</td>\n",
              "      <td>0</td>\n",
              "      <td>1</td>\n",
              "      <td>2</td>\n",
              "    </tr>\n",
              "    <tr>\n",
              "      <th>2</th>\n",
              "      <td>2</td>\n",
              "      <td>2</td>\n",
              "      <td>2</td>\n",
              "      <td>9002</td>\n",
              "      <td>0.827</td>\n",
              "      <td>0.495</td>\n",
              "      <td>0.4990</td>\n",
              "      <td>0</td>\n",
              "      <td>0.0000</td>\n",
              "      <td>0</td>\n",
              "      <td>0.401</td>\n",
              "      <td>-8.009</td>\n",
              "      <td>Minor</td>\n",
              "      <td>01-01-1950</td>\n",
              "      <td>0.0474</td>\n",
              "      <td>108.004</td>\n",
              "      <td>0.7090</td>\n",
              "      <td>1950</td>\n",
              "      <td>2.6</td>\n",
              "      <td>very low</td>\n",
              "      <td>-108.004</td>\n",
              "      <td>1</td>\n",
              "      <td>January</td>\n",
              "      <td>0</td>\n",
              "      <td>1</td>\n",
              "      <td>0</td>\n",
              "      <td>0</td>\n",
              "      <td>0</td>\n",
              "      <td>0</td>\n",
              "      <td>1</td>\n",
              "    </tr>\n",
              "    <tr>\n",
              "      <th>3</th>\n",
              "      <td>3</td>\n",
              "      <td>3</td>\n",
              "      <td>3</td>\n",
              "      <td>6734</td>\n",
              "      <td>0.654</td>\n",
              "      <td>0.643</td>\n",
              "      <td>0.4690</td>\n",
              "      <td>0</td>\n",
              "      <td>0.1080</td>\n",
              "      <td>7</td>\n",
              "      <td>0.218</td>\n",
              "      <td>-15.917</td>\n",
              "      <td>Major</td>\n",
              "      <td>30-04-1974</td>\n",
              "      <td>0.0368</td>\n",
              "      <td>83.636</td>\n",
              "      <td>0.9640</td>\n",
              "      <td>1974</td>\n",
              "      <td>2.4</td>\n",
              "      <td>low</td>\n",
              "      <td>83.636</td>\n",
              "      <td>4</td>\n",
              "      <td>April</td>\n",
              "      <td>0</td>\n",
              "      <td>0</td>\n",
              "      <td>1</td>\n",
              "      <td>0</td>\n",
              "      <td>0</td>\n",
              "      <td>0</td>\n",
              "      <td>2</td>\n",
              "    </tr>\n",
              "    <tr>\n",
              "      <th>4</th>\n",
              "      <td>4</td>\n",
              "      <td>4</td>\n",
              "      <td>4</td>\n",
              "      <td>15563</td>\n",
              "      <td>0.738</td>\n",
              "      <td>0.705</td>\n",
              "      <td>0.3110</td>\n",
              "      <td>0</td>\n",
              "      <td>0.0000</td>\n",
              "      <td>5</td>\n",
              "      <td>0.322</td>\n",
              "      <td>-12.344</td>\n",
              "      <td>Major</td>\n",
              "      <td>01-01-1973</td>\n",
              "      <td>0.0488</td>\n",
              "      <td>117.260</td>\n",
              "      <td>0.7850</td>\n",
              "      <td>1973</td>\n",
              "      <td>3.4</td>\n",
              "      <td>average</td>\n",
              "      <td>117.260</td>\n",
              "      <td>1</td>\n",
              "      <td>January</td>\n",
              "      <td>0</td>\n",
              "      <td>0</td>\n",
              "      <td>1</td>\n",
              "      <td>0</td>\n",
              "      <td>0</td>\n",
              "      <td>0</td>\n",
              "      <td>3</td>\n",
              "    </tr>\n",
              "  </tbody>\n",
              "</table>\n",
              "</div>"
            ],
            "text/plain": [
              "   Unnamed: 0  Unnamed: 0.1  ...  year<=2020  regression_popularity\n",
              "0           0             0  ...           0                      1\n",
              "1           1             1  ...           1                      2\n",
              "2           2             2  ...           0                      1\n",
              "3           3             3  ...           0                      2\n",
              "4           4             4  ...           0                      3\n",
              "\n",
              "[5 rows x 30 columns]"
            ]
          },
          "metadata": {
            "tags": []
          },
          "execution_count": 4
        }
      ]
    },
    {
      "cell_type": "code",
      "metadata": {
        "colab": {
          "base_uri": "https://localhost:8080/",
          "height": 232
        },
        "id": "admaNFuycJV7",
        "outputId": "4c145255-a62b-45e9-cfec-99cd3bf30719"
      },
      "source": [
        "df['year>=2000']=df2['year>=2000']\n",
        "df['year<=1960']=df2['year<=1960']\n",
        "df['year<=1980']=df2['year<=1980']\n",
        "df['year<=2000']=df2['year<=2000']\n",
        "df['year<=2010']=df2['year<=2010']\n",
        "df['year<=2020']=df2['year<=2020']\n",
        "df.head()"
      ],
      "execution_count": null,
      "outputs": [
        {
          "output_type": "execute_result",
          "data": {
            "text/html": [
              "<div>\n",
              "<style scoped>\n",
              "    .dataframe tbody tr th:only-of-type {\n",
              "        vertical-align: middle;\n",
              "    }\n",
              "\n",
              "    .dataframe tbody tr th {\n",
              "        vertical-align: top;\n",
              "    }\n",
              "\n",
              "    .dataframe thead th {\n",
              "        text-align: right;\n",
              "    }\n",
              "</style>\n",
              "<table border=\"1\" class=\"dataframe\">\n",
              "  <thead>\n",
              "    <tr style=\"text-align: right;\">\n",
              "      <th></th>\n",
              "      <th>Unnamed: 0</th>\n",
              "      <th>id</th>\n",
              "      <th>acousticness</th>\n",
              "      <th>danceability</th>\n",
              "      <th>energy</th>\n",
              "      <th>explicit</th>\n",
              "      <th>instrumentalness</th>\n",
              "      <th>key</th>\n",
              "      <th>liveness</th>\n",
              "      <th>loudness</th>\n",
              "      <th>mode</th>\n",
              "      <th>release_date</th>\n",
              "      <th>speechiness</th>\n",
              "      <th>tempo</th>\n",
              "      <th>valence</th>\n",
              "      <th>year</th>\n",
              "      <th>duration-min</th>\n",
              "      <th>popularity</th>\n",
              "      <th>mode*tempo</th>\n",
              "      <th>month</th>\n",
              "      <th>month_name</th>\n",
              "      <th>regression_popularity</th>\n",
              "      <th>rp&gt;0</th>\n",
              "      <th>rp&gt;1</th>\n",
              "      <th>rp&gt;2</th>\n",
              "      <th>rp&gt;3</th>\n",
              "      <th>year&gt;=2000</th>\n",
              "      <th>year&lt;=1960</th>\n",
              "      <th>year&lt;=1980</th>\n",
              "      <th>year&lt;=2000</th>\n",
              "      <th>year&lt;=2010</th>\n",
              "      <th>year&lt;=2020</th>\n",
              "    </tr>\n",
              "  </thead>\n",
              "  <tbody>\n",
              "    <tr>\n",
              "      <th>0</th>\n",
              "      <td>0</td>\n",
              "      <td>2015</td>\n",
              "      <td>0.949</td>\n",
              "      <td>0.235</td>\n",
              "      <td>0.0276</td>\n",
              "      <td>0</td>\n",
              "      <td>0.9270</td>\n",
              "      <td>5</td>\n",
              "      <td>0.513</td>\n",
              "      <td>-27.398</td>\n",
              "      <td>Major</td>\n",
              "      <td>01-01-1947</td>\n",
              "      <td>0.0381</td>\n",
              "      <td>110.838</td>\n",
              "      <td>0.0398</td>\n",
              "      <td>1947</td>\n",
              "      <td>3.0</td>\n",
              "      <td>very low</td>\n",
              "      <td>110.838</td>\n",
              "      <td>1</td>\n",
              "      <td>January</td>\n",
              "      <td>0</td>\n",
              "      <td>0</td>\n",
              "      <td>0</td>\n",
              "      <td>0</td>\n",
              "      <td>0</td>\n",
              "      <td>0</td>\n",
              "      <td>1</td>\n",
              "      <td>0</td>\n",
              "      <td>0</td>\n",
              "      <td>0</td>\n",
              "      <td>0</td>\n",
              "    </tr>\n",
              "    <tr>\n",
              "      <th>1</th>\n",
              "      <td>1</td>\n",
              "      <td>15901</td>\n",
              "      <td>0.855</td>\n",
              "      <td>0.456</td>\n",
              "      <td>0.4850</td>\n",
              "      <td>0</td>\n",
              "      <td>0.0884</td>\n",
              "      <td>4</td>\n",
              "      <td>0.151</td>\n",
              "      <td>-10.046</td>\n",
              "      <td>Major</td>\n",
              "      <td>13-11-2020</td>\n",
              "      <td>0.0437</td>\n",
              "      <td>152.066</td>\n",
              "      <td>0.8590</td>\n",
              "      <td>2020</td>\n",
              "      <td>2.4</td>\n",
              "      <td>low</td>\n",
              "      <td>152.066</td>\n",
              "      <td>11</td>\n",
              "      <td>November</td>\n",
              "      <td>1</td>\n",
              "      <td>1</td>\n",
              "      <td>0</td>\n",
              "      <td>0</td>\n",
              "      <td>0</td>\n",
              "      <td>1</td>\n",
              "      <td>0</td>\n",
              "      <td>0</td>\n",
              "      <td>0</td>\n",
              "      <td>0</td>\n",
              "      <td>1</td>\n",
              "    </tr>\n",
              "    <tr>\n",
              "      <th>2</th>\n",
              "      <td>2</td>\n",
              "      <td>9002</td>\n",
              "      <td>0.827</td>\n",
              "      <td>0.495</td>\n",
              "      <td>0.4990</td>\n",
              "      <td>0</td>\n",
              "      <td>0.0000</td>\n",
              "      <td>0</td>\n",
              "      <td>0.401</td>\n",
              "      <td>-8.009</td>\n",
              "      <td>Minor</td>\n",
              "      <td>01-01-1950</td>\n",
              "      <td>0.0474</td>\n",
              "      <td>108.004</td>\n",
              "      <td>0.7090</td>\n",
              "      <td>1950</td>\n",
              "      <td>2.6</td>\n",
              "      <td>very low</td>\n",
              "      <td>-108.004</td>\n",
              "      <td>1</td>\n",
              "      <td>January</td>\n",
              "      <td>0</td>\n",
              "      <td>0</td>\n",
              "      <td>0</td>\n",
              "      <td>0</td>\n",
              "      <td>0</td>\n",
              "      <td>0</td>\n",
              "      <td>1</td>\n",
              "      <td>0</td>\n",
              "      <td>0</td>\n",
              "      <td>0</td>\n",
              "      <td>0</td>\n",
              "    </tr>\n",
              "    <tr>\n",
              "      <th>3</th>\n",
              "      <td>3</td>\n",
              "      <td>6734</td>\n",
              "      <td>0.654</td>\n",
              "      <td>0.643</td>\n",
              "      <td>0.4690</td>\n",
              "      <td>0</td>\n",
              "      <td>0.1080</td>\n",
              "      <td>7</td>\n",
              "      <td>0.218</td>\n",
              "      <td>-15.917</td>\n",
              "      <td>Major</td>\n",
              "      <td>30-04-1974</td>\n",
              "      <td>0.0368</td>\n",
              "      <td>83.636</td>\n",
              "      <td>0.9640</td>\n",
              "      <td>1974</td>\n",
              "      <td>2.4</td>\n",
              "      <td>low</td>\n",
              "      <td>83.636</td>\n",
              "      <td>4</td>\n",
              "      <td>April</td>\n",
              "      <td>1</td>\n",
              "      <td>1</td>\n",
              "      <td>0</td>\n",
              "      <td>0</td>\n",
              "      <td>0</td>\n",
              "      <td>0</td>\n",
              "      <td>0</td>\n",
              "      <td>1</td>\n",
              "      <td>0</td>\n",
              "      <td>0</td>\n",
              "      <td>0</td>\n",
              "    </tr>\n",
              "    <tr>\n",
              "      <th>4</th>\n",
              "      <td>4</td>\n",
              "      <td>15563</td>\n",
              "      <td>0.738</td>\n",
              "      <td>0.705</td>\n",
              "      <td>0.3110</td>\n",
              "      <td>0</td>\n",
              "      <td>0.0000</td>\n",
              "      <td>5</td>\n",
              "      <td>0.322</td>\n",
              "      <td>-12.344</td>\n",
              "      <td>Major</td>\n",
              "      <td>01-01-1973</td>\n",
              "      <td>0.0488</td>\n",
              "      <td>117.260</td>\n",
              "      <td>0.7850</td>\n",
              "      <td>1973</td>\n",
              "      <td>3.4</td>\n",
              "      <td>average</td>\n",
              "      <td>117.260</td>\n",
              "      <td>1</td>\n",
              "      <td>January</td>\n",
              "      <td>2</td>\n",
              "      <td>1</td>\n",
              "      <td>1</td>\n",
              "      <td>0</td>\n",
              "      <td>0</td>\n",
              "      <td>0</td>\n",
              "      <td>0</td>\n",
              "      <td>1</td>\n",
              "      <td>0</td>\n",
              "      <td>0</td>\n",
              "      <td>0</td>\n",
              "    </tr>\n",
              "  </tbody>\n",
              "</table>\n",
              "</div>"
            ],
            "text/plain": [
              "   Unnamed: 0     id  acousticness  ...  year<=2000  year<=2010  year<=2020\n",
              "0           0   2015         0.949  ...           0           0           0\n",
              "1           1  15901         0.855  ...           0           0           1\n",
              "2           2   9002         0.827  ...           0           0           0\n",
              "3           3   6734         0.654  ...           0           0           0\n",
              "4           4  15563         0.738  ...           0           0           0\n",
              "\n",
              "[5 rows x 32 columns]"
            ]
          },
          "metadata": {
            "tags": []
          },
          "execution_count": 8
        }
      ]
    },
    {
      "cell_type": "code",
      "metadata": {
        "id": "AqhIxuzWdIA2"
      },
      "source": [
        "df.to_csv('/content/drive/MyDrive/OPEN IIT/train3.csv')"
      ],
      "execution_count": null,
      "outputs": []
    },
    {
      "cell_type": "markdown",
      "metadata": {
        "id": "kURD7jl-mg2x"
      },
      "source": [
        "\n",
        " RP>0"
      ]
    },
    {
      "cell_type": "code",
      "metadata": {
        "colab": {
          "base_uri": "https://localhost:8080/"
        },
        "id": "55WIpKMElkUJ",
        "outputId": "24bed164-497e-4a6d-91be-29c32217b21e"
      },
      "source": [
        "from scipy.stats import spearmanr\n",
        "from scipy.stats import kendalltau \n",
        "num_cols=['acousticness','danceability','energy','instrumentalness','key','liveness','loudness','speechiness','tempo','valence','year<=1960','year<=1980','year<=2000','year<=2010','year<=2020','duration-min']\n",
        "y=df['popularity']\n",
        "for i in range (len(num_cols)):\n",
        "  coef, _= kendalltau(df[num_cols[i]], df['rp>0'])\n",
        "  print(\"%s\" %num_cols[i] +': %f' % coef) "
      ],
      "execution_count": null,
      "outputs": [
        {
          "output_type": "stream",
          "text": [
            "acousticness: -0.307524\n",
            "danceability: 0.095557\n",
            "energy: 0.258062\n",
            "instrumentalness: -0.211924\n",
            "key: 0.004377\n",
            "liveness: -0.085746\n",
            "loudness: 0.254356\n",
            "speechiness: -0.127572\n",
            "tempo: 0.059584\n",
            "valence: 0.036500\n",
            "year<=1960: -0.684066\n",
            "year<=1980: 0.175136\n",
            "year<=2000: 0.335664\n",
            "year<=2010: 0.117379\n",
            "year<=2020: 0.064780\n",
            "duration-min: 0.153891\n"
          ],
          "name": "stdout"
        }
      ]
    },
    {
      "cell_type": "markdown",
      "metadata": {
        "id": "9L10BpNAmogt"
      },
      "source": [
        "RP>1 YASHVI\n"
      ]
    },
    {
      "cell_type": "code",
      "metadata": {
        "colab": {
          "base_uri": "https://localhost:8080/"
        },
        "id": "npx8Fkpkmqnm",
        "outputId": "8f998646-a23c-4a14-b738-34783e675185"
      },
      "source": [
        "from scipy.stats import spearmanr\n",
        "from scipy.stats import kendalltau \n",
        "num_cols=['acousticness','danceability','energy','instrumentalness','key','liveness','loudness','speechiness','tempo','valence','year<=1960','year<=1980','year<=2000','year<=2010','year<=2020','duration-min']\n",
        "y=df['popularity']\n",
        "for i in range (len(num_cols)):\n",
        "  coef, _= kendalltau(df[num_cols[i]], df['rp>1'])\n",
        "  print(\"%s\" %num_cols[i] +': %f' % coef) "
      ],
      "execution_count": null,
      "outputs": [
        {
          "output_type": "stream",
          "text": [
            "acousticness: -0.273254\n",
            "danceability: 0.161813\n",
            "energy: 0.239747\n",
            "instrumentalness: -0.243264\n",
            "key: 0.013422\n",
            "liveness: -0.078468\n",
            "loudness: 0.336476\n",
            "speechiness: -0.026408\n",
            "tempo: 0.048366\n",
            "valence: -0.007928\n",
            "year<=1960: -0.454539\n",
            "year<=1980: -0.170304\n",
            "year<=2000: 0.117813\n",
            "year<=2010: 0.269697\n",
            "year<=2020: 0.292054\n",
            "duration-min: 0.112179\n"
          ],
          "name": "stdout"
        }
      ]
    },
    {
      "cell_type": "markdown",
      "metadata": {
        "id": "EtvhXURrWWRM"
      },
      "source": [
        "RP>2 PRATYASHA"
      ]
    },
    {
      "cell_type": "code",
      "metadata": {
        "colab": {
          "base_uri": "https://localhost:8080/"
        },
        "id": "yVrrkPl7nLLq",
        "outputId": "be0c38db-db06-431a-cc1a-0332ed4ff09b"
      },
      "source": [
        "from scipy.stats import spearmanr\n",
        "from scipy.stats import kendalltau \n",
        "num_cols=['acousticness','danceability','energy','instrumentalness','key','liveness','loudness','speechiness','tempo','valence','year<=1960','year<=1980','year<=2000','year<=2010','year<=2020','duration-min']\n",
        "y=df['popularity']\n",
        "for i in range (len(num_cols)):\n",
        "  coef, _= kendalltau(df[num_cols[i]], df['rp>2'])\n",
        "  print(\"%s\" %num_cols[i] +': %f' % coef) "
      ],
      "execution_count": null,
      "outputs": [
        {
          "output_type": "stream",
          "text": [
            "acousticness: -0.197159\n",
            "danceability: 0.164314\n",
            "energy: 0.169225\n",
            "instrumentalness: -0.225341\n",
            "key: 0.008047\n",
            "liveness: -0.045384\n",
            "loudness: 0.301062\n",
            "speechiness: 0.043589\n",
            "tempo: 0.050401\n",
            "valence: -0.043587\n",
            "year<=1960: -0.275987\n",
            "year<=1980: -0.186341\n",
            "year<=2000: -0.123337\n",
            "year<=2010: 0.108803\n",
            "year<=2020: 0.509228\n",
            "duration-min: 0.025810\n"
          ],
          "name": "stdout"
        }
      ]
    },
    {
      "cell_type": "code",
      "metadata": {
        "colab": {
          "base_uri": "https://localhost:8080/"
        },
        "id": "SbqRy8sznUc8",
        "outputId": "324b29d1-9e2f-45a8-e337-5466bbbae032"
      },
      "source": [
        "from scipy.stats import spearmanr\n",
        "from scipy.stats import kendalltau \n",
        "num_cols=['acousticness','danceability','energy','instrumentalness','key','liveness','loudness','speechiness','tempo','valence','year<=1960','year<=1980','year<=2000','year<=2010','year<=2020','duration-min']\n",
        "y=df['popularity']\n",
        "for i in range (len(num_cols)):\n",
        "  coef, _= kendalltau(df[num_cols[i]], df['rp>3'])\n",
        "  print(\"%s\" %num_cols[i] +': %f' % coef) "
      ],
      "execution_count": null,
      "outputs": [
        {
          "output_type": "stream",
          "text": [
            "acousticness: -0.050402\n",
            "danceability: 0.100264\n",
            "energy: 0.041412\n",
            "instrumentalness: -0.101452\n",
            "key: 0.008555\n",
            "liveness: -0.017496\n",
            "loudness: 0.116768\n",
            "speechiness: 0.052302\n",
            "tempo: 0.009540\n",
            "valence: -0.017017\n",
            "year<=1960: -0.085986\n",
            "year<=1980: -0.081573\n",
            "year<=2000: -0.089314\n",
            "year<=2010: -0.043979\n",
            "year<=2020: 0.297535\n",
            "duration-min: -0.037455\n"
          ],
          "name": "stdout"
        }
      ]
    },
    {
      "cell_type": "code",
      "metadata": {
        "id": "pMWZA8Flbryx"
      },
      "source": [
        "X=df[[ 'acousticness', 'danceability',\n",
        "       'explicit', 'instrumentalness',\n",
        "       'speechiness', \n",
        "       'duration-min', 'year<=1960','year<=1980','year>=2000', \n",
        "       ]]\n",
        "sc_1=sklearn.preprocessing.StandardScaler()\n",
        "sc_1.fit(X)\n",
        "y=df['rp>0']\n",
        "X_train, X_test, y_train, y_test = train_test_split(X, y,test_size=0.2, random_state = 1)"
      ],
      "execution_count": null,
      "outputs": []
    },
    {
      "cell_type": "code",
      "metadata": {
        "id": "F3cZZNDY1PhM"
      },
      "source": [
        ""
      ],
      "execution_count": null,
      "outputs": []
    },
    {
      "cell_type": "code",
      "metadata": {
        "colab": {
          "base_uri": "https://localhost:8080/"
        },
        "id": "kAdhjLn3srsH",
        "outputId": "9d007155-37e8-47a6-d860-89bd0b1ebeb0"
      },
      "source": [
        "from sklearn.ensemble import RandomForestClassifier\n",
        "from sklearn.svm import SVC\n",
        "clf = RandomForestClassifier( n_estimators=500,random_state=1,class_weight='balanced')\n",
        "\n",
        "clf.fit(X_train, y_train)\n",
        "y_pred=clf.predict(X_test)\n",
        "from sklearn.metrics import classification_report, confusion_matrix, accuracy_score\n",
        "result = confusion_matrix(y_test, y_pred)\n",
        "print(\"Confusion Matrix:\")\n",
        "print(result)\n",
        "result1 = classification_report(y_test, y_pred)\n",
        "print(\"Classification Report:\",)\n",
        "print (result1)\n",
        "result2 = accuracy_score(y_test,y_pred)\n",
        "print(\"Accuracy:\",result2)\n"
      ],
      "execution_count": null,
      "outputs": [
        {
          "output_type": "stream",
          "text": [
            "Confusion Matrix:\n",
            "[[ 461  156]\n",
            " [  88 1741]]\n",
            "Classification Report:\n",
            "              precision    recall  f1-score   support\n",
            "\n",
            "           0       0.84      0.75      0.79       617\n",
            "           1       0.92      0.95      0.93      1829\n",
            "\n",
            "    accuracy                           0.90      2446\n",
            "   macro avg       0.88      0.85      0.86      2446\n",
            "weighted avg       0.90      0.90      0.90      2446\n",
            "\n",
            "Accuracy: 0.9002452984464432\n"
          ],
          "name": "stdout"
        }
      ]
    },
    {
      "cell_type": "code",
      "metadata": {
        "id": "dXZemu6xuiD9"
      },
      "source": [
        "X=df[[ 'loudness', 'danceability',\n",
        "       'explicit', 'instrumentalness',\n",
        "       'speechiness', \n",
        "       'duration-min', 'year<=2020' \n",
        "       ]]\n",
        "sc_1=sklearn.preprocessing.StandardScaler()\n",
        "sc_1.fit(X)\n",
        "y=df['rp>3']\n",
        "X_train, X_test, y_train, y_test = train_test_split(X, y,test_size=0.2, random_state = 1)\n"
      ],
      "execution_count": null,
      "outputs": []
    },
    {
      "cell_type": "code",
      "metadata": {
        "colab": {
          "base_uri": "https://localhost:8080/"
        },
        "id": "KfbqiMoexJi3",
        "outputId": "b4a37834-c0e6-4655-cfd7-a236b6e43220"
      },
      "source": [
        "from sklearn.ensemble import RandomForestClassifier\n",
        "from sklearn.svm import SVC\n",
        "clf = RandomForestClassifier( n_estimators=500,random_state=1,class_weight={0:1,1:500})\n",
        "\n",
        "clf.fit(X_train, y_train)\n",
        "y_pred=clf.predict(X_test)\n",
        "from sklearn.metrics import classification_report, confusion_matrix, accuracy_score\n",
        "result = confusion_matrix(y_test, y_pred)\n",
        "print(\"Confusion Matrix:\")\n",
        "print(result)\n",
        "result1 = classification_report(y_test, y_pred)\n",
        "print(\"Classification Report:\",)\n",
        "print (result1)\n",
        "result2 = accuracy_score(y_test,y_pred)\n",
        "print(\"Accuracy:\",result2)\n"
      ],
      "execution_count": null,
      "outputs": [
        {
          "output_type": "stream",
          "text": [
            "Confusion Matrix:\n",
            "[[2364    6]\n",
            " [  75    1]]\n",
            "Classification Report:\n",
            "              precision    recall  f1-score   support\n",
            "\n",
            "           0       0.97      1.00      0.98      2370\n",
            "           1       0.14      0.01      0.02        76\n",
            "\n",
            "    accuracy                           0.97      2446\n",
            "   macro avg       0.56      0.51      0.50      2446\n",
            "weighted avg       0.94      0.97      0.95      2446\n",
            "\n",
            "Accuracy: 0.9668847097301717\n"
          ],
          "name": "stdout"
        }
      ]
    },
    {
      "cell_type": "code",
      "metadata": {
        "colab": {
          "base_uri": "https://localhost:8080/"
        },
        "id": "BVA-DveKfvRy",
        "outputId": "5650440b-c807-4d97-c8f3-be12f435c41f"
      },
      "source": [
        "from numpy import mean\n",
        "from numpy import std\n",
        "from pandas import read_csv\n",
        "from sklearn.preprocessing import LabelEncoder\n",
        "from sklearn.preprocessing import StandardScaler\n",
        "from sklearn.model_selection import cross_val_score\n",
        "from sklearn.model_selection import RepeatedStratifiedKFold\n",
        "from sklearn.ensemble import RandomForestClassifier\n",
        " \n",
        "# load the dataset\n",
        "def load_dataset(full_path):\n",
        "\t# load the dataset as a numpy array\n",
        "\tdata = read_csv(full_path, header=None)\n",
        "\t# retrieve numpy array\n",
        "\tdata = data.values\n",
        "\t# split into input and output elements\n",
        "\tX, y = data[:, :-1], data[:, -1]\n",
        "\t# label encode the target variable\n",
        "\ty = LabelEncoder().fit_transform(y)\n",
        "\treturn X, y\n",
        " \n",
        "# evaluate a model\n",
        "def evaluate_model(X, y, model):\n",
        "\t# define evaluation procedure\n",
        "\tcv = RepeatedStratifiedKFold(n_splits=10, n_repeats=5, random_state=1)\n",
        "\t# evaluate model\n",
        "\tscores = cross_val_score(model, X, y, scoring='f1', cv=cv, n_jobs=-1)\n",
        "\treturn scores\n",
        " \n",
        "# define the location of the dataset\n",
        "df=pd.read_csv( '/content/drive/MyDrive/OPEN IIT/train3.csv')\n",
        "# load the dataset\n",
        "X=df[[ 'loudness', 'danceability',\n",
        "       'explicit', 'instrumentalness',\n",
        "       'speechiness', \n",
        "       'duration-min', 'year<=2020' ,'year<=2010',\n",
        "       ]]\n",
        "sc_1=StandardScaler()\n",
        "sc_1.fit(X)\n",
        "y=df['rp>3']\n",
        "# define the model\n",
        "weights = {0:1.0, 1:8.0}\n",
        "model = RandomForestClassifier(n_estimators=1000, class_weight=weights)\n",
        "# evaluate the model\n",
        "scores = evaluate_model(X, y, model)\n",
        "# summarize performance\n",
        "print('Mean F1: %.3f (%.3f)' % (mean(scores), std(scores)))"
      ],
      "execution_count": null,
      "outputs": [
        {
          "output_type": "stream",
          "text": [
            "Mean F1: 0.096 (0.069)\n"
          ],
          "name": "stdout"
        }
      ]
    },
    {
      "cell_type": "code",
      "metadata": {
        "colab": {
          "base_uri": "https://localhost:8080/",
          "height": 419
        },
        "id": "TMeoliDC0RFj",
        "outputId": "22c4c28f-a219-44a8-bede-826198ff093b"
      },
      "source": [
        "# Undersample imbalanced dataset with NearMiss-2\n",
        "from collections import Counter\n",
        "from sklearn.datasets import make_classification\n",
        "from imblearn.under_sampling import NearMiss\n",
        "from matplotlib import pyplot\n",
        "from numpy import where\n",
        "# define dataset\n",
        "X=df[[ 'loudness', 'danceability',\n",
        "       'explicit', 'instrumentalness',\n",
        "       'speechiness', \n",
        "       'duration-min', 'year<=2020' ,'year<=2010',\n",
        "       ]]\n",
        "\n",
        "y=df['rp>3']\n",
        "# summarize class distribution\n",
        "counter = Counter(y)\n",
        "print(counter)\n",
        "# define the undersampling method\n",
        "undersample = NearMiss(version=2, n_neighbors=16)\n",
        "# transform the dataset\n",
        "X, y = undersample.fit_resample(X, y)\n",
        "sc_1=StandardScaler()\n",
        "sc_1.fit(X)\n",
        "# summarize the new class distribution\n",
        "counter = Counter(y)\n",
        "print(counter)\n",
        "# scatter plot of examples by class label\n",
        "for label, _ in counter.items():\n",
        "\trow_ix = where(y == label)[0]\n",
        "\tpyplot.scatter(X[row_ix, 0], X[row_ix, 1], label=str(label))\n",
        "pyplot.legend()\n",
        "pyplot.show()"
      ],
      "execution_count": null,
      "outputs": [
        {
          "output_type": "stream",
          "text": [
            "Counter({0: 11858, 1: 369})\n"
          ],
          "name": "stdout"
        },
        {
          "output_type": "stream",
          "text": [
            "/usr/local/lib/python3.7/dist-packages/sklearn/utils/deprecation.py:87: FutureWarning: Function safe_indexing is deprecated; safe_indexing is deprecated in version 0.22 and will be removed in version 0.24.\n",
            "  warnings.warn(msg, category=FutureWarning)\n",
            "/usr/local/lib/python3.7/dist-packages/sklearn/utils/deprecation.py:87: FutureWarning: Function safe_indexing is deprecated; safe_indexing is deprecated in version 0.22 and will be removed in version 0.24.\n",
            "  warnings.warn(msg, category=FutureWarning)\n"
          ],
          "name": "stderr"
        },
        {
          "output_type": "stream",
          "text": [
            "Counter({0: 369, 1: 369})\n"
          ],
          "name": "stdout"
        },
        {
          "output_type": "stream",
          "text": [
            "/usr/local/lib/python3.7/dist-packages/sklearn/utils/deprecation.py:87: FutureWarning: Function safe_indexing is deprecated; safe_indexing is deprecated in version 0.22 and will be removed in version 0.24.\n",
            "  warnings.warn(msg, category=FutureWarning)\n"
          ],
          "name": "stderr"
        },
        {
          "output_type": "display_data",
          "data": {
            "image/png": "[encoded data removed]",
            "text/plain": [
              "<Figure size 432x288 with 1 Axes>"
            ]
          },
          "metadata": {
            "tags": [],
            "needs_background": "light"
          }
        }
      ]
    },
    {
      "cell_type": "code",
      "metadata": {
        "colab": {
          "base_uri": "https://localhost:8080/"
        },
        "id": "Eg3iwdla4ZYo",
        "outputId": "f918adf7-a929-4b18-b974-ade77b8a49b7"
      },
      "source": [
        "from sklearn.model_selection import train_test_split\n",
        "from sklearn.ensemble import RandomForestClassifier\n",
        "from sklearn.svm import SVC\n",
        "clf = RandomForestClassifier( n_estimators=500,random_state=1,class_weight={0:1,1:500})\n",
        "X_train, X_test, y_train, y_test = train_test_split(X, y,test_size=0.2, random_state = 1)\n",
        "clf.fit(X_train, y_train)\n",
        "y_pred=clf.predict(X_test)\n",
        "from sklearn.metrics import classification_report, confusion_matrix, accuracy_score\n",
        "result = confusion_matrix(y_test, y_pred)\n",
        "print(\"Confusion Matrix:\")\n",
        "print(result)\n",
        "result1 = classification_report(y_test, y_pred)\n",
        "print(\"Classification Report:\",)\n",
        "print (result1)\n",
        "result2 = accuracy_score(y_test,y_pred)\n",
        "print(\"Accuracy:\",result2)"
      ],
      "execution_count": null,
      "outputs": [
        {
          "output_type": "stream",
          "text": [
            "Confusion Matrix:\n",
            "[[66  2]\n",
            " [ 4 76]]\n",
            "Classification Report:\n",
            "              precision    recall  f1-score   support\n",
            "\n",
            "           0       0.94      0.97      0.96        68\n",
            "           1       0.97      0.95      0.96        80\n",
            "\n",
            "    accuracy                           0.96       148\n",
            "   macro avg       0.96      0.96      0.96       148\n",
            "weighted avg       0.96      0.96      0.96       148\n",
            "\n",
            "Accuracy: 0.9594594594594594\n"
          ],
          "name": "stdout"
        }
      ]
    },
    {
      "cell_type": "code",
      "metadata": {
        "colab": {
          "base_uri": "https://localhost:8080/"
        },
        "id": "_-JqCw7x5F8p",
        "outputId": "2614b7fc-2d98-4b98-e49d-19b6521802ff"
      },
      "source": [
        "X=df[[ 'loudness', 'danceability',\n",
        "       'explicit', 'instrumentalness',\n",
        "       'speechiness', \n",
        "       'duration-min', 'year<=2020' ,'year<=2010',\n",
        "       ]]\n",
        "\n",
        "y=df['rp>3']\n",
        "y_pred=clf.predict(X)\n",
        "from sklearn.metrics import classification_report, confusion_matrix, accuracy_score\n",
        "result = confusion_matrix(y, y_pred)\n",
        "print(\"Confusion Matrix:\")\n",
        "print(result)\n",
        "result1 = classification_report(y, y_pred)\n",
        "print(\"Classification Report:\",)\n",
        "print (result1)\n",
        "result2 = accuracy_score(y,y_pred)\n",
        "print(\"Accuracy:\",result2)\n"
      ],
      "execution_count": null,
      "outputs": [
        {
          "output_type": "stream",
          "text": [
            "Confusion Matrix:\n",
            "[[5698 6160]\n",
            " [   4  365]]\n",
            "Classification Report:\n",
            "              precision    recall  f1-score   support\n",
            "\n",
            "           0       1.00      0.48      0.65     11858\n",
            "           1       0.06      0.99      0.11       369\n",
            "\n",
            "    accuracy                           0.50     12227\n",
            "   macro avg       0.53      0.73      0.38     12227\n",
            "weighted avg       0.97      0.50      0.63     12227\n",
            "\n",
            "Accuracy: 0.495869796352335\n"
          ],
          "name": "stdout"
        }
      ]
    },
    {
      "cell_type": "code",
      "metadata": {
        "colab": {
          "base_uri": "https://localhost:8080/"
        },
        "id": "HcfopnZ7BPXZ",
        "outputId": "53c9fa09-9797-4041-dfb4-6e9ccc8c6dfb"
      },
      "source": [
        "from imblearn.over_sampling import SMOTE\n",
        "oversample = SMOTE()\n",
        "df=pd.read_csv( '/content/drive/MyDrive/OPEN IIT/train3.csv')\n",
        "X=df[[ 'loudness', 'danceability',\n",
        "       'explicit', 'instrumentalness',\n",
        "       'speechiness', \n",
        "       'duration-min', 'year<=2020' ,'year<=2010',\n",
        "       ]]\n",
        " \n",
        "y=df['rp>3']\n",
        "sc_1=StandardScaler()\n",
        "sc_1.fit(X)\n",
        "X_train, X_test, y_train, y_test = train_test_split(X, y,test_size=0.2, random_state = 1)\n",
        "X_train, y_train = oversample.fit_resample(X_train, y_train)\n",
        " \n",
        " \n",
        "from sklearn.model_selection import train_test_split\n",
        "from sklearn.ensemble import RandomForestClassifier\n",
        "from sklearn.svm import SVC\n",
        "clf = RandomForestClassifier( n_estimators=1000,max_depth=10,random_state=1,class_weight='balanced_subsample')\n",
        " \n",
        "clf.fit(X_train, y_train)\n",
        "y_pred=clf.predict(X_test)\n",
        "from sklearn.metrics import classification_report, confusion_matrix, accuracy_score\n",
        "result = confusion_matrix(y_test, y_pred)\n",
        "print(\"Confusion Matrix:\")\n",
        "print(result)\n",
        "result1 = classification_report(y_test, y_pred)\n",
        "print(\"Classification Report:\",)\n",
        "print (result1)\n",
        "result2 = accuracy_score(y_test,y_pred)\n",
        "print(\"Accuracy:\",result2)"
      ],
      "execution_count": null,
      "outputs": [
        {
          "output_type": "stream",
          "text": [
            "/usr/local/lib/python3.7/dist-packages/sklearn/utils/deprecation.py:87: FutureWarning: Function safe_indexing is deprecated; safe_indexing is deprecated in version 0.22 and will be removed in version 0.24.\n",
            "  warnings.warn(msg, category=FutureWarning)\n"
          ],
          "name": "stderr"
        },
        {
          "output_type": "stream",
          "text": [
            "Confusion Matrix:\n",
            "[[2075  295]\n",
            " [  14   62]]\n",
            "Classification Report:\n",
            "              precision    recall  f1-score   support\n",
            "\n",
            "           0       0.99      0.88      0.93      2370\n",
            "           1       0.17      0.82      0.29        76\n",
            "\n",
            "    accuracy                           0.87      2446\n",
            "   macro avg       0.58      0.85      0.61      2446\n",
            "weighted avg       0.97      0.87      0.91      2446\n",
            "\n",
            "Accuracy: 0.8736713000817662\n"
          ],
          "name": "stdout"
        }
      ]
    },
    {
      "cell_type": "markdown",
      "metadata": {
        "id": "-p8S7IsIc_eG"
      },
      "source": [
        "FOR RP>3 BEST RESULTS\n"
      ]
    },
    {
      "cell_type": "code",
      "metadata": {
        "colab": {
          "base_uri": "https://localhost:8080/"
        },
        "id": "9rYf1F4gCPps",
        "outputId": "ef33e53a-e86b-4b02-a345-2ea3da871708"
      },
      "source": [
        "X=df[[ 'loudness', 'danceability',\n",
        "       'explicit', 'instrumentalness',\n",
        "       'speechiness', \n",
        "       'duration-min', 'year<=2020' ,'year<=2010',\n",
        "       ]]\n",
        "\n",
        "y=df['rp>3']\n",
        "y_pred=clf.predict(X)\n",
        "from sklearn.metrics import classification_report, confusion_matrix, accuracy_score\n",
        "result = confusion_matrix(y, y_pred)\n",
        "print(\"Confusion Matrix:\")\n",
        "print(result)\n",
        "result1 = classification_report(y, y_pred)\n",
        "print(\"Classification Report:\",)\n",
        "print (result1)\n",
        "result2 = accuracy_score(y,y_pred)\n",
        "print(\"Accuracy:\",result2)"
      ],
      "execution_count": null,
      "outputs": [
        {
          "output_type": "stream",
          "text": [
            "Confusion Matrix:\n",
            "[[11699   159]\n",
            " [    9   360]]\n",
            "Classification Report:\n",
            "              precision    recall  f1-score   support\n",
            "\n",
            "           0       1.00      0.99      0.99     11858\n",
            "           1       0.69      0.98      0.81       369\n",
            "\n",
            "    accuracy                           0.99     12227\n",
            "   macro avg       0.85      0.98      0.90     12227\n",
            "weighted avg       0.99      0.99      0.99     12227\n",
            "\n",
            "Accuracy: 0.9862599165780649\n"
          ],
          "name": "stdout"
        }
      ]
    },
    {
      "cell_type": "code",
      "metadata": {
        "colab": {
          "base_uri": "https://localhost:8080/"
        },
        "id": "KGwPIc87ehnF",
        "outputId": "6cbf322a-5f76-465b-d83d-2c2539f0bd0b"
      },
      "source": [
        "from sklearn.model_selection import train_test_split\n",
        "from sklearn.ensemble import RandomForestClassifier\n",
        "from sklearn.svm import SVC\n",
        "from sklearn.preprocessing import StandardScaler\n",
        "X=df[[ 'loudness', 'danceability',\n",
        "       'explicit', 'instrumentalness',\n",
        "       'year<=1960','year<=2000','year<=1980','year<=2010','year<=2020',\n",
        "       'duration-min'\n",
        "       ]]\n",
        "\n",
        "y=df['rp>2']\n",
        "sc=StandardScaler()\n",
        "sc.fit(X)\n",
        "X=pd.DataFrame(sc.fit_transform(X))\n",
        "clf = RandomForestClassifier( n_estimators=500,random_state=1,class_weight=\"balanced_subsample\")\n",
        "X_train, X_test, y_train, y_test = train_test_split(X, y,test_size=0.2, random_state = 1)\n",
        "clf.fit(X_train, y_train)\n",
        "y_pred=clf.predict(X_test)\n",
        "from sklearn.metrics import classification_report, confusion_matrix, accuracy_score\n",
        "result = confusion_matrix(y_test, y_pred)\n",
        "print(\"Confusion Matrix:\")\n",
        "print(result)\n",
        "result1 = classification_report(y_test, y_pred)\n",
        "print(\"Classification Report:\",)\n",
        "print (result1)\n",
        "result2 = accuracy_score(y_test,y_pred)\n",
        "print(\"Accuracy:\",result2)"
      ],
      "execution_count": null,
      "outputs": [
        {
          "output_type": "stream",
          "text": [
            "Confusion Matrix:\n",
            "[[1735  130]\n",
            " [ 238  343]]\n",
            "Classification Report:\n",
            "              precision    recall  f1-score   support\n",
            "\n",
            "           0       0.88      0.93      0.90      1865\n",
            "           1       0.73      0.59      0.65       581\n",
            "\n",
            "    accuracy                           0.85      2446\n",
            "   macro avg       0.80      0.76      0.78      2446\n",
            "weighted avg       0.84      0.85      0.84      2446\n",
            "\n",
            "Accuracy: 0.8495502861815208\n"
          ],
          "name": "stdout"
        }
      ]
    },
    {
      "cell_type": "code",
      "metadata": {
        "colab": {
          "base_uri": "https://localhost:8080/"
        },
        "id": "TmVHomLch16d",
        "outputId": "47328a30-0f59-4a81-e332-424d2b2246c8"
      },
      "source": [
        "import numpy as np\n",
        "from collections import Counter\n",
        "import pandas as pd\n",
        "import lightgbm as lgb\n",
        "from sklearn.datasets import load_breast_cancer,load_boston,load_wine\n",
        "from sklearn.model_selection import train_test_split\n",
        "from sklearn.preprocessing import StandardScaler\n",
        "from sklearn.ensemble import GradientBoostingClassifier\n",
        "d_train=lgb.Dataset(X_train, label=y_train)\n",
        "#Specifying the parameter\n",
        "params={}\n",
        "params['learning_rate']=0.02\n",
        "params['boosting_type']='gbdt' #GradientBoostingDecisionTree\n",
        "params['objective']='binary' #Binary target feature\n",
        "params['metric']='binary_logloss' #metric for binary classification\n",
        "params['max_depth']=10\n",
        "params['is_unbalance']='true'\n",
        "#train the model \n",
        "clf=lgb.train(params,d_train,500) #train the model on 100 epocs\n",
        "#prediction on the test set\n",
        "y_pred=clf.predict(X_test)\n",
        "y_pred=y_pred.round(0)\n",
        "#converting from float to integer\n",
        "y_pred=y_pred.astype(int)\n",
        "from sklearn.metrics import classification_report, confusion_matrix, accuracy_score\n",
        "result = confusion_matrix(y_test, y_pred)\n",
        "print(\"Confusion Matrix:\")\n",
        "print(result)\n",
        "result1 = classification_report(y_test, y_pred)\n",
        "print(\"Classification Report:\",)\n",
        "print (result1)\n",
        "result2 = accuracy_score(y_test,y_pred)\n",
        "print(\"Accuracy:\",result2)"
      ],
      "execution_count": null,
      "outputs": [
        {
          "output_type": "stream",
          "text": [
            "Confusion Matrix:\n",
            "[[1535  330]\n",
            " [ 121  460]]\n",
            "Classification Report:\n",
            "              precision    recall  f1-score   support\n",
            "\n",
            "           0       0.93      0.82      0.87      1865\n",
            "           1       0.58      0.79      0.67       581\n",
            "\n",
            "    accuracy                           0.82      2446\n",
            "   macro avg       0.75      0.81      0.77      2446\n",
            "weighted avg       0.85      0.82      0.82      2446\n",
            "\n",
            "Accuracy: 0.8156173344235487\n"
          ],
          "name": "stdout"
        }
      ]
    },
    {
      "cell_type": "code",
      "metadata": {
        "colab": {
          "base_uri": "https://localhost:8080/"
        },
        "id": "Gsc2d7ymrpar",
        "outputId": "170eca62-fffa-47d2-a098-68b399c68552"
      },
      "source": [
        "from imblearn.over_sampling import SMOTE\n",
        "oversample = SMOTE()\n",
        "import numpy as np\n",
        "from collections import Counter\n",
        "import pandas as pd\n",
        "import lightgbm as lgb\n",
        "from sklearn.datasets import load_breast_cancer,load_boston,load_wine\n",
        "from sklearn.model_selection import train_test_split\n",
        "from sklearn.preprocessing import StandardScaler\n",
        "from sklearn.ensemble import GradientBoostingClassifier\n",
        "from sklearn.model_selection import train_test_split\n",
        "from sklearn.ensemble import RandomForestClassifier\n",
        "from sklearn.svm import SVC\n",
        "from sklearn.preprocessing import StandardScaler\n",
        "df=pd.read_csv( '/content/drive/MyDrive/OPEN IIT/train3.csv')\n",
        "X=df[[ 'loudness', 'danceability',\n",
        "       'explicit', 'instrumentalness',\n",
        "       'year<=1960','year<=2000','year<=1980','year<=2010','year<=2020',\n",
        "       'duration-min'\n",
        "       ]]\n",
        "\n",
        " \n",
        "y=df['rp>2']\n",
        "sc_1=StandardScaler()\n",
        "sc_1.fit(X)\n",
        "X=pd.DataFrame(sc_1.fit_transform(X))\n",
        "X_train, X_test, y_train, y_test = train_test_split(X, y,test_size=0.2, random_state = 1)\n",
        "X_train, y_train = oversample.fit_resample(X_train, y_train)\n",
        " \n",
        " \n",
        "from sklearn.model_selection import train_test_split\n",
        "from sklearn.ensemble import RandomForestClassifier\n",
        "from sklearn.svm import SVC\n",
        "clf = RandomForestClassifier( n_estimators=1000,max_depth=10,random_state=1,class_weight='balanced_subsample')\n",
        " \n",
        "clf.fit(X_train, y_train)\n",
        "y_pred=clf.predict(X_test)\n",
        "from sklearn.metrics import classification_report, confusion_matrix, accuracy_score\n",
        "result = confusion_matrix(y_test, y_pred)\n",
        "print(\"Confusion Matrix:\")\n",
        "print(result)\n",
        "result1 = classification_report(y_test, y_pred)\n",
        "print(\"Classification Report:\",)\n",
        "print (result1)\n",
        "result2 = accuracy_score(y_test,y_pred)\n",
        "print(\"Accuracy:\",result2)"
      ],
      "execution_count": null,
      "outputs": [
        {
          "output_type": "stream",
          "text": [
            "/usr/local/lib/python3.7/dist-packages/sklearn/externals/six.py:31: FutureWarning: The module is deprecated in version 0.21 and will be removed in version 0.23 since we've dropped support for Python 2.7. Please rely on the official version of six (https://pypi.org/project/six/).\n",
            "  \"(https://pypi.org/project/six/).\", FutureWarning)\n",
            "/usr/local/lib/python3.7/dist-packages/sklearn/utils/deprecation.py:144: FutureWarning: The sklearn.neighbors.base module is  deprecated in version 0.22 and will be removed in version 0.24. The corresponding classes / functions should instead be imported from sklearn.neighbors. Anything that cannot be imported from sklearn.neighbors is now part of the private API.\n",
            "  warnings.warn(message, FutureWarning)\n",
            "/usr/local/lib/python3.7/dist-packages/sklearn/utils/deprecation.py:87: FutureWarning: Function safe_indexing is deprecated; safe_indexing is deprecated in version 0.22 and will be removed in version 0.24.\n",
            "  warnings.warn(msg, category=FutureWarning)\n"
          ],
          "name": "stderr"
        },
        {
          "output_type": "stream",
          "text": [
            "Confusion Matrix:\n",
            "[[1581  284]\n",
            " [ 137  444]]\n",
            "Classification Report:\n",
            "              precision    recall  f1-score   support\n",
            "\n",
            "           0       0.92      0.85      0.88      1865\n",
            "           1       0.61      0.76      0.68       581\n",
            "\n",
            "    accuracy                           0.83      2446\n",
            "   macro avg       0.77      0.81      0.78      2446\n",
            "weighted avg       0.85      0.83      0.83      2446\n",
            "\n",
            "Accuracy: 0.8278822567457073\n"
          ],
          "name": "stdout"
        }
      ]
    },
    {
      "cell_type": "code",
      "metadata": {
        "colab": {
          "base_uri": "https://localhost:8080/"
        },
        "id": "G9iyzne0sibc",
        "outputId": "a22b54db-83fb-4cb2-b254-6c1bacad7142"
      },
      "source": [
        "from imblearn.over_sampling import SMOTE\n",
        "oversample = SMOTE()\n",
        "import numpy as np\n",
        "from collections import Counter\n",
        "import pandas as pd\n",
        "import lightgbm as lgb\n",
        "from sklearn.datasets import load_breast_cancer,load_boston,load_wine\n",
        "from sklearn.model_selection import train_test_split\n",
        "from sklearn.preprocessing import StandardScaler\n",
        "from sklearn.ensemble import GradientBoostingClassifier\n",
        "from sklearn.model_selection import train_test_split\n",
        "from sklearn.ensemble import RandomForestClassifier\n",
        "from sklearn.svm import SVC\n",
        "from sklearn.preprocessing import StandardScaler\n",
        "df=pd.read_csv( '/content/drive/MyDrive/OPEN IIT/train3.csv')\n",
        "X=df[[ 'loudness', 'danceability',\n",
        "        'instrumentalness','explicit','key',\n",
        "       'year<=1960','year>=2000','year<=2010','year<=2020',\n",
        "       'duration-min','energy','acousticness'\n",
        "       ]]\n",
        "\n",
        " \n",
        "y=df['rp>2']\n",
        "sc_1=StandardScaler()\n",
        "sc_1.fit(X)\n",
        "X=pd.DataFrame(sc_1.fit_transform(X))\n",
        "X_train, X_test, y_train, y_test = train_test_split(X, y,test_size=0.25, random_state = 1)\n",
        "X_train, y_train = oversample.fit_resample(X_train, y_train)\n",
        "d_train=lgb.Dataset(X_train, label=y_train)\n",
        "#Specifying the parameter\n",
        "params={}\n",
        "params['learning_rate']=0.02\n",
        "params['boosting_type']='gbdt' #GradientBoostingDecisionTree\n",
        "params['objective']='binary' #Binary target feature\n",
        "params['metric']='binary_logloss' #metric for binary classification\n",
        "params['max_depth']=10\n",
        "\n",
        "#train the model \n",
        "clf=lgb.train(params,d_train,300) #train the model on 100 epocs\n",
        "#prediction on the test set\n",
        "y_pred=clf.predict(X_test)\n",
        "y_pred=y_pred.round(0)\n",
        "#converting from float to integer\n",
        "y_pred=y_pred.astype(int)\n",
        "from sklearn.metrics import classification_report, confusion_matrix, accuracy_score\n",
        "result = confusion_matrix(y_test, y_pred)\n",
        "print(\"Confusion Matrix:\")\n",
        "print(result)\n",
        "result1 = classification_report(y_test, y_pred)\n",
        "print(\"Classification Report:\",)\n",
        "print (result1)\n",
        "result2 = accuracy_score(y_test,y_pred)\n",
        "print(\"Accuracy:\",result2)"
      ],
      "execution_count": null,
      "outputs": [
        {
          "output_type": "stream",
          "text": [
            "/usr/local/lib/python3.7/dist-packages/sklearn/utils/deprecation.py:87: FutureWarning: Function safe_indexing is deprecated; safe_indexing is deprecated in version 0.22 and will be removed in version 0.24.\n",
            "  warnings.warn(msg, category=FutureWarning)\n"
          ],
          "name": "stderr"
        },
        {
          "output_type": "stream",
          "text": [
            "Confusion Matrix:\n",
            "[[2046  280]\n",
            " [ 205  526]]\n",
            "Classification Report:\n",
            "              precision    recall  f1-score   support\n",
            "\n",
            "           0       0.91      0.88      0.89      2326\n",
            "           1       0.65      0.72      0.68       731\n",
            "\n",
            "    accuracy                           0.84      3057\n",
            "   macro avg       0.78      0.80      0.79      3057\n",
            "weighted avg       0.85      0.84      0.84      3057\n",
            "\n",
            "Accuracy: 0.841347726529277\n"
          ],
          "name": "stdout"
        }
      ]
    },
    {
      "cell_type": "code",
      "metadata": {
        "colab": {
          "base_uri": "https://localhost:8080/",
          "height": 350
        },
        "id": "oH9Hi329Rvyu",
        "outputId": "a1d166c8-a7d7-4dbd-967d-012ad92b43d9"
      },
      "source": [
        "import numpy as np \n",
        "from scipy import stats \n",
        "  \n",
        "# plotting modules \n",
        "import seaborn as sns \n",
        "import matplotlib.pyplot as plt \n",
        "sns.distplot(df['energy'], hist = False, kde = True, \n",
        "            kde_kws = {'shade': True, 'linewidth': 2},  \n",
        "            label = \"Non-Normal\", color =\"green\") \n"
      ],
      "execution_count": null,
      "outputs": [
        {
          "output_type": "stream",
          "text": [
            "/usr/local/lib/python3.7/dist-packages/seaborn/distributions.py:2557: FutureWarning: `distplot` is a deprecated function and will be removed in a future version. Please adapt your code to use either `displot` (a figure-level function with similar flexibility) or `kdeplot` (an axes-level function for kernel density plots).\n",
            "  warnings.warn(msg, FutureWarning)\n"
          ],
          "name": "stderr"
        },
        {
          "output_type": "execute_result",
          "data": {
            "text/plain": [
              "<matplotlib.axes._subplots.AxesSubplot at 0x7f6bfeb22850>"
            ]
          },
          "metadata": {
            "tags": []
          },
          "execution_count": 12
        },
        {
          "output_type": "display_data",
          "data": {
            "image/png": "[encoded data removed]",
            "text/plain": [
              "<Figure size 432x288 with 1 Axes>"
            ]
          },
          "metadata": {
            "tags": [],
            "needs_background": "light"
          }
        }
      ]
    },
    {
      "cell_type": "code",
      "metadata": {
        "colab": {
          "base_uri": "https://localhost:8080/",
          "height": 335
        },
        "id": "nTp_nEBoSIC0",
        "outputId": "2ba622da-cb0f-4039-f067-e88154f35f07"
      },
      "source": [
        "fitted_data, fitted_lambda = stats.boxcox(df['energy']) \n",
        "sns.distplot(fitted_data, hist = False, kde = True, \n",
        "            kde_kws = {'shade': True, 'linewidth': 2},  \n",
        "            label = \"Normal\", color =\"green\") "
      ],
      "execution_count": null,
      "outputs": [
        {
          "output_type": "stream",
          "text": [
            "/usr/local/lib/python3.7/dist-packages/seaborn/distributions.py:2557: FutureWarning: `distplot` is a deprecated function and will be removed in a future version. Please adapt your code to use either `displot` (a figure-level function with similar flexibility) or `kdeplot` (an axes-level function for kernel density plots).\n",
            "  warnings.warn(msg, FutureWarning)\n"
          ],
          "name": "stderr"
        },
        {
          "output_type": "execute_result",
          "data": {
            "text/plain": [
              "<matplotlib.axes._subplots.AxesSubplot at 0x7f6bfea2f910>"
            ]
          },
          "metadata": {
            "tags": []
          },
          "execution_count": 14
        },
        {
          "output_type": "display_data",
          "data": {
            "image/png": "[encoded data removed]",
            "text/plain": [
              "<Figure size 432x288 with 1 Axes>"
            ]
          },
          "metadata": {
            "tags": [],
            "needs_background": "light"
          }
        }
      ]
    },
    {
      "cell_type": "code",
      "metadata": {
        "colab": {
          "base_uri": "https://localhost:8080/",
          "height": 350
        },
        "id": "FMvDiSy4UeKI",
        "outputId": "5bfcfc1a-1b23-4340-a327-f2fdcb4351d6"
      },
      "source": [
        "fitted_data=np.log(df['energy']).astype('float')\n",
        "sns.distplot(fitted_data, hist = False, kde = True, \n",
        "            kde_kws = {'shade': True, 'linewidth': 2},  \n",
        "            label = \"Normal\", color =\"green\") "
      ],
      "execution_count": null,
      "outputs": [
        {
          "output_type": "stream",
          "text": [
            "/usr/local/lib/python3.7/dist-packages/seaborn/distributions.py:2557: FutureWarning: `distplot` is a deprecated function and will be removed in a future version. Please adapt your code to use either `displot` (a figure-level function with similar flexibility) or `kdeplot` (an axes-level function for kernel density plots).\n",
            "  warnings.warn(msg, FutureWarning)\n"
          ],
          "name": "stderr"
        },
        {
          "output_type": "execute_result",
          "data": {
            "text/plain": [
              "<matplotlib.axes._subplots.AxesSubplot at 0x7f6bfeb40450>"
            ]
          },
          "metadata": {
            "tags": []
          },
          "execution_count": 13
        },
        {
          "output_type": "display_data",
          "data": {
            "image/png": "[encoded data removed]",
            "text/plain": [
              "<Figure size 432x288 with 1 Axes>"
            ]
          },
          "metadata": {
            "tags": [],
            "needs_background": "light"
          }
        }
      ]
    },
    {
      "cell_type": "code",
      "metadata": {
        "id": "mYT7yVSPazi5"
      },
      "source": [
        "df['liveness']=fitted_data"
      ],
      "execution_count": null,
      "outputs": []
    },
    {
      "cell_type": "code",
      "metadata": {
        "id": "vYOnnTBwb1_e"
      },
      "source": [
        "from imblearn.over_sampling import SMOTE\n",
        "oversample = SMOTE()\n",
        "df=pd.read_csv( '/content/drive/MyDrive/OPEN IIT/train3.csv')\n",
        "X=df[[ 'loudness', 'danceability',\n",
        "       'explicit', 'instrumentalness',\n",
        "       'speechiness', \n",
        "       'duration-min', 'year<=2020' ,'year<=2010',\n",
        "       ]]\n",
        " \n",
        "y=df['rp>3']\n",
        "sc_1=StandardScaler()\n",
        "sc_1.fit(X)\n",
        "X_train, X_test, y_train, y_test = train_test_split(X, y,test_size=0.2, random_state = 1)\n",
        "X_train, y_train = oversample.fit_resample(X_train, y_train)\n",
        " \n",
        " \n",
        "from sklearn.model_selection import train_test_split\n",
        "from sklearn.ensemble import RandomForestClassifier\n",
        "from sklearn.svm import SVC\n",
        "clf = RandomForestClassifier( n_estimators=1000,max_depth=10,random_state=1,class_weight='balanced_subsample')\n",
        " \n",
        "clf.fit(X_train, y_train)\n",
        "y_pred=clf.predict(X_test)\n",
        "from sklearn.metrics import classification_report, confusion_matrix, accuracy_score\n",
        "result = confusion_matrix(y_test, y_pred)\n",
        "print(\"Confusion Matrix:\")\n",
        "print(result)\n",
        "result1 = classification_report(y_test, y_pred)\n",
        "print(\"Classification Report:\",)\n",
        "print (result1)\n",
        "result2 = accuracy_score(y_test,y_pred)\n",
        "print(\"Accuracy:\",result2)"
      ],
      "execution_count": null,
      "outputs": []
    },
    {
      "cell_type": "code",
      "metadata": {
        "colab": {
          "base_uri": "https://localhost:8080/"
        },
        "id": "hisbzZZ1jRjU",
        "outputId": "c46dc2b7-d9eb-4ca0-a89e-bf4d9fa7942b"
      },
      "source": [
        "!git clone https://github.com/gregversteeg/gaussianize.git"
      ],
      "execution_count": null,
      "outputs": [
        {
          "output_type": "stream",
          "text": [
            "Cloning into 'gaussianize'...\n",
            "remote: Enumerating objects: 68, done.\u001b[K\n",
            "remote: Total 68 (delta 0), reused 0 (delta 0), pack-reused 68\u001b[K\n",
            "Unpacking objects: 100% (68/68), done.\n"
          ],
          "name": "stdout"
        }
      ]
    },
    {
      "cell_type": "code",
      "metadata": {
        "id": "2oYLkqRMj0oY"
      },
      "source": [
        "import gaussianize as g\n"
      ],
      "execution_count": null,
      "outputs": []
    },
    {
      "cell_type": "code",
      "metadata": {
        "colab": {
          "base_uri": "https://localhost:8080/"
        },
        "id": "AgrnLmsK-HbQ",
        "outputId": "28a589c7-bc9b-44ad-a7fe-4447934e1861"
      },
      "source": [
        "from sklearn.model_selection import cross_val_score\n",
        "from sklearn.model_selection import RepeatedStratifiedKFold\n",
        "from sklearn.ensemble import RandomForestClassifier\n",
        "from sklearn.model_selection import train_test_split\n",
        "from sklearn import metrics\n",
        "from sklearn import preprocessing \n",
        "  \n",
        "\n",
        "\n",
        "\n",
        "X=df[[ 'acousticness', 'danceability',\n",
        "       'instrumentalness',  'liveness',\n",
        "       'speechiness', 'tempo', 'valence',\n",
        "       'duration-min', 'year<=1960', 'year<=1980', 'year<=2000', 'year<=2010',\n",
        "       'year<=2020']]\n",
        "y=df['regression_popularity']\n",
        "sc_1=StandardScaler()\n",
        "sc_1.fit(X)\n",
        "X=pd.DataFrame(sc_1.fit_transform(X))\n",
        "X_train, X_test, y_train, y_test = train_test_split(X, y, test_size=0.1, random_state=42)\n",
        "strategy = {4:1500,2:4000}\n",
        "oversample = SMOTE(sampling_strategy=strategy)\n",
        "X_train, y_train = oversample.fit_resample(X_train, y_train)\n",
        "model = RandomForestClassifier( n_estimators=1000,criterion = 'entropy', random_state = 42,class_weight=\"balanced\",max_features=6)\n",
        "model.fit(X_train, y_train)\n",
        "y_pred = model.predict(X_test)\n",
        "print('Accuracy of logistic regression classifier on test set: {:.2f}'.format(model.score(X_test, y_test)))"
      ],
      "execution_count": null,
      "outputs": [
        {
          "output_type": "stream",
          "text": [
            "/usr/local/lib/python3.7/dist-packages/imblearn/utils/_validation.py:257: UserWarning: After over-sampling, the number of samples (4000) in class 2 will be larger than the number of samples in the majority class (class #0 -> 2904)\n",
            "  n_samples_majority))\n",
            "/usr/local/lib/python3.7/dist-packages/sklearn/utils/deprecation.py:87: FutureWarning: Function safe_indexing is deprecated; safe_indexing is deprecated in version 0.22 and will be removed in version 0.24.\n",
            "  warnings.warn(msg, category=FutureWarning)\n",
            "/usr/local/lib/python3.7/dist-packages/sklearn/utils/deprecation.py:87: FutureWarning: Function safe_indexing is deprecated; safe_indexing is deprecated in version 0.22 and will be removed in version 0.24.\n",
            "  warnings.warn(msg, category=FutureWarning)\n"
          ],
          "name": "stderr"
        },
        {
          "output_type": "stream",
          "text": [
            "Accuracy of logistic regression classifier on test set: 0.59\n"
          ],
          "name": "stdout"
        }
      ]
    },
    {
      "cell_type": "code",
      "metadata": {
        "colab": {
          "base_uri": "https://localhost:8080/"
        },
        "id": "o-z91Q8p_GKc",
        "outputId": "2595ad22-9279-4429-9e31-42a4ae3b25cf"
      },
      "source": [
        "y_pred=y_pred.astype(int)\n",
        "from sklearn.metrics import classification_report, confusion_matrix, accuracy_score\n",
        "result = confusion_matrix(y_test, y_pred)\n",
        "print(\"Confusion Matrix:\")\n",
        "print(result)\n",
        "result1 = classification_report(y_test, y_pred)\n",
        "print(\"Classification Report:\",)\n",
        "print (result1)\n",
        "result2 = accuracy_score(y_test,y_pred)\n",
        "print(\"Accuracy:\",result2)"
      ],
      "execution_count": null,
      "outputs": [
        {
          "output_type": "stream",
          "text": [
            "Confusion Matrix:\n",
            "[[255  22  18  22   1]\n",
            " [ 38 169 105   1   0]\n",
            " [ 10  81 175  30   1]\n",
            " [ 16  29  77 113  27]\n",
            " [  0   0   2  21  10]]\n",
            "Classification Report:\n",
            "              precision    recall  f1-score   support\n",
            "\n",
            "           0       0.80      0.80      0.80       318\n",
            "           1       0.56      0.54      0.55       313\n",
            "           2       0.46      0.59      0.52       297\n",
            "           3       0.60      0.43      0.50       262\n",
            "           4       0.26      0.30      0.28        33\n",
            "\n",
            "    accuracy                           0.59      1223\n",
            "   macro avg       0.54      0.53      0.53      1223\n",
            "weighted avg       0.60      0.59      0.59      1223\n",
            "\n",
            "Accuracy: 0.5903515944399019\n"
          ],
          "name": "stdout"
        }
      ]
    },
    {
      "cell_type": "code",
      "metadata": {
        "id": "fVaTyF4YQYWQ"
      },
      "source": [
        "df_test=pd.read_csv('/content/drive/MyDrive/OPEN IIT/Test1.csv')\n",
        "X_test=df_test[[ 'acousticness', 'danceability',\n",
        "        'instrumentalness',  'liveness',\n",
        "       'speechiness', 'tempo', 'valence',\n",
        "       'duration-min', 'year<=1960', 'year<=1980', 'year<=2000', 'year<=2010',\n",
        "       'year<=2020']]\n",
        "\n",
        "X_test=pd.DataFrame(sc_1.transform(X_test))\n",
        "y_pred = model.predict(X_test)"
      ],
      "execution_count": null,
      "outputs": []
    },
    {
      "cell_type": "code",
      "metadata": {
        "colab": {
          "base_uri": "https://localhost:8080/"
        },
        "id": "rc1qOI10RrU9",
        "outputId": "4988e1d7-e1a4-4353-e0fe-547e5ec8d3c9"
      },
      "source": [
        "print(y_pred)"
      ],
      "execution_count": null,
      "outputs": [
        {
          "output_type": "stream",
          "text": [
            "[3 3 3 ... 3 0 3]\n"
          ],
          "name": "stdout"
        }
      ]
    },
    {
      "cell_type": "code",
      "metadata": {
        "id": "Gz8zV7GQVOdK"
      },
      "source": [
        "y=[]\n",
        "for i in range (len(y_pred)):\n",
        "  if y_pred[i]==0:\n",
        "    y.append('very low')\n",
        "  elif y_pred[i]==1:\n",
        "    y.append('low')\n",
        "  elif y_pred[i]==2:\n",
        "    y.append('average')\n",
        "  elif y_pred[i]==3:\n",
        "    y.append('high')\n",
        "  else:\n",
        "    y.append('very high')\n"
      ],
      "execution_count": null,
      "outputs": []
    },
    {
      "cell_type": "code",
      "metadata": {
        "colab": {
          "base_uri": "https://localhost:8080/"
        },
        "id": "S6sAKAe1WVwi",
        "outputId": "c8a4369c-da71-47d5-d739-66b27f191776"
      },
      "source": [
        "print(y)"
      ],
      "execution_count": null,
      "outputs": [
        {
          "output_type": "stream",
          "text": [
            "['high', 'high', 'high', 'high', 'high', 'high', 'very low', 'high', 'very high', 'very low', 'high', 'high', 'very low', 'high', 'high', 'very low', 'very low', 'very high', 'high', 'high', 'high', 'high', 'high', 'high', 'very low', 'very low', 'low', 'high', 'high', 'high', 'very low', 'high', 'very low', 'high', 'high', 'very low', 'very low', 'high', 'high', 'high', 'high', 'high', 'very low', 'very low', 'high', 'high', 'high', 'high', 'high', 'very low', 'high', 'high', 'high', 'very high', 'very low', 'high', 'very high', 'very low', 'very low', 'high', 'high', 'average', 'high', 'high', 'high', 'very low', 'high', 'high', 'very high', 'average', 'high', 'high', 'very low', 'very low', 'high', 'high', 'very low', 'average', 'very high', 'high', 'high', 'high', 'very low', 'high', 'very high', 'high', 'high', 'high', 'high', 'very low', 'high', 'high', 'high', 'high', 'very low', 'high', 'very low', 'high', 'very low', 'high', 'high', 'very low', 'high', 'high', 'very low', 'very high', 'very low', 'high', 'average', 'very low', 'high', 'high', 'very high', 'high', 'very high', 'high', 'very low', 'very low', 'high', 'high', 'high', 'very low', 'very low', 'high', 'high', 'very high', 'high', 'very high', 'very high', 'very low', 'high', 'very low', 'high', 'very high', 'high', 'high', 'very low', 'high', 'high', 'high', 'high', 'very low', 'average', 'very low', 'high', 'very low', 'very low', 'high', 'very low', 'high', 'high', 'very low', 'high', 'very low', 'high', 'high', 'high', 'very low', 'high', 'very high', 'high', 'high', 'very low', 'high', 'very high', 'high', 'high', 'high', 'very low', 'high', 'very low', 'average', 'high', 'high', 'high', 'very low', 'very low', 'high', 'very low', 'very low', 'very low', 'very low', 'very low', 'very low', 'very low', 'high', 'average', 'very low', 'high', 'high', 'high', 'very high', 'high', 'high', 'high', 'high', 'very low', 'high', 'high', 'very low', 'high', 'high', 'very high', 'very low', 'very low', 'high', 'high', 'very low', 'high', 'average', 'very low', 'very high', 'very low', 'high', 'high', 'very low', 'high', 'very low', 'very low', 'high', 'very low', 'very high', 'high', 'high', 'high', 'very low', 'high', 'high', 'high', 'high', 'very low', 'high', 'high', 'high', 'high', 'very low', 'high', 'very low', 'high', 'very low', 'very low', 'very high', 'high', 'very low', 'very low', 'high', 'very low', 'high', 'average', 'very low', 'very low', 'high', 'very low', 'high', 'high', 'high', 'very low', 'high', 'high', 'average', 'high', 'very low', 'very high', 'very low', 'high', 'average', 'average', 'high', 'high', 'very high', 'high', 'very low', 'high', 'very low', 'high', 'very high', 'very high', 'very low', 'very high', 'very low', 'very low', 'high', 'very low', 'very low', 'very low', 'high', 'very low', 'very low', 'high', 'high', 'high', 'very low', 'very low', 'high', 'high', 'very high', 'high', 'high', 'high', 'high', 'very high', 'high', 'high', 'very low', 'high', 'very high', 'high', 'high', 'very low', 'average', 'very low', 'high', 'very low', 'very high', 'high', 'high', 'very low', 'average', 'high', 'high', 'very low', 'high', 'very low', 'high', 'very low', 'very low', 'very low', 'very low', 'high', 'very high', 'very low', 'very low', 'high', 'high', 'very low', 'high', 'high', 'average', 'very low', 'high', 'high', 'high', 'high', 'high', 'very low', 'average', 'high', 'high', 'very low', 'very low', 'high', 'high', 'very low', 'high', 'high', 'very low', 'high', 'high', 'high', 'high', 'high', 'very low', 'high', 'high', 'very low', 'high', 'very low', 'very high', 'very low', 'very low', 'high', 'high', 'high', 'high', 'very low', 'very low', 'high', 'high', 'high', 'very low', 'very low', 'high', 'high', 'high', 'high', 'very high', 'high', 'very low', 'very low', 'high', 'high', 'very low', 'high', 'high', 'high', 'high', 'high', 'high', 'high', 'high', 'very low', 'very low', 'average', 'very low', 'high', 'high', 'very low', 'very low', 'high', 'high', 'very low', 'high', 'very low', 'average', 'high', 'high', 'very high', 'very low', 'very high', 'very low', 'high', 'high', 'very high', 'very high', 'very low', 'high', 'very low', 'high', 'high', 'very low', 'very high', 'high', 'very low', 'high', 'very low', 'high', 'high', 'high', 'high', 'high', 'average', 'very low', 'high', 'very low', 'high', 'high', 'high', 'average', 'very high', 'high', 'high', 'high', 'very low', 'very low', 'very low', 'high', 'high', 'very high', 'high', 'very low', 'very low', 'high', 'high', 'high', 'high', 'high', 'high', 'very low', 'high', 'very low', 'high', 'very low', 'very high', 'high', 'high', 'high', 'high', 'very low', 'high', 'high', 'very low', 'high', 'very low', 'average', 'very high', 'very low', 'high', 'very low', 'very low', 'high', 'high', 'very high', 'very low', 'high', 'very low', 'high', 'high', 'high', 'high', 'very low', 'high', 'very low', 'very low', 'average', 'high', 'high', 'high', 'high', 'very low', 'low', 'high', 'high', 'very low', 'very low', 'very low', 'very low', 'high', 'high', 'very low', 'high', 'high', 'very high', 'very high', 'very high', 'high', 'high', 'very low', 'high', 'high', 'high', 'high', 'high', 'very low', 'high', 'high', 'very low', 'high', 'very high', 'average', 'high', 'very low', 'high', 'high', 'very low', 'high', 'very high', 'high', 'very low', 'high', 'very low', 'high', 'high', 'very low', 'high', 'very low', 'very low', 'high', 'high', 'very low', 'very low', 'very low', 'very low', 'average', 'very low', 'very high', 'high', 'high', 'high', 'high', 'average', 'very low', 'high', 'high', 'high', 'very low', 'high', 'high', 'high', 'very low', 'very low', 'high', 'high', 'very low', 'high', 'high', 'high', 'average', 'very low', 'high', 'very low', 'high', 'high', 'high', 'very low', 'high', 'high', 'high', 'very low', 'very low', 'high', 'high', 'very high', 'high', 'average', 'high', 'very high', 'very high', 'average', 'very low', 'high', 'very low', 'high', 'very low', 'high', 'low', 'high', 'average', 'very low', 'high', 'high', 'very low', 'very low', 'high', 'high', 'high', 'high', 'high', 'average', 'average', 'very low', 'very high', 'high', 'high', 'high', 'high', 'very high', 'very low', 'very low', 'high', 'high', 'high', 'high', 'high', 'average', 'very low', 'very low', 'very low', 'very low', 'high', 'very low', 'very low', 'very low', 'average', 'very low', 'very low', 'high', 'high', 'high', 'very high', 'high', 'high', 'high', 'very low', 'high', 'very low', 'high', 'very low', 'average', 'high', 'high', 'very low', 'very low', 'high', 'very low', 'very low', 'high', 'high', 'very low', 'high', 'high', 'very low', 'very low', 'very low', 'high', 'very high', 'very high', 'very low', 'very low', 'very low', 'average', 'very low', 'high', 'very high', 'very high', 'very low', 'high', 'high', 'very low', 'high', 'high', 'very low', 'very low', 'high', 'average', 'high', 'high', 'high', 'very low', 'average', 'very high', 'low', 'very low', 'high', 'high', 'high', 'high', 'high', 'high', 'high', 'high', 'high', 'high', 'high', 'high', 'average', 'average', 'high', 'high', 'very high', 'very low', 'high', 'high', 'high', 'high', 'high', 'very low', 'high', 'average', 'very low', 'high', 'high', 'high', 'high', 'very low', 'very low', 'high', 'average', 'high', 'high', 'high', 'very low', 'very low', 'very low', 'high', 'very high', 'high', 'very high', 'very low', 'high', 'very high', 'high', 'very low', 'high', 'high', 'high', 'high', 'very low', 'very low', 'high', 'average', 'very low', 'very low', 'high', 'high', 'very low', 'high', 'very low', 'very low', 'high', 'high', 'very low', 'high', 'high', 'high', 'high', 'high', 'high', 'high', 'very low', 'high', 'high', 'very low', 'high', 'very low', 'very low', 'high', 'high', 'high', 'very low', 'very low', 'very low', 'very high', 'high', 'very low', 'very high', 'very low', 'very low', 'high', 'high', 'high', 'high', 'very low', 'high', 'high', 'very low', 'very low', 'high', 'average', 'very low', 'high', 'high', 'very low', 'high', 'very low', 'very low', 'very low', 'average', 'high', 'high', 'very high', 'high', 'high', 'very low', 'very low', 'high', 'very low', 'high', 'high', 'high', 'very low', 'high', 'very low', 'very low', 'high', 'very low', 'very low', 'high', 'high', 'very low', 'high', 'high', 'very low', 'high', 'very high', 'high', 'high', 'high', 'high', 'high', 'average', 'average', 'high', 'high', 'high', 'very low', 'very low', 'very low', 'very high', 'very low', 'high', 'very low', 'very low', 'very high', 'high', 'high', 'very low', 'high', 'very low', 'high', 'high', 'high', 'high', 'very low', 'high', 'very low', 'very low', 'very low', 'high', 'very low', 'average', 'high', 'very low', 'high', 'very low', 'average', 'high', 'high', 'high', 'high', 'very high', 'very low', 'average', 'very low', 'high', 'average', 'very low', 'high', 'average', 'high', 'high', 'high', 'very low', 'high', 'very high', 'very high', 'high', 'very high', 'very high', 'high', 'high', 'high', 'high', 'very low', 'high', 'high', 'high', 'high', 'high', 'very high', 'high', 'high', 'very high', 'very low', 'very low', 'high', 'very low', 'very high', 'very low', 'high', 'high', 'high', 'very low', 'high', 'very high', 'high', 'very low', 'high', 'very low', 'high', 'high', 'average', 'average', 'high', 'high', 'very high', 'very high', 'very low', 'very high', 'high', 'very high', 'high', 'high', 'very high', 'very low', 'very low', 'very low', 'high', 'very high', 'very low', 'very low', 'very low', 'very low', 'very low', 'high', 'very low', 'high', 'very low', 'very low', 'high', 'high', 'very low', 'high', 'very low', 'high', 'very low', 'very high', 'very low', 'very low', 'high', 'high', 'very high', 'very high', 'average', 'high', 'very low', 'very low', 'high', 'very low', 'high', 'high', 'high', 'high', 'high', 'average', 'very low', 'very low', 'high', 'high', 'high', 'very high', 'high', 'high', 'high', 'very low', 'very low', 'very high', 'very low', 'high', 'high', 'very high', 'high', 'very low', 'very low', 'high', 'high', 'very low', 'high', 'high', 'very high', 'very low', 'very low', 'very low', 'very high', 'very high', 'high', 'very low', 'very low', 'high', 'very high', 'very low', 'very low', 'high', 'average', 'very low', 'very high', 'high', 'high', 'very low', 'very high', 'high', 'high', 'very low', 'high', 'high', 'very low', 'high', 'high', 'high', 'high', 'very low', 'very high', 'high', 'very low', 'high', 'high', 'very low', 'very low', 'very low', 'high', 'very low', 'very low', 'very low', 'high', 'high', 'very low', 'high', 'very low', 'high', 'high', 'very low', 'high', 'high', 'high', 'high', 'very low', 'average', 'high', 'high', 'very low', 'high', 'very low', 'high', 'high', 'high', 'high', 'very low', 'average', 'very low', 'high', 'high', 'average', 'very low', 'very low', 'high', 'very high', 'very low', 'high', 'high', 'high', 'high', 'very low', 'high', 'high', 'very low', 'very low', 'high', 'very low', 'high', 'very high', 'very low', 'very high', 'high', 'high', 'high', 'very low', 'average', 'very low', 'very low', 'high', 'very low', 'high', 'high', 'very low', 'high', 'high', 'very low', 'very low', 'high', 'high', 'high', 'very low', 'very low', 'very low', 'low', 'high', 'very high', 'high', 'high', 'high', 'very low', 'very low', 'average', 'high', 'very low', 'very high', 'very high', 'high', 'high', 'high', 'high', 'very high', 'high', 'high', 'high', 'high', 'very low', 'high', 'very high', 'very low', 'high', 'high', 'very high', 'high', 'very high', 'high', 'very low', 'high', 'very low', 'very low', 'high', 'very low', 'high', 'high', 'very low', 'high', 'very low', 'very high', 'high', 'high', 'very low', 'very low', 'very low', 'high', 'very low', 'high', 'high', 'very low', 'average', 'high', 'very low', 'very high', 'very low', 'high', 'very low', 'average', 'high', 'very low', 'very low', 'high', 'very low', 'very low', 'high', 'very low', 'very low', 'high', 'very low', 'high', 'high', 'high', 'very low', 'high', 'very high', 'high', 'average', 'very low', 'very low', 'high', 'high', 'high', 'very low', 'high', 'average', 'high', 'very low', 'high', 'average', 'very high', 'high', 'high', 'very low', 'high', 'very high', 'very low', 'high', 'high', 'high', 'high', 'high', 'high', 'very low', 'high', 'average', 'very low', 'average', 'high', 'very high', 'very low', 'high', 'high', 'very low', 'high', 'very low', 'very low', 'very low', 'average', 'high', 'high', 'high', 'high', 'average', 'very low', 'very low', 'high', 'average', 'very low', 'very low', 'very low', 'very low', 'very low', 'high', 'high', 'high', 'very low', 'very low', 'high', 'high', 'high', 'very low', 'very high', 'high', 'high', 'very low', 'very high', 'high', 'very low', 'very high', 'very high', 'high', 'very low', 'average', 'very low', 'high', 'very low', 'high', 'high', 'high', 'very low', 'very high', 'very low', 'high', 'high', 'very high', 'very high', 'very low', 'very low', 'high', 'high', 'high', 'very low', 'high', 'high', 'very low', 'high', 'high', 'high', 'high', 'very high', 'high', 'average', 'high', 'high', 'very low', 'very low', 'very low', 'high', 'average', 'very low', 'average', 'high', 'high', 'high', 'very low', 'high', 'average', 'high', 'very low', 'high', 'average', 'average', 'average', 'very low', 'high', 'high', 'high', 'very low', 'very low', 'high', 'very low', 'high', 'very low', 'high', 'very low', 'high', 'very low', 'high', 'high', 'very low', 'very low', 'high', 'high', 'very low', 'high', 'high', 'high', 'average', 'high', 'very low', 'very low', 'high', 'high', 'high', 'high', 'very low', 'high', 'high', 'high', 'high', 'high', 'very high', 'high', 'high', 'very high', 'high', 'high', 'very low', 'high', 'high', 'high', 'high', 'high', 'high', 'very high', 'high', 'high', 'very low', 'high', 'high', 'very low', 'very low', 'very low', 'high', 'very low', 'very low', 'very low', 'very high', 'average', 'very low', 'high', 'very low', 'high', 'average', 'very low', 'high', 'high', 'high', 'average', 'very high', 'high', 'very low', 'very high', 'very low', 'very low', 'high', 'high', 'very low', 'very low', 'high', 'high', 'high', 'very low', 'very low', 'high', 'high', 'high', 'very low', 'average', 'high', 'very high', 'high', 'average', 'high', 'very high', 'very low', 'high', 'high', 'high', 'high', 'high', 'very low', 'very low', 'very high', 'very low', 'very low', 'high', 'high', 'high', 'very low', 'high', 'high', 'high', 'high', 'high', 'average', 'very low', 'high', 'high', 'high', 'high', 'high', 'high', 'very high', 'high', 'very low', 'high', 'high', 'average', 'very high', 'high', 'very high', 'high', 'very low', 'high', 'very high', 'high', 'very low', 'very low', 'very low', 'average', 'very low', 'high', 'high', 'high', 'very low', 'high', 'high', 'very low', 'high', 'high', 'very low', 'very high', 'high', 'high', 'high', 'high', 'high', 'high', 'high', 'high', 'high', 'high', 'high', 'average', 'average', 'high', 'very low', 'very low', 'very low', 'high', 'average', 'very low', 'very low', 'high', 'very low', 'very low', 'very low', 'low', 'high', 'very low', 'high', 'very low', 'high', 'average', 'high', 'high', 'high', 'very low', 'high', 'high', 'high', 'very low', 'high', 'high', 'very low', 'very low', 'high', 'high', 'very low', 'high', 'high', 'high', 'high', 'very low', 'high', 'high', 'high', 'high', 'high', 'very low', 'high', 'average', 'high', 'high', 'very low', 'very low', 'high', 'very low', 'very low', 'very low', 'high', 'very high', 'high', 'high', 'high', 'high', 'high', 'high', 'high', 'very low', 'high', 'very low', 'high', 'high', 'very low', 'high', 'high', 'very low', 'high', 'very low', 'very low', 'high', 'high', 'high', 'high', 'very low', 'very low', 'very low', 'high', 'high', 'high', 'average', 'high', 'high', 'high', 'high', 'high', 'very low', 'high', 'very low', 'high', 'very low', 'very low', 'very low', 'very low', 'high', 'high', 'very low', 'high', 'very low', 'average', 'average', 'high', 'average', 'very high', 'very low', 'high', 'high', 'high', 'very high', 'very high', 'high', 'very high', 'very low', 'very high', 'high', 'very low', 'high', 'high', 'very low', 'very low', 'average', 'high', 'high', 'very low', 'high', 'high', 'very low', 'very high', 'very low', 'high', 'very low', 'high', 'very high', 'average', 'high', 'very low', 'high', 'very low', 'high', 'high', 'very low', 'high', 'high', 'very high', 'high', 'very high', 'very low', 'very low', 'very low', 'very high', 'very low', 'high', 'high', 'high', 'very low', 'high', 'very low', 'high', 'high', 'very low', 'high', 'high', 'high', 'very high', 'high', 'very low', 'high', 'high', 'high', 'high', 'high', 'very low', 'very low', 'very low', 'very low', 'high', 'high', 'very low', 'high', 'high', 'average', 'high', 'very low', 'very low', 'high', 'high', 'very low', 'high', 'high', 'very low', 'very low', 'high', 'very low', 'high', 'high', 'very high', 'very low', 'very low', 'high', 'very low', 'high', 'high', 'very low', 'high', 'high', 'high', 'average', 'high', 'very low', 'average', 'high', 'high', 'high', 'very low', 'very low', 'very low', 'very low', 'high', 'high', 'high', 'very low', 'very low', 'very low', 'very low', 'high', 'very low', 'very low', 'very low', 'very low', 'very high', 'high', 'very low', 'very low', 'very low', 'high', 'very high', 'high', 'high', 'high', 'high', 'very low', 'high', 'high', 'average', 'very low', 'very low', 'very low', 'high', 'very low', 'high', 'very high', 'high', 'very low', 'high', 'average', 'average', 'high', 'very low', 'high', 'average', 'high', 'average', 'very low', 'high', 'high', 'high', 'very low', 'high', 'very low', 'high', 'very low', 'very high', 'high', 'high', 'very high', 'high', 'high', 'high', 'high', 'high', 'high', 'high', 'very low', 'high', 'high', 'high', 'high', 'very low', 'high', 'very low', 'very low', 'average', 'high', 'high', 'very low', 'average', 'average', 'very low', 'high', 'very low', 'high', 'very low', 'very low', 'very low', 'very low', 'very low', 'high', 'very low', 'high', 'high', 'very low', 'very high', 'high', 'high', 'high', 'very low', 'very low', 'very low', 'high', 'very low', 'very low', 'very high', 'very low', 'very low', 'high', 'high', 'very low', 'average', 'very low', 'very high', 'high', 'high', 'high', 'high', 'high', 'high', 'very high', 'high', 'average', 'high', 'very low', 'high', 'very low', 'high', 'very low', 'high', 'very low', 'very low', 'high', 'very low', 'very low', 'high', 'very low', 'average', 'very low', 'high', 'high', 'very low', 'average', 'very low', 'high', 'very high', 'average', 'very low', 'high', 'high', 'very high', 'high', 'high', 'high', 'high', 'high', 'high', 'very low', 'high', 'very high', 'very high', 'very low', 'high', 'very high', 'high', 'high', 'very low', 'average', 'high', 'high', 'high', 'very low', 'high', 'very low', 'average', 'very low', 'high', 'very low', 'very low', 'high', 'very high', 'high', 'average', 'very low', 'high', 'high', 'high', 'high', 'very high', 'high', 'very high', 'very low', 'high', 'very low', 'very low', 'very low', 'high', 'very high', 'high', 'high', 'high', 'very high', 'very low', 'high', 'very high', 'high', 'high', 'very low', 'very low', 'very low', 'high', 'high', 'high', 'high', 'high', 'high', 'very low', 'high', 'very low', 'high', 'very high', 'very low', 'very low', 'average', 'high', 'very low', 'very low', 'high', 'very low', 'high', 'high', 'very low', 'high', 'high', 'very low', 'high', 'very high', 'high', 'high', 'high', 'very low', 'very low', 'high', 'high', 'very low', 'very low', 'very low', 'very high', 'very low', 'high', 'high', 'high', 'high', 'very low', 'very high', 'high', 'very low', 'average', 'high', 'very low', 'very low', 'average', 'high', 'average', 'high', 'very low', 'high', 'average', 'very low', 'very low', 'very low', 'high', 'high', 'high', 'very high', 'high', 'very low', 'average', 'very low', 'high', 'high', 'very low', 'average', 'very low', 'very low', 'very low', 'very high', 'high', 'high', 'high', 'high', 'very low', 'very low', 'very high', 'high', 'high', 'high', 'very low', 'high', 'very high', 'high', 'high', 'very low', 'average', 'high', 'average', 'very low', 'high', 'very low', 'very low', 'very low', 'high', 'high', 'high', 'high', 'high', 'very low', 'very low', 'very low', 'high', 'high', 'very low', 'very high', 'very low', 'high', 'high', 'very low', 'high', 'high', 'very low', 'high', 'high', 'high', 'high', 'average', 'high', 'high', 'very low', 'high', 'very low', 'high', 'high', 'high', 'high', 'high', 'very low', 'very low', 'high', 'very low', 'very high', 'high', 'very low', 'very low', 'very low', 'high', 'very low', 'high', 'very low', 'high', 'very low', 'high', 'very high', 'very low', 'high', 'very low', 'very low', 'high', 'high', 'high', 'high', 'very high', 'very high', 'very low', 'very low', 'high', 'very low', 'very low', 'high', 'high', 'very low', 'very high', 'high', 'very low', 'very low', 'high', 'very low', 'high', 'very low', 'high', 'high', 'very low', 'high', 'very low', 'high', 'high', 'high', 'average', 'very low', 'high', 'very high', 'high', 'very high', 'very low', 'very high', 'very low', 'high', 'high', 'very high', 'high', 'very low', 'average', 'high', 'high', 'very low', 'high', 'high', 'very high', 'high', 'very low', 'very low', 'high', 'average', 'high', 'very low', 'very low', 'high', 'high', 'high', 'high', 'very high', 'high', 'high', 'high', 'high', 'high', 'very low', 'high', 'high', 'high', 'very low', 'high', 'high', 'high', 'high', 'high', 'very low', 'high', 'very low', 'high', 'very high', 'high', 'very low', 'high', 'very low', 'high', 'very low', 'very low', 'very low', 'high', 'very low', 'high', 'high', 'very low', 'very low', 'high', 'very low', 'very low', 'high', 'high', 'high', 'high', 'high', 'high', 'high', 'very high', 'very low', 'high', 'very low', 'average', 'high', 'very low', 'very low', 'very low', 'high', 'high', 'very high', 'high', 'average', 'high', 'high', 'very low', 'average', 'high', 'high', 'very low', 'very low', 'high', 'very high', 'very low', 'high', 'very high', 'high', 'high', 'high', 'high', 'high', 'very low', 'high', 'very low', 'high', 'high', 'very high', 'high', 'very low', 'high', 'very low', 'very high', 'very high', 'very high', 'high', 'very low', 'very low', 'very high', 'very low', 'high', 'very low', 'high', 'very low', 'high', 'high', 'high', 'very high', 'very low', 'very low', 'high', 'very low', 'high', 'average', 'average', 'average', 'very low', 'high', 'low', 'very low', 'very low', 'high', 'average', 'high', 'very low', 'high', 'high', 'very low', 'very low', 'average', 'very low', 'very low', 'very low', 'high', 'very high', 'high', 'high', 'very low', 'very low', 'average', 'high', 'very low', 'high', 'average', 'very low', 'very low', 'high', 'very low', 'high', 'very low', 'average', 'high', 'very low', 'very low', 'high', 'high', 'high', 'high', 'very low', 'very high', 'very low', 'high', 'high', 'very low', 'high', 'high', 'high', 'very low', 'very low', 'average', 'high', 'very low', 'high', 'high', 'high', 'high', 'high', 'high', 'high', 'very low', 'very low', 'high', 'high', 'very low', 'high', 'high', 'very low', 'very low', 'very high', 'very low', 'very low', 'high', 'very low', 'high', 'high', 'very low', 'high', 'high', 'very low', 'very low', 'average', 'very low', 'very low', 'high', 'very low', 'very low', 'very low', 'high', 'very low', 'high', 'high', 'very low', 'high', 'high', 'high', 'very low', 'high', 'very low', 'high', 'very low', 'high', 'high', 'very low', 'very low', 'high', 'very low', 'very high', 'very low', 'high', 'high', 'very low', 'very low', 'high', 'very low', 'average', 'average', 'very low', 'very low', 'high', 'high', 'very low', 'high', 'very low', 'high', 'very low', 'very high', 'high', 'very low', 'high', 'high', 'very high', 'very low', 'very low', 'high', 'high', 'high', 'high', 'high', 'high', 'very low', 'very low', 'high', 'high', 'very low', 'very low', 'high', 'high', 'high', 'very low', 'high', 'high', 'average', 'high', 'very low', 'high', 'high', 'very low', 'high', 'very low', 'very low', 'very high', 'high', 'high', 'high', 'very low', 'very low', 'very low', 'high', 'high', 'high', 'high', 'very low', 'very low', 'high', 'very low', 'high', 'high', 'high', 'high', 'very low', 'high', 'very low', 'very low', 'very low', 'very low', 'very low', 'very low', 'high', 'high', 'very low', 'very low', 'high', 'high', 'high', 'high', 'high', 'very low', 'high', 'very high', 'very high', 'very low', 'very low', 'high', 'very low', 'very low', 'very high', 'very high', 'very low', 'very high', 'high', 'very low', 'high', 'high', 'high', 'very high', 'average', 'very high', 'high', 'very high', 'very high', 'very low', 'very low', 'high', 'very high', 'high', 'high', 'high', 'average', 'high', 'very low', 'high', 'high', 'high', 'high', 'very low', 'very low', 'very low', 'high', 'very low', 'high', 'high', 'very low', 'high', 'high', 'very low', 'high', 'high', 'very high', 'high', 'high', 'high', 'high', 'high', 'very high', 'high', 'very low', 'very high', 'very low', 'average', 'very low', 'very low', 'very low', 'very low', 'very high', 'very low', 'high', 'high', 'average', 'very high', 'very low', 'high', 'very low', 'very low', 'high', 'very low', 'average', 'average', 'high', 'very low', 'very low', 'high', 'high', 'very low', 'very low', 'high', 'very low', 'very low', 'high', 'very high', 'high', 'very low', 'high', 'very low', 'high', 'high', 'very low', 'high', 'average', 'very low', 'very low', 'average', 'high', 'average', 'very low', 'very high', 'high', 'high', 'high', 'very low', 'very low', 'very low', 'very low', 'very low', 'average', 'high', 'high', 'very high', 'high', 'high', 'very low', 'high', 'high', 'very low', 'high', 'high', 'high', 'high', 'very high', 'high', 'very high', 'very high', 'high', 'very high', 'very low', 'high', 'average', 'very high', 'high', 'high', 'very low', 'high', 'very low', 'very low', 'average', 'high', 'very low', 'very low', 'very low', 'very low', 'high', 'average', 'very low', 'high', 'high', 'average', 'high', 'very low', 'very low', 'average', 'high', 'high', 'high', 'very high', 'average', 'high', 'very low', 'very low', 'high', 'very low', 'high', 'very high', 'low', 'very low', 'high', 'high', 'very low', 'very low', 'high', 'average', 'very low', 'very low', 'high', 'very low', 'very low', 'high', 'high', 'average', 'average', 'average', 'very low', 'high', 'high', 'very low', 'very low', 'very low', 'high', 'high', 'very high', 'high', 'high', 'very high', 'high', 'high', 'high', 'very low', 'very low', 'high', 'high', 'very low', 'very low', 'high', 'high', 'high', 'high', 'high', 'high', 'very low', 'high', 'very low', 'very high', 'high', 'high', 'high', 'high', 'high', 'high', 'high', 'high', 'high', 'high', 'average', 'average', 'very low', 'high', 'very low', 'high', 'very low', 'very low', 'high', 'high', 'very high', 'very low', 'high', 'very low', 'high', 'very low', 'average', 'average', 'average', 'high', 'high', 'high', 'high', 'very low', 'high', 'average', 'very low', 'very low', 'very low', 'very high', 'high', 'average', 'very low', 'very low', 'high', 'high', 'very low', 'high', 'high', 'very high', 'high', 'high', 'very low', 'high', 'very low', 'high', 'high', 'very low', 'very low', 'very high', 'very low', 'high', 'high', 'very high', 'high', 'high', 'high', 'high', 'high', 'average', 'high', 'very low', 'high', 'high', 'very low', 'very low', 'very low', 'high', 'high', 'average', 'high', 'high', 'high', 'high', 'very high', 'very high', 'high', 'very high', 'very low', 'very low', 'very low', 'high', 'very low', 'high', 'very low', 'very low', 'high', 'high', 'high', 'very low', 'high', 'high', 'high', 'very low', 'very high', 'high', 'very low', 'very low', 'very low', 'average', 'very low', 'very low', 'very low', 'high', 'average', 'high', 'very high', 'high', 'very high', 'high', 'very low', 'very high', 'very low', 'very low', 'high', 'high', 'very high', 'very high', 'very low', 'high', 'high', 'high', 'high', 'high', 'high', 'very low', 'high', 'high', 'very low', 'high', 'very low', 'very low', 'very high', 'very low', 'very high', 'very high', 'very low', 'high', 'very low', 'high', 'high', 'high', 'very high', 'average', 'high', 'high', 'high', 'high', 'very low', 'high', 'high', 'high', 'high', 'high', 'high', 'high', 'average', 'high', 'high', 'very low', 'very low', 'very low', 'very high', 'high', 'very high', 'high', 'very low', 'very low', 'average', 'very high', 'very low', 'high', 'very low', 'high', 'high', 'high', 'high', 'high', 'high', 'very low', 'very low', 'high', 'high', 'very low', 'very high', 'high', 'very low', 'high', 'very low', 'very low', 'high', 'very low', 'very low', 'high', 'very low', 'high', 'very low', 'very low', 'high', 'very high', 'high', 'very high', 'high', 'very low', 'very low', 'high', 'very high', 'high', 'very low', 'high', 'high', 'high', 'very high', 'high', 'very low', 'high', 'average', 'very low', 'very low', 'very low', 'high', 'high', 'very high', 'average', 'very low', 'high', 'very high', 'average', 'high', 'high', 'high', 'high', 'very low', 'very low', 'very low', 'high', 'average', 'high', 'very low', 'very low', 'high', 'high', 'high', 'high', 'high', 'high', 'very low', 'high', 'high', 'very high', 'high', 'high', 'high', 'very low', 'high', 'high', 'very high', 'high', 'very high', 'very low', 'very low', 'high', 'very low', 'very low', 'very low', 'high', 'average', 'very low', 'high', 'very low', 'very low', 'high', 'high', 'very high', 'high', 'average', 'high', 'very high', 'high', 'very low', 'high', 'high', 'very low', 'average', 'high', 'very low', 'high', 'very low', 'high', 'high', 'very low', 'very high', 'very low', 'high', 'very low', 'high', 'high', 'very high', 'high', 'high', 'high', 'high', 'high', 'very low', 'high', 'high', 'high', 'high', 'very low', 'very low', 'high', 'high', 'high', 'high', 'very high', 'average', 'high', 'very high', 'average', 'very low', 'very low', 'very high', 'very low', 'very high', 'high', 'very low', 'very low', 'very high', 'high', 'high', 'high', 'high', 'average', 'high', 'average', 'high', 'very low', 'high', 'average', 'very high', 'very low', 'very low', 'high', 'very low', 'high', 'high', 'high', 'very low', 'high', 'very low', 'high', 'high', 'high', 'high', 'very low', 'very low', 'average', 'high', 'high', 'very high', 'high', 'high', 'very high', 'high', 'high', 'high', 'very high', 'high', 'high', 'high', 'very low', 'high', 'very high', 'high', 'very low', 'very low', 'high', 'very low', 'high', 'high', 'high', 'high', 'very low', 'high', 'high', 'very low', 'high', 'high', 'high', 'high', 'average', 'very low', 'average', 'high', 'high', 'high', 'high', 'high', 'very low', 'high', 'average', 'high', 'high', 'very low', 'very high', 'high', 'high', 'very low', 'very low', 'very low', 'high', 'average', 'very low', 'high', 'high', 'high', 'high', 'high', 'very low', 'very high', 'high', 'high', 'very low', 'very low', 'high', 'high', 'very low', 'high', 'high', 'very high', 'very low', 'high', 'high', 'average', 'high', 'very high', 'very low', 'high', 'very high', 'high', 'very low', 'high', 'high', 'high', 'very high', 'very low', 'high', 'high', 'very high', 'very low', 'high', 'high', 'very low', 'very low', 'very low', 'very low', 'very low', 'very low', 'very low', 'very low', 'very low', 'very low', 'high', 'very low', 'high', 'very low', 'high', 'high', 'very low', 'very low', 'very low', 'high', 'very high', 'high', 'very low', 'high', 'very high', 'very high', 'very low', 'high', 'high', 'very low', 'high', 'very low', 'very low', 'average', 'very low', 'very low', 'high', 'very low', 'very low', 'very high', 'very low', 'high', 'high', 'high', 'very low', 'high', 'very low', 'very low', 'very high', 'very low', 'very low', 'high', 'high', 'high', 'high', 'high', 'high', 'high', 'high', 'high', 'very high', 'high', 'high', 'high', 'high', 'high', 'very low', 'high', 'high', 'high', 'very low', 'very low', 'high', 'average', 'high', 'very low', 'high', 'very low', 'high', 'high', 'high', 'very low', 'average', 'average', 'high', 'very low', 'very high', 'average', 'very low', 'average', 'high', 'high', 'high', 'very low', 'high', 'very low', 'average', 'high', 'very low', 'high', 'high', 'very high', 'very low', 'high', 'very high', 'very low', 'very low', 'high', 'very low', 'high', 'very high', 'high', 'high', 'high', 'high', 'very low', 'average', 'high', 'very low', 'very low', 'very high', 'very high', 'high', 'high', 'very low', 'high', 'average', 'high', 'very low', 'high', 'high', 'high', 'very low', 'very low', 'high', 'high', 'very low', 'high', 'high', 'very low', 'very low', 'high', 'high', 'very low', 'high', 'high', 'very low', 'very low', 'very low', 'very low', 'very low', 'high', 'high', 'high', 'very high', 'high', 'high', 'high', 'very high', 'very high', 'very low', 'high', 'very low', 'high', 'high', 'very low', 'very low', 'average', 'high', 'very low', 'high', 'very low', 'very low', 'high', 'high', 'very low', 'high', 'very low', 'very high', 'high', 'high', 'high', 'high', 'very low', 'very low', 'high', 'very low', 'very low', 'very low', 'high', 'high', 'very low', 'very high', 'high', 'very low', 'average', 'high', 'high', 'high', 'high', 'very low', 'high', 'high', 'high', 'high', 'very low', 'very high', 'high', 'very high', 'very high', 'high', 'high', 'high', 'very low', 'high', 'very low', 'very low', 'very low', 'high', 'very low', 'very low', 'very low', 'high', 'average', 'high', 'very low', 'very low', 'very low', 'high', 'average', 'very low', 'high', 'high', 'high', 'very low', 'high', 'very low', 'very low', 'very low', 'high', 'very low', 'high', 'high', 'very low', 'very low', 'very low', 'high', 'high', 'very high', 'very low', 'high', 'high', 'high', 'very low', 'very low', 'very low', 'very low', 'average', 'high', 'very low', 'high', 'very low', 'very low', 'high', 'high', 'high', 'high', 'very low', 'very low', 'high', 'high', 'very low', 'high', 'high', 'high', 'high', 'very low', 'high', 'very low', 'average', 'high', 'very high', 'very high', 'average', 'very low', 'very low', 'high', 'high', 'high', 'high', 'very high', 'high', 'very low', 'very low', 'high', 'average', 'high', 'high', 'very low', 'high', 'high', 'high', 'high', 'high', 'high', 'high', 'high', 'high', 'high', 'high', 'very low', 'very low', 'very low', 'very low', 'high', 'high', 'high', 'high', 'very high', 'high', 'high', 'high', 'high', 'high', 'high', 'high', 'high', 'high', 'high', 'high', 'high', 'high', 'high', 'high', 'high', 'high', 'average', 'high', 'very low', 'high', 'very low', 'high', 'high', 'very low', 'high', 'very high', 'very high', 'very low', 'high', 'high', 'high', 'high', 'high', 'very low', 'high', 'high', 'high', 'very low', 'very low', 'average', 'high', 'high', 'very low', 'high', 'high', 'very high', 'high', 'high', 'very low', 'very low', 'high', 'very low', 'very high', 'very low', 'high', 'high', 'average', 'very low', 'very low', 'very low', 'very low', 'high', 'very low', 'very low', 'very low', 'very high', 'high', 'very low', 'very low', 'high', 'high', 'average', 'very high', 'high', 'average', 'high', 'very low', 'high', 'high', 'average', 'very low', 'very high', 'average', 'very low', 'very low', 'very low', 'very low', 'very high', 'high', 'very low', 'high', 'very low', 'very low', 'high', 'very low', 'average', 'high', 'very low', 'high', 'high', 'high', 'very low', 'high', 'very low', 'high', 'high', 'very low', 'high', 'very low', 'high', 'very high', 'high', 'high', 'very low', 'very high', 'very low', 'high', 'high', 'average', 'high', 'very low', 'very low', 'very high', 'high', 'high', 'average', 'very low', 'very low', 'low', 'high', 'very low', 'very high', 'very low', 'high', 'high', 'high', 'high', 'very low', 'high', 'very low', 'very low', 'very low', 'high', 'very low', 'high', 'high', 'very low', 'average', 'high', 'high', 'very low', 'high', 'high', 'very low', 'high', 'average', 'very low', 'high', 'very low', 'high', 'very high', 'very low', 'high', 'very high', 'high', 'very low', 'high', 'high', 'very low', 'high', 'high', 'very high', 'very low', 'high', 'high', 'very low', 'high', 'high', 'very high', 'very high', 'average', 'high', 'high', 'very low', 'very low', 'high', 'high', 'very low', 'very low', 'high', 'high', 'very low', 'high', 'very low', 'high', 'very low', 'high', 'high', 'high', 'high', 'very low', 'high', 'very high', 'high', 'high', 'high', 'high', 'high', 'very low', 'high', 'very low', 'high', 'very low', 'high', 'high', 'average', 'very low', 'average', 'very low', 'high', 'high', 'high', 'high', 'very high', 'high', 'very low', 'high', 'very low', 'high', 'high', 'high', 'average', 'very low', 'very low', 'very low', 'high', 'high', 'high', 'very low', 'high', 'very low', 'high', 'average', 'average', 'very low', 'high', 'high', 'very high', 'very low', 'very low', 'high', 'very high', 'very low', 'high', 'very low', 'very low', 'high', 'high', 'very low', 'high', 'high', 'very low', 'high', 'high', 'high', 'high', 'average', 'high', 'high', 'high', 'high', 'very low', 'high', 'high', 'very low', 'high', 'high', 'very low', 'very low', 'very low', 'very low', 'high', 'low', 'high', 'high', 'high', 'high', 'high', 'very high', 'high', 'very high', 'very low', 'high', 'high', 'high', 'very low', 'high', 'high', 'high', 'high', 'high', 'high', 'very low', 'high', 'very low', 'average', 'high', 'high', 'very high', 'very high', 'very low', 'high', 'high', 'high', 'very low', 'very low', 'very low', 'high', 'very high', 'very low', 'very low', 'very low', 'very low', 'high', 'high', 'average', 'very low', 'high', 'very low', 'very low', 'very low', 'high', 'very high', 'high', 'high', 'high', 'very low', 'high', 'very low', 'high', 'high', 'very low', 'high', 'very high', 'average', 'very low', 'high', 'very low', 'very low', 'very low', 'very low', 'high', 'very high', 'very high', 'very low', 'very low', 'low', 'high', 'average', 'very low', 'very low', 'very low', 'high', 'high', 'high', 'very low', 'high', 'high', 'very low', 'high', 'very low', 'very low', 'high', 'high', 'average', 'high', 'very low', 'high', 'high', 'very high', 'high', 'very low', 'very low', 'very low', 'high', 'high', 'high', 'very low', 'very low', 'very low', 'high', 'high', 'very low', 'very low', 'high', 'high', 'high', 'high', 'high', 'very high', 'high', 'very low', 'very low', 'very low', 'high', 'very low', 'very high', 'very high', 'average', 'very low', 'high', 'very low', 'very high', 'high', 'very low', 'high', 'very low', 'very low', 'high', 'high', 'very low', 'very low', 'average', 'high', 'very low', 'very low', 'high', 'very low', 'very low', 'high', 'high', 'high', 'high', 'very low', 'high', 'very low', 'high', 'very low', 'very low', 'high', 'high', 'very low', 'very low', 'high', 'very low', 'high', 'high', 'average', 'very low', 'very low', 'high', 'average', 'average', 'very low', 'very low', 'high', 'average', 'very low', 'high', 'high', 'high', 'high', 'high', 'high', 'high', 'low', 'high', 'average', 'high', 'average', 'very low', 'very low', 'very low', 'very low', 'very low', 'high', 'high', 'very low', 'average', 'high', 'high', 'very low', 'high', 'high', 'very high', 'very low', 'very low', 'high', 'very low', 'average', 'high', 'high', 'very low', 'very low', 'high', 'very low', 'very high', 'very high', 'high', 'average', 'very low', 'very low', 'very low', 'high', 'very low', 'high', 'high', 'very low', 'high']\n"
          ],
          "name": "stdout"
        }
      ]
    },
    {
      "cell_type": "code",
      "metadata": {
        "id": "qITajp0sWh_9"
      },
      "source": [
        "df2=df_test[['id']]"
      ],
      "execution_count": null,
      "outputs": []
    },
    {
      "cell_type": "code",
      "metadata": {
        "colab": {
          "base_uri": "https://localhost:8080/"
        },
        "id": "pyUdn4zlWx5a",
        "outputId": "70c948a7-1cd8-45e8-92d9-22bbec3dfeb1"
      },
      "source": [
        "df2['popularity']=y"
      ],
      "execution_count": null,
      "outputs": [
        {
          "output_type": "stream",
          "text": [
            "/usr/local/lib/python3.7/dist-packages/ipykernel_launcher.py:1: SettingWithCopyWarning: \n",
            "A value is trying to be set on a copy of a slice from a DataFrame.\n",
            "Try using .loc[row_indexer,col_indexer] = value instead\n",
            "\n",
            "See the caveats in the documentation: https://pandas.pydata.org/pandas-docs/stable/user_guide/indexing.html#returning-a-view-versus-a-copy\n",
            "  \"\"\"Entry point for launching an IPython kernel.\n"
          ],
          "name": "stderr"
        }
      ]
    },
    {
      "cell_type": "code",
      "metadata": {
        "colab": {
          "base_uri": "https://localhost:8080/",
          "height": 195
        },
        "id": "uMzrl57FW_4D",
        "outputId": "d7afe855-f346-4a28-b416-15b4c63a7409"
      },
      "source": [
        "df2.head()"
      ],
      "execution_count": null,
      "outputs": [
        {
          "output_type": "execute_result",
          "data": {
            "text/html": [
              "<div>\n",
              "<style scoped>\n",
              "    .dataframe tbody tr th:only-of-type {\n",
              "        vertical-align: middle;\n",
              "    }\n",
              "\n",
              "    .dataframe tbody tr th {\n",
              "        vertical-align: top;\n",
              "    }\n",
              "\n",
              "    .dataframe thead th {\n",
              "        text-align: right;\n",
              "    }\n",
              "</style>\n",
              "<table border=\"1\" class=\"dataframe\">\n",
              "  <thead>\n",
              "    <tr style=\"text-align: right;\">\n",
              "      <th></th>\n",
              "      <th>id</th>\n",
              "      <th>popularity</th>\n",
              "    </tr>\n",
              "  </thead>\n",
              "  <tbody>\n",
              "    <tr>\n",
              "      <th>0</th>\n",
              "      <td>4943</td>\n",
              "      <td>high</td>\n",
              "    </tr>\n",
              "    <tr>\n",
              "      <th>1</th>\n",
              "      <td>16165</td>\n",
              "      <td>high</td>\n",
              "    </tr>\n",
              "    <tr>\n",
              "      <th>2</th>\n",
              "      <td>6774</td>\n",
              "      <td>high</td>\n",
              "    </tr>\n",
              "    <tr>\n",
              "      <th>3</th>\n",
              "      <td>9959</td>\n",
              "      <td>high</td>\n",
              "    </tr>\n",
              "    <tr>\n",
              "      <th>4</th>\n",
              "      <td>13818</td>\n",
              "      <td>high</td>\n",
              "    </tr>\n",
              "  </tbody>\n",
              "</table>\n",
              "</div>"
            ],
            "text/plain": [
              "      id popularity\n",
              "0   4943       high\n",
              "1  16165       high\n",
              "2   6774       high\n",
              "3   9959       high\n",
              "4  13818       high"
            ]
          },
          "metadata": {
            "tags": []
          },
          "execution_count": 47
        }
      ]
    },
    {
      "cell_type": "code",
      "metadata": {
        "id": "bBROsJ3QXDZ-"
      },
      "source": [
        "df2.to_csv('/content/drive/MyDrive/OPEN IIT/prediction.csv')"
      ],
      "execution_count": null,
      "outputs": []
    },
    {
      "cell_type": "code",
      "metadata": {
        "colab": {
          "base_uri": "https://localhost:8080/"
        },
        "id": "nzLbYKFADyOu",
        "outputId": "8a0b6893-8705-4d1f-ccd0-3083c4487692"
      },
      "source": [
        "import numpy as np\n",
        "from collections import Counter\n",
        "import pandas as pd\n",
        "import lightgbm as lgb\n",
        "from sklearn.datasets import load_breast_cancer,load_boston,load_wine\n",
        "from sklearn.model_selection import train_test_split\n",
        "from sklearn.preprocessing import StandardScaler\n",
        "from sklearn.ensemble import GradientBoostingClassifier\n",
        "d_train=lgb.Dataset(X_train, label=y_train)\n",
        "#Specifying the parameter\n",
        "params={}\n",
        "params['learning_rate']=0.02\n",
        "params['boosting_type']='gbdt' #GradientBoostingDecisionTree\n",
        "params['objective']: 'multiclass'\n",
        "params['num_class']:5\n",
        "params['metric']: 'multi_logloss'\n",
        "params['max_depth']=10\n",
        "params['is_unbalance']='true'\n",
        "#train the model \n",
        "clf=lgb.train(params,d_train,500) #train the model on 100 epocs\n",
        "#prediction on the test set\n",
        "y_pred=clf.predict(X_test)\n",
        "y_pred=y_pred.round(0)\n",
        "#converting from float to integer\n",
        "y_pred=y_pred.astype(int)\n",
        "from sklearn.metrics import classification_report, confusion_matrix, accuracy_score\n",
        "result = confusion_matrix(y_test, y_pred)\n",
        "print(\"Confusion Matrix:\")\n",
        "print(result)\n",
        "result1 = classification_report(y_test, y_pred)\n",
        "print(\"Classification Report:\",)\n",
        "print (result1)\n",
        "result2 = accuracy_score(y_test,y_pred)\n",
        "print(\"Accuracy:\",result2)"
      ],
      "execution_count": null,
      "outputs": [
        {
          "output_type": "stream",
          "text": [
            "Confusion Matrix:\n",
            "[[427 114  57  25   0]\n",
            " [ 42 316 260   3   0]\n",
            " [  6 138 411  33   0]\n",
            " [  4  56 269 211   0]\n",
            " [  0   1  22  51   0]]\n",
            "Classification Report:\n",
            "              precision    recall  f1-score   support\n",
            "\n",
            "           0       0.89      0.69      0.77       623\n",
            "           1       0.51      0.51      0.51       621\n",
            "           2       0.40      0.70      0.51       588\n",
            "           3       0.65      0.39      0.49       540\n",
            "           4       0.00      0.00      0.00        74\n",
            "\n",
            "    accuracy                           0.56      2446\n",
            "   macro avg       0.49      0.46      0.46      2446\n",
            "weighted avg       0.60      0.56      0.56      2446\n",
            "\n",
            "Accuracy: 0.5580539656582175\n"
          ],
          "name": "stdout"
        },
        {
          "output_type": "stream",
          "text": [
            "/usr/local/lib/python3.7/dist-packages/sklearn/metrics/_classification.py:1272: UndefinedMetricWarning: Precision and F-score are ill-defined and being set to 0.0 in labels with no predicted samples. Use `zero_division` parameter to control this behavior.\n",
            "  _warn_prf(average, modifier, msg_start, len(result))\n"
          ],
          "name": "stderr"
        }
      ]
    },
    {
      "cell_type": "code",
      "metadata": {
        "colab": {
          "base_uri": "https://localhost:8080/",
          "height": 651
        },
        "id": "eQNFUoZnHyGr",
        "outputId": "c4068c80-5dfa-4cbd-bc59-4b998b4c613b"
      },
      "source": [
        "\n",
        "# logistic regression for feature importance\n",
        "from sklearn.datasets import make_classification\n",
        "from sklearn.linear_model import LogisticRegression\n",
        "from matplotlib import pyplot\n",
        "# define dataset\n",
        "\n",
        "# define the model\n",
        "model = LogisticRegression()\n",
        "# fit the model\n",
        "model.fit(X, y)\n",
        "# get importance\n",
        "importance = model.coef_[0]\n",
        "# summarize feature importance\n",
        "for i,v in enumerate(importance):\n",
        "\tprint('Feature: %0d, Score: %.5f' % (i,v))\n",
        "# plot feature importance\n",
        "pyplot.bar([x for x in range(len(importance))], importance)\n",
        "pyplot.show()"
      ],
      "execution_count": null,
      "outputs": [
        {
          "output_type": "stream",
          "text": [
            "Feature: 0, Score: 0.10929\n",
            "Feature: 1, Score: -0.22881\n",
            "Feature: 2, Score: -0.33110\n",
            "Feature: 3, Score: 0.67400\n",
            "Feature: 4, Score: 0.02060\n",
            "Feature: 5, Score: 0.18617\n",
            "Feature: 6, Score: 0.45355\n",
            "Feature: 7, Score: 0.03979\n",
            "Feature: 8, Score: 0.14215\n",
            "Feature: 9, Score: 0.24298\n",
            "Feature: 10, Score: 0.46589\n",
            "Feature: 11, Score: -0.74588\n",
            "Feature: 12, Score: -1.71444\n",
            "Feature: 13, Score: -0.52779\n",
            "Feature: 14, Score: -0.56593\n"
          ],
          "name": "stdout"
        },
        {
          "output_type": "stream",
          "text": [
            "/usr/local/lib/python3.7/dist-packages/sklearn/linear_model/_logistic.py:940: ConvergenceWarning: lbfgs failed to converge (status=1):\n",
            "STOP: TOTAL NO. of ITERATIONS REACHED LIMIT.\n",
            "\n",
            "Increase the number of iterations (max_iter) or scale the data as shown in:\n",
            "    https://scikit-learn.org/stable/modules/preprocessing.html\n",
            "Please also refer to the documentation for alternative solver options:\n",
            "    https://scikit-learn.org/stable/modules/linear_model.html#logistic-regression\n",
            "  extra_warning_msg=_LOGISTIC_SOLVER_CONVERGENCE_MSG)\n"
          ],
          "name": "stderr"
        },
        {
          "output_type": "display_data",
          "data": {
            "image/png": "[encoded data removed]",
            "text/plain": [
              "<Figure size 432x288 with 1 Axes>"
            ]
          },
          "metadata": {
            "tags": [],
            "needs_background": "light"
          }
        }
      ]
    },
    {
      "cell_type": "code",
      "metadata": {
        "colab": {
          "base_uri": "https://localhost:8080/"
        },
        "id": "H19kv873JNXn",
        "outputId": "a1e507ec-321b-4006-eca9-9db95c44110c"
      },
      "source": [
        "# multi-class classification with Keras\n",
        "import pandas\n",
        "from keras.models import Sequential\n",
        "from keras.layers import Dense\n",
        "from keras.wrappers.scikit_learn import KerasClassifier\n",
        "from keras.utils import np_utils\n",
        "from sklearn.model_selection import cross_val_score\n",
        "from sklearn.model_selection import KFold\n",
        "from sklearn.preprocessing import LabelEncoder\n",
        "from sklearn.pipeline import Pipeline\n",
        "from keras.utils.np_utils import to_categorical\n",
        "from sklearn.preprocessing import StandardScaler\n",
        "from imblearn.over_sampling import SMOTE\n",
        "\n",
        "from sklearn.model_selection import train_test_split\n",
        "\n",
        "\n",
        "X=df[[ 'acousticness', 'danceability',\n",
        "       'explicit', 'instrumentalness', 'key', 'liveness',\n",
        "       'speechiness', 'tempo', 'valence',\n",
        "       'duration-min', 'year<=1960', 'year<=1980', 'year<=2000', 'year<=2010',\n",
        "       'year<=2020']]\n",
        "y=df['regression_popularity']\n",
        "sc_1=StandardScaler()\n",
        "sc_1.fit(X)\n",
        "X=pd.DataFrame(sc_1.fit_transform(X))\n",
        "\n",
        "y2 = np_utils.to_categorical(y)\n",
        "X_train, X_test, y_train, y_test = train_test_split(X, y2, test_size=0.1, random_state=42)\n",
        "strategy = {4:1000}\n",
        "oversample = SMOTE(sampling_strategy=strategy)\n",
        "X_train, y_train = oversample.fit_resample(X_train, y_train)\n",
        "model = Sequential()\n",
        "model.add(Dense(64, input_dim = 15 , activation = 'relu'))\n",
        "model.add(Dense(20, activation = 'relu'))\n",
        "\n",
        "\n",
        "model.add(Dense(5, activation = 'softmax'))\n",
        "\n",
        "model.compile(loss = 'categorical_crossentropy' , optimizer = 'adam' , metrics = ['accuracy'] )\n",
        "\n",
        "model.fit(X_train, y_train, epochs = 15, batch_size = 4)\n",
        "\n",
        "scores = model.evaluate(X_test, y_test)\n",
        "print(\"\\n%s: %.2f%%\" % (model.metrics_names[1], scores[1]*100))\n",
        "predictions = model.predict_classes(X_test)\n",
        "prediction_ = np.argmax(to_categorical(predictions), axis = 1)"
      ],
      "execution_count": null,
      "outputs": [
        {
          "output_type": "stream",
          "text": [
            "/usr/local/lib/python3.7/dist-packages/sklearn/utils/deprecation.py:87: FutureWarning: Function safe_indexing is deprecated; safe_indexing is deprecated in version 0.22 and will be removed in version 0.24.\n",
            "  warnings.warn(msg, category=FutureWarning)\n"
          ],
          "name": "stderr"
        },
        {
          "output_type": "stream",
          "text": [
            "Epoch 1/15\n",
            "2917/2917 [==============================] - 5s 2ms/step - loss: 1.1252 - accuracy: 0.5190\n",
            "Epoch 2/15\n",
            "2917/2917 [==============================] - 5s 2ms/step - loss: 0.9866 - accuracy: 0.5725\n",
            "Epoch 3/15\n",
            "2917/2917 [==============================] - 5s 2ms/step - loss: 0.9671 - accuracy: 0.5786\n",
            "Epoch 4/15\n",
            "2917/2917 [==============================] - 5s 2ms/step - loss: 0.9570 - accuracy: 0.5893\n",
            "Epoch 5/15\n",
            "2917/2917 [==============================] - 5s 2ms/step - loss: 0.9569 - accuracy: 0.5898\n",
            "Epoch 6/15\n",
            "2917/2917 [==============================] - 5s 2ms/step - loss: 0.9430 - accuracy: 0.5992\n",
            "Epoch 7/15\n",
            "2917/2917 [==============================] - 5s 2ms/step - loss: 0.9341 - accuracy: 0.6009\n",
            "Epoch 8/15\n",
            "2917/2917 [==============================] - 5s 2ms/step - loss: 0.9365 - accuracy: 0.5991\n",
            "Epoch 9/15\n",
            "2917/2917 [==============================] - 5s 2ms/step - loss: 0.9424 - accuracy: 0.5923\n",
            "Epoch 10/15\n",
            "2917/2917 [==============================] - 5s 2ms/step - loss: 0.9253 - accuracy: 0.5996\n",
            "Epoch 11/15\n",
            "2917/2917 [==============================] - 5s 2ms/step - loss: 0.9101 - accuracy: 0.6186\n",
            "Epoch 12/15\n",
            "2917/2917 [==============================] - 5s 2ms/step - loss: 0.9162 - accuracy: 0.6000\n",
            "Epoch 13/15\n",
            "2917/2917 [==============================] - 6s 2ms/step - loss: 0.9040 - accuracy: 0.6029\n",
            "Epoch 14/15\n",
            "2917/2917 [==============================] - 5s 2ms/step - loss: 0.9029 - accuracy: 0.6135\n",
            "Epoch 15/15\n",
            "2917/2917 [==============================] - 5s 2ms/step - loss: 0.9032 - accuracy: 0.6079\n",
            "39/39 [==============================] - 0s 2ms/step - loss: 0.9749 - accuracy: 0.5642\n",
            "\n",
            "accuracy: 56.42%\n"
          ],
          "name": "stdout"
        },
        {
          "output_type": "stream",
          "text": [
            "/usr/local/lib/python3.7/dist-packages/tensorflow/python/keras/engine/sequential.py:450: UserWarning: `model.predict_classes()` is deprecated and will be removed after 2021-01-01. Please use instead:* `np.argmax(model.predict(x), axis=-1)`,   if your model does multi-class classification   (e.g. if it uses a `softmax` last-layer activation).* `(model.predict(x) > 0.5).astype(\"int32\")`,   if your model does binary classification   (e.g. if it uses a `sigmoid` last-layer activation).\n",
            "  warnings.warn('`model.predict_classes()` is deprecated and '\n"
          ],
          "name": "stderr"
        }
      ]
    },
    {
      "cell_type": "code",
      "metadata": {
        "colab": {
          "base_uri": "https://localhost:8080/"
        },
        "id": "Dk9znEdmRgHo",
        "outputId": "08aa400e-e06a-48a9-b2e8-27d2d036bdf0"
      },
      "source": [
        "from sklearn.metrics import classification_report, confusion_matrix, accuracy_score\n",
        "y_pred=prediction_\n",
        "y_test = np.argmax(y_test,axis=1)\n",
        "\n",
        "result = confusion_matrix(y_test, y_pred)\n",
        "print(\"Confusion Matrix:\")\n",
        "print(result)\n",
        "result1 = classification_report(y_test, y_pred)\n",
        "print(\"Classification Report:\",)\n",
        "print (result1)\n",
        "result2 = accuracy_score(y_test,y_pred)\n",
        "print(\"Accuracy:\",result2)"
      ],
      "execution_count": null,
      "outputs": [
        {
          "output_type": "stream",
          "text": [
            "Confusion Matrix:\n",
            "[[250  31   8  27   2]\n",
            " [ 35 165 109   4   0]\n",
            " [ 11  88 159  35   4]\n",
            " [ 16  29  81 100  36]\n",
            " [  0   0   2  15  16]]\n",
            "Classification Report:\n",
            "              precision    recall  f1-score   support\n",
            "\n",
            "           0       0.80      0.79      0.79       318\n",
            "           1       0.53      0.53      0.53       313\n",
            "           2       0.44      0.54      0.48       297\n",
            "           3       0.55      0.38      0.45       262\n",
            "           4       0.28      0.48      0.35        33\n",
            "\n",
            "    accuracy                           0.56      1223\n",
            "   macro avg       0.52      0.54      0.52      1223\n",
            "weighted avg       0.58      0.56      0.57      1223\n",
            "\n",
            "Accuracy: 0.5641864268192968\n"
          ],
          "name": "stdout"
        }
      ]
    },
    {
      "cell_type": "code",
      "metadata": {
        "colab": {
          "base_uri": "https://localhost:8080/"
        },
        "id": "cureh4vfTTou",
        "outputId": "cc24e75c-875b-472d-fe9d-e0a67a8f0063"
      },
      "source": [
        "y_test2 = np.argmax(y_test,axis=1)\n",
        "y_test2"
      ],
      "execution_count": null,
      "outputs": [
        {
          "output_type": "execute_result",
          "data": {
            "text/plain": [
              "array([0, 0, 0, ..., 0, 1, 3])"
            ]
          },
          "metadata": {
            "tags": []
          },
          "execution_count": 31
        }
      ]
    },
    {
      "cell_type": "code",
      "metadata": {
        "colab": {
          "base_uri": "https://localhost:8080/"
        },
        "id": "s87PZrh8VUcn",
        "outputId": "c2c601a9-3c02-4875-cba1-9b3696a79718"
      },
      "source": [
        "y_test"
      ],
      "execution_count": null,
      "outputs": [
        {
          "output_type": "execute_result",
          "data": {
            "text/plain": [
              "array([[1., 0., 0., 0., 0.],\n",
              "       [1., 0., 0., 0., 0.],\n",
              "       [1., 0., 0., 0., 0.],\n",
              "       ...,\n",
              "       [1., 0., 0., 0., 0.],\n",
              "       [0., 1., 0., 0., 0.],\n",
              "       [0., 0., 0., 1., 0.]], dtype=float32)"
            ]
          },
          "metadata": {
            "tags": []
          },
          "execution_count": 32
        }
      ]
    },
    {
      "cell_type": "code",
      "metadata": {
        "colab": {
          "base_uri": "https://localhost:8080/",
          "height": 232
        },
        "id": "0RfKz4TSYGG7",
        "outputId": "40aecf3f-1c99-4071-989e-c9ad3d410810"
      },
      "source": [
        "df=pd.read_csv( '/content/drive/MyDrive/OPEN IIT/train3.csv')\n",
        "df2=df.iloc[-2400:]\n",
        "df2.head()"
      ],
      "execution_count": null,
      "outputs": [
        {
          "output_type": "execute_result",
          "data": {
            "text/html": [
              "<div>\n",
              "<style scoped>\n",
              "    .dataframe tbody tr th:only-of-type {\n",
              "        vertical-align: middle;\n",
              "    }\n",
              "\n",
              "    .dataframe tbody tr th {\n",
              "        vertical-align: top;\n",
              "    }\n",
              "\n",
              "    .dataframe thead th {\n",
              "        text-align: right;\n",
              "    }\n",
              "</style>\n",
              "<table border=\"1\" class=\"dataframe\">\n",
              "  <thead>\n",
              "    <tr style=\"text-align: right;\">\n",
              "      <th></th>\n",
              "      <th>Unnamed: 0</th>\n",
              "      <th>Unnamed: 0.1</th>\n",
              "      <th>id</th>\n",
              "      <th>acousticness</th>\n",
              "      <th>danceability</th>\n",
              "      <th>energy</th>\n",
              "      <th>explicit</th>\n",
              "      <th>instrumentalness</th>\n",
              "      <th>key</th>\n",
              "      <th>liveness</th>\n",
              "      <th>loudness</th>\n",
              "      <th>mode</th>\n",
              "      <th>release_date</th>\n",
              "      <th>speechiness</th>\n",
              "      <th>tempo</th>\n",
              "      <th>valence</th>\n",
              "      <th>year</th>\n",
              "      <th>duration-min</th>\n",
              "      <th>popularity</th>\n",
              "      <th>mode*tempo</th>\n",
              "      <th>month</th>\n",
              "      <th>month_name</th>\n",
              "      <th>regression_popularity</th>\n",
              "      <th>rp&gt;0</th>\n",
              "      <th>rp&gt;1</th>\n",
              "      <th>rp&gt;2</th>\n",
              "      <th>rp&gt;3</th>\n",
              "      <th>year&gt;=2000</th>\n",
              "      <th>year&lt;=1960</th>\n",
              "      <th>year&lt;=1980</th>\n",
              "      <th>year&lt;=2000</th>\n",
              "      <th>year&lt;=2010</th>\n",
              "      <th>year&lt;=2020</th>\n",
              "    </tr>\n",
              "  </thead>\n",
              "  <tbody>\n",
              "    <tr>\n",
              "      <th>9827</th>\n",
              "      <td>9827</td>\n",
              "      <td>9827</td>\n",
              "      <td>6468</td>\n",
              "      <td>0.930</td>\n",
              "      <td>0.336</td>\n",
              "      <td>0.3450</td>\n",
              "      <td>0</td>\n",
              "      <td>0.00175</td>\n",
              "      <td>2</td>\n",
              "      <td>0.232</td>\n",
              "      <td>-13.359</td>\n",
              "      <td>Major</td>\n",
              "      <td>14-04-1986</td>\n",
              "      <td>0.0296</td>\n",
              "      <td>171.688</td>\n",
              "      <td>0.287</td>\n",
              "      <td>1986</td>\n",
              "      <td>3.4</td>\n",
              "      <td>low</td>\n",
              "      <td>171.688</td>\n",
              "      <td>4</td>\n",
              "      <td>April</td>\n",
              "      <td>1</td>\n",
              "      <td>1</td>\n",
              "      <td>0</td>\n",
              "      <td>0</td>\n",
              "      <td>0</td>\n",
              "      <td>0</td>\n",
              "      <td>0</td>\n",
              "      <td>0</td>\n",
              "      <td>1</td>\n",
              "      <td>0</td>\n",
              "      <td>0</td>\n",
              "    </tr>\n",
              "    <tr>\n",
              "      <th>9828</th>\n",
              "      <td>9828</td>\n",
              "      <td>9828</td>\n",
              "      <td>16182</td>\n",
              "      <td>0.221</td>\n",
              "      <td>0.738</td>\n",
              "      <td>0.1090</td>\n",
              "      <td>1</td>\n",
              "      <td>0.00000</td>\n",
              "      <td>11</td>\n",
              "      <td>0.212</td>\n",
              "      <td>-17.732</td>\n",
              "      <td>Minor</td>\n",
              "      <td>01-01-1935</td>\n",
              "      <td>0.9220</td>\n",
              "      <td>109.556</td>\n",
              "      <td>0.763</td>\n",
              "      <td>1935</td>\n",
              "      <td>2.9</td>\n",
              "      <td>very low</td>\n",
              "      <td>-109.556</td>\n",
              "      <td>1</td>\n",
              "      <td>January</td>\n",
              "      <td>0</td>\n",
              "      <td>0</td>\n",
              "      <td>0</td>\n",
              "      <td>0</td>\n",
              "      <td>0</td>\n",
              "      <td>0</td>\n",
              "      <td>1</td>\n",
              "      <td>0</td>\n",
              "      <td>0</td>\n",
              "      <td>0</td>\n",
              "      <td>0</td>\n",
              "    </tr>\n",
              "    <tr>\n",
              "      <th>9829</th>\n",
              "      <td>9829</td>\n",
              "      <td>9829</td>\n",
              "      <td>450</td>\n",
              "      <td>0.764</td>\n",
              "      <td>0.273</td>\n",
              "      <td>0.2060</td>\n",
              "      <td>0</td>\n",
              "      <td>0.00000</td>\n",
              "      <td>2</td>\n",
              "      <td>0.140</td>\n",
              "      <td>-9.348</td>\n",
              "      <td>Major</td>\n",
              "      <td>01-01-1983</td>\n",
              "      <td>0.0299</td>\n",
              "      <td>173.546</td>\n",
              "      <td>0.128</td>\n",
              "      <td>1983</td>\n",
              "      <td>3.7</td>\n",
              "      <td>low</td>\n",
              "      <td>173.546</td>\n",
              "      <td>1</td>\n",
              "      <td>January</td>\n",
              "      <td>1</td>\n",
              "      <td>1</td>\n",
              "      <td>0</td>\n",
              "      <td>0</td>\n",
              "      <td>0</td>\n",
              "      <td>0</td>\n",
              "      <td>0</td>\n",
              "      <td>0</td>\n",
              "      <td>1</td>\n",
              "      <td>0</td>\n",
              "      <td>0</td>\n",
              "    </tr>\n",
              "    <tr>\n",
              "      <th>9830</th>\n",
              "      <td>9830</td>\n",
              "      <td>9830</td>\n",
              "      <td>3951</td>\n",
              "      <td>0.895</td>\n",
              "      <td>0.262</td>\n",
              "      <td>0.0857</td>\n",
              "      <td>0</td>\n",
              "      <td>0.89600</td>\n",
              "      <td>8</td>\n",
              "      <td>0.153</td>\n",
              "      <td>-21.251</td>\n",
              "      <td>Minor</td>\n",
              "      <td>01-01-1990</td>\n",
              "      <td>0.0433</td>\n",
              "      <td>118.926</td>\n",
              "      <td>0.049</td>\n",
              "      <td>1990</td>\n",
              "      <td>2.0</td>\n",
              "      <td>average</td>\n",
              "      <td>-118.926</td>\n",
              "      <td>1</td>\n",
              "      <td>January</td>\n",
              "      <td>2</td>\n",
              "      <td>1</td>\n",
              "      <td>1</td>\n",
              "      <td>0</td>\n",
              "      <td>0</td>\n",
              "      <td>0</td>\n",
              "      <td>0</td>\n",
              "      <td>0</td>\n",
              "      <td>1</td>\n",
              "      <td>0</td>\n",
              "      <td>0</td>\n",
              "    </tr>\n",
              "    <tr>\n",
              "      <th>9831</th>\n",
              "      <td>9831</td>\n",
              "      <td>9831</td>\n",
              "      <td>13620</td>\n",
              "      <td>0.478</td>\n",
              "      <td>0.826</td>\n",
              "      <td>0.8230</td>\n",
              "      <td>0</td>\n",
              "      <td>0.00177</td>\n",
              "      <td>6</td>\n",
              "      <td>0.161</td>\n",
              "      <td>-5.816</td>\n",
              "      <td>Major</td>\n",
              "      <td>31-12-2005</td>\n",
              "      <td>0.1150</td>\n",
              "      <td>110.043</td>\n",
              "      <td>0.931</td>\n",
              "      <td>2005</td>\n",
              "      <td>5.6</td>\n",
              "      <td>very low</td>\n",
              "      <td>110.043</td>\n",
              "      <td>12</td>\n",
              "      <td>December</td>\n",
              "      <td>0</td>\n",
              "      <td>0</td>\n",
              "      <td>0</td>\n",
              "      <td>0</td>\n",
              "      <td>0</td>\n",
              "      <td>1</td>\n",
              "      <td>0</td>\n",
              "      <td>0</td>\n",
              "      <td>0</td>\n",
              "      <td>1</td>\n",
              "      <td>0</td>\n",
              "    </tr>\n",
              "  </tbody>\n",
              "</table>\n",
              "</div>"
            ],
            "text/plain": [
              "      Unnamed: 0  Unnamed: 0.1     id  ...  year<=2000  year<=2010  year<=2020\n",
              "9827        9827          9827   6468  ...           1           0           0\n",
              "9828        9828          9828  16182  ...           0           0           0\n",
              "9829        9829          9829    450  ...           1           0           0\n",
              "9830        9830          9830   3951  ...           1           0           0\n",
              "9831        9831          9831  13620  ...           0           1           0\n",
              "\n",
              "[5 rows x 33 columns]"
            ]
          },
          "metadata": {
            "tags": []
          },
          "execution_count": 21
        }
      ]
    },
    {
      "cell_type": "code",
      "metadata": {
        "colab": {
          "base_uri": "https://localhost:8080/"
        },
        "id": "-AsQ0RinY8Yz",
        "outputId": "e6ea1adf-16de-406c-9954-2568a05cb355"
      },
      "source": [
        "len(df2[df2['rp>3'] == 1])"
      ],
      "execution_count": null,
      "outputs": [
        {
          "output_type": "execute_result",
          "data": {
            "text/plain": [
              "68"
            ]
          },
          "metadata": {
            "tags": []
          },
          "execution_count": 22
        }
      ]
    },
    {
      "cell_type": "code",
      "metadata": {
        "colab": {
          "base_uri": "https://localhost:8080/"
        },
        "id": "a7xJSJYQZr9w",
        "outputId": "8edfb8e1-edca-4ee3-9b8e-706c4041743d"
      },
      "source": [
        "df2.shape"
      ],
      "execution_count": null,
      "outputs": [
        {
          "output_type": "execute_result",
          "data": {
            "text/plain": [
              "(2400, 33)"
            ]
          },
          "metadata": {
            "tags": []
          },
          "execution_count": 14
        }
      ]
    },
    {
      "cell_type": "code",
      "metadata": {
        "id": "I9kLVNX_ZILU"
      },
      "source": [
        "df=df.head(len(df)-2400)"
      ],
      "execution_count": null,
      "outputs": []
    },
    {
      "cell_type": "code",
      "metadata": {
        "colab": {
          "base_uri": "https://localhost:8080/"
        },
        "id": "R6xsN7MWZXAw",
        "outputId": "689d2806-b04b-48ed-9b10-bc1adcab2729"
      },
      "source": [
        "df.shape"
      ],
      "execution_count": null,
      "outputs": [
        {
          "output_type": "execute_result",
          "data": {
            "text/plain": [
              "(9827, 33)"
            ]
          },
          "metadata": {
            "tags": []
          },
          "execution_count": 24
        }
      ]
    },
    {
      "cell_type": "code",
      "metadata": {
        "id": "8WKR5ZVkWDEg"
      },
      "source": [
        "from sklearn.model_selection import train_test_split\n",
        "X=df[[ 'energy' ,'danceability',\n",
        "       'explicit', 'instrumentalness','liveness',\n",
        "       'speechiness', 'tempo', 'valence',\n",
        "       'duration-min', 'year<=1960', 'year<=1980', 'year<=2000', 'year<=2010',\n",
        "       'year<=2020']]\n",
        "y=df['regression_popularity']\n"
      ],
      "execution_count": null,
      "outputs": []
    },
    {
      "cell_type": "code",
      "metadata": {
        "colab": {
          "base_uri": "https://localhost:8080/"
        },
        "id": "Mkqp9xDYXYl1",
        "outputId": "5e6161f7-20bf-4ce0-bb08-0bc4587a5bd1"
      },
      "source": [
        "from imblearn.over_sampling import SMOTE\n",
        "from sklearn.preprocessing import StandardScaler\n",
        "oversample = SMOTE()\n",
        "\n",
        "X=df[[ 'loudness', 'danceability',\n",
        "       'explicit', 'instrumentalness',\n",
        "       'speechiness', \n",
        "       'duration-min', 'year>=2000','year<=2020' ,'year<=2010',\n",
        "       ]]\n",
        "\n",
        "y=df['rp>3']\n",
        "sc_1=StandardScaler()\n",
        "sc_1.fit(X)\n",
        "X=pd.DataFrame(sc_1.fit_transform(X)) \n",
        "\n",
        "X ,y = oversample.fit_resample(X,y)\n",
        " \n",
        "\n",
        "from sklearn.model_selection import train_test_split\n",
        "from sklearn.ensemble import RandomForestClassifier\n",
        "from sklearn.svm import SVC\n",
        "clf = RandomForestClassifier( n_estimators=1000,max_depth=10,random_state=1,class_weight='balanced')\n",
        " \n",
        "clf.fit(X, y)\n"
      ],
      "execution_count": null,
      "outputs": [
        {
          "output_type": "stream",
          "text": [
            "/usr/local/lib/python3.7/dist-packages/sklearn/utils/deprecation.py:87: FutureWarning: Function safe_indexing is deprecated; safe_indexing is deprecated in version 0.22 and will be removed in version 0.24.\n",
            "  warnings.warn(msg, category=FutureWarning)\n"
          ],
          "name": "stderr"
        },
        {
          "output_type": "execute_result",
          "data": {
            "text/plain": [
              "RandomForestClassifier(bootstrap=True, ccp_alpha=0.0, class_weight='balanced',\n",
              "                       criterion='gini', max_depth=10, max_features='auto',\n",
              "                       max_leaf_nodes=None, max_samples=None,\n",
              "                       min_impurity_decrease=0.0, min_impurity_split=None,\n",
              "                       min_samples_leaf=1, min_samples_split=2,\n",
              "                       min_weight_fraction_leaf=0.0, n_estimators=1000,\n",
              "                       n_jobs=None, oob_score=False, random_state=1, verbose=0,\n",
              "                       warm_start=False)"
            ]
          },
          "metadata": {
            "tags": []
          },
          "execution_count": 30
        }
      ]
    },
    {
      "cell_type": "code",
      "metadata": {
        "colab": {
          "base_uri": "https://localhost:8080/"
        },
        "id": "Zl1HRNW0ahCx",
        "outputId": "ebd2d1f3-ee6a-4d60-bf18-a529b39ea008"
      },
      "source": [
        "X_test=df2[[ 'loudness', 'danceability',\n",
        "       'explicit', 'instrumentalness',\n",
        "       'speechiness', \n",
        "       'duration-min','year>=2000', 'year<=2020' ,'year<=2010',\n",
        "       ]]\n",
        "y_test=df2['rp>3']\n",
        "sc_1.fit(X_test)\n",
        "X_test=pd.DataFrame(sc_1.fit_transform(X_test)) \n",
        "y_pred1=clf.predict(X_test)\n",
        "from sklearn.metrics import classification_report, confusion_matrix, accuracy_score\n",
        "result = confusion_matrix(y_test, y_pred1)\n",
        "print(\"Confusion Matrix:\")\n",
        "print(result)\n",
        "result1 = classification_report(y_test, y_pred1)\n",
        "print(\"Classification Report:\",)\n",
        "print (result1)\n",
        "result2 = accuracy_score(y_test,y_pred1)\n",
        "print(\"Accuracy:\",result2)"
      ],
      "execution_count": null,
      "outputs": [
        {
          "output_type": "stream",
          "text": [
            "Confusion Matrix:\n",
            "[[2082  250]\n",
            " [  21   47]]\n",
            "Classification Report:\n",
            "              precision    recall  f1-score   support\n",
            "\n",
            "           0       0.99      0.89      0.94      2332\n",
            "           1       0.16      0.69      0.26        68\n",
            "\n",
            "    accuracy                           0.89      2400\n",
            "   macro avg       0.57      0.79      0.60      2400\n",
            "weighted avg       0.97      0.89      0.92      2400\n",
            "\n",
            "Accuracy: 0.8870833333333333\n"
          ],
          "name": "stdout"
        }
      ]
    },
    {
      "cell_type": "code",
      "metadata": {
        "colab": {
          "base_uri": "https://localhost:8080/"
        },
        "id": "2_HeUX56byEA",
        "outputId": "401fded3-2a26-4f89-a18d-29ff5c3baead"
      },
      "source": [
        "from imblearn.over_sampling import SMOTE\n",
        "from sklearn.preprocessing import StandardScaler\n",
        "oversample = SMOTE()\n",
        "\n",
        "X=df[[ 'energy' ,'danceability',\n",
        "       'explicit', 'instrumentalness','liveness',\n",
        "       'speechiness', 'tempo', 'valence',\n",
        "       'duration-min', 'year<=1960', 'year<=1980', 'year<=2000', 'year<=2010',\n",
        "       'year<=2020']]\n",
        "y=df['rp>2']\n",
        "sc_1=StandardScaler()\n",
        "sc_1.fit(X)\n",
        "X=pd.DataFrame(sc_1.fit_transform(X)) \n",
        "\n",
        "X ,y = oversample.fit_resample(X,y)\n",
        " \n",
        "\n",
        "from sklearn.model_selection import train_test_split\n",
        "from sklearn.ensemble import RandomForestClassifier\n",
        "from sklearn.svm import SVC\n",
        "clf = RandomForestClassifier( n_estimators=1000,max_depth=10,random_state=1,class_weight='balanced_subsample')\n",
        " \n",
        "clf.fit(X, y)\n"
      ],
      "execution_count": null,
      "outputs": [
        {
          "output_type": "stream",
          "text": [
            "/usr/local/lib/python3.7/dist-packages/sklearn/utils/deprecation.py:87: FutureWarning: Function safe_indexing is deprecated; safe_indexing is deprecated in version 0.22 and will be removed in version 0.24.\n",
            "  warnings.warn(msg, category=FutureWarning)\n"
          ],
          "name": "stderr"
        },
        {
          "output_type": "execute_result",
          "data": {
            "text/plain": [
              "RandomForestClassifier(bootstrap=True, ccp_alpha=0.0,\n",
              "                       class_weight='balanced_subsample', criterion='gini',\n",
              "                       max_depth=10, max_features='auto', max_leaf_nodes=None,\n",
              "                       max_samples=None, min_impurity_decrease=0.0,\n",
              "                       min_impurity_split=None, min_samples_leaf=1,\n",
              "                       min_samples_split=2, min_weight_fraction_leaf=0.0,\n",
              "                       n_estimators=1000, n_jobs=None, oob_score=False,\n",
              "                       random_state=1, verbose=0, warm_start=False)"
            ]
          },
          "metadata": {
            "tags": []
          },
          "execution_count": 33
        }
      ]
    },
    {
      "cell_type": "code",
      "metadata": {
        "colab": {
          "base_uri": "https://localhost:8080/"
        },
        "id": "1Pm4U0o_b4Sn",
        "outputId": "dbdd952b-b396-494e-c51b-6f16e89e9558"
      },
      "source": [
        "X_test=df2[[ 'energy' ,'danceability',\n",
        "       'explicit', 'instrumentalness','liveness',\n",
        "       'speechiness', 'tempo', 'valence',\n",
        "       'duration-min', 'year<=1960', 'year<=1980', 'year<=2000', 'year<=2010',\n",
        "       'year<=2020']]\n",
        "y_test=df2['rp>2']\n",
        "sc_1.fit(X_test)\n",
        "X_test=pd.DataFrame(sc_1.fit_transform(X_test)) \n",
        "y_pred2=clf.predict(X_test)\n",
        "from sklearn.metrics import classification_report, confusion_matrix, accuracy_score\n",
        "result = confusion_matrix(y_test, y_pred2)\n",
        "print(\"Confusion Matrix:\")\n",
        "print(result)\n",
        "result1 = classification_report(y_test, y_pred2)\n",
        "print(\"Classification Report:\",)\n",
        "print (result1)\n",
        "result2 = accuracy_score(y_test,y_pred2)\n",
        "print(\"Accuracy:\",result2)"
      ],
      "execution_count": null,
      "outputs": [
        {
          "output_type": "stream",
          "text": [
            "Confusion Matrix:\n",
            "[[1565  236]\n",
            " [ 161  438]]\n",
            "Classification Report:\n",
            "              precision    recall  f1-score   support\n",
            "\n",
            "           0       0.91      0.87      0.89      1801\n",
            "           1       0.65      0.73      0.69       599\n",
            "\n",
            "    accuracy                           0.83      2400\n",
            "   macro avg       0.78      0.80      0.79      2400\n",
            "weighted avg       0.84      0.83      0.84      2400\n",
            "\n",
            "Accuracy: 0.8345833333333333\n"
          ],
          "name": "stdout"
        }
      ]
    },
    {
      "cell_type": "code",
      "metadata": {
        "colab": {
          "base_uri": "https://localhost:8080/"
        },
        "id": "wot0sVzRd1rM",
        "outputId": "b9d709ba-7a79-41ae-df45-aa15e60012d9"
      },
      "source": [
        "from imblearn.over_sampling import SMOTE\n",
        "from sklearn.preprocessing import StandardScaler\n",
        "\n",
        "\n",
        "X=df[[ 'energy' ,'danceability',\n",
        "       'explicit', 'instrumentalness','liveness',\n",
        "       'speechiness', 'tempo', \n",
        "       'duration-min', 'year<=1960',  'year<=2000', 'year<=2010',\n",
        "       'year<=2020']]\n",
        "y=df['rp>1']\n",
        "sc_1=StandardScaler()\n",
        "sc_1.fit(X)\n",
        "X=pd.DataFrame(sc_1.fit_transform(X)) \n",
        "\n",
        "\n",
        " \n",
        "\n",
        "from sklearn.model_selection import train_test_split\n",
        "from sklearn.ensemble import RandomForestClassifier\n",
        "from sklearn.svm import SVC\n",
        "clf = RandomForestClassifier( n_estimators=1000,random_state=1,class_weight='balanced_subsample')\n",
        " \n",
        "clf.fit(X, y)\n"
      ],
      "execution_count": null,
      "outputs": [
        {
          "output_type": "execute_result",
          "data": {
            "text/plain": [
              "RandomForestClassifier(bootstrap=True, ccp_alpha=0.0,\n",
              "                       class_weight='balanced_subsample', criterion='gini',\n",
              "                       max_depth=None, max_features='auto', max_leaf_nodes=None,\n",
              "                       max_samples=None, min_impurity_decrease=0.0,\n",
              "                       min_impurity_split=None, min_samples_leaf=1,\n",
              "                       min_samples_split=2, min_weight_fraction_leaf=0.0,\n",
              "                       n_estimators=1000, n_jobs=None, oob_score=False,\n",
              "                       random_state=1, verbose=0, warm_start=False)"
            ]
          },
          "metadata": {
            "tags": []
          },
          "execution_count": 40
        }
      ]
    },
    {
      "cell_type": "code",
      "metadata": {
        "colab": {
          "base_uri": "https://localhost:8080/"
        },
        "id": "EbiEmV4Td74g",
        "outputId": "21fb147e-79c2-464b-f09c-80f16da18199"
      },
      "source": [
        "X_test=df2[[ 'energy' ,'danceability',\n",
        "       'explicit', 'instrumentalness','liveness',\n",
        "       'speechiness', 'tempo', \n",
        "       'duration-min', 'year<=1960', 'year<=2000', 'year<=2010',\n",
        "       'year<=2020']]\n",
        "y_test=df2['rp>1']\n",
        "sc_1.fit(X_test)\n",
        "X_test=pd.DataFrame(sc_1.fit_transform(X_test)) \n",
        "y_pred3=clf.predict(X_test)\n",
        "from sklearn.metrics import classification_report, confusion_matrix, accuracy_score\n",
        "result = confusion_matrix(y_test, y_pred3)\n",
        "print(\"Confusion Matrix:\")\n",
        "print(result)\n",
        "result1 = classification_report(y_test, y_pred3)\n",
        "print(\"Classification Report:\",)\n",
        "print (result1)\n",
        "result2 = accuracy_score(y_test,y_pred3)\n",
        "print(\"Accuracy:\",result2)"
      ],
      "execution_count": null,
      "outputs": [
        {
          "output_type": "stream",
          "text": [
            "Confusion Matrix:\n",
            "[[973 271]\n",
            " [252 904]]\n",
            "Classification Report:\n",
            "              precision    recall  f1-score   support\n",
            "\n",
            "           0       0.79      0.78      0.79      1244\n",
            "           1       0.77      0.78      0.78      1156\n",
            "\n",
            "    accuracy                           0.78      2400\n",
            "   macro avg       0.78      0.78      0.78      2400\n",
            "weighted avg       0.78      0.78      0.78      2400\n",
            "\n",
            "Accuracy: 0.7820833333333334\n"
          ],
          "name": "stdout"
        }
      ]
    },
    {
      "cell_type": "code",
      "metadata": {
        "colab": {
          "base_uri": "https://localhost:8080/"
        },
        "id": "Lx-urr-DfHnQ",
        "outputId": "3f348f80-d473-457f-9c7b-cd9378a307e3"
      },
      "source": [
        "from imblearn.over_sampling import SMOTE\n",
        "from sklearn.preprocessing import StandardScaler\n",
        "\n",
        "\n",
        "X=df[[ 'energy' ,'danceability',\n",
        "       'explicit', 'instrumentalness','liveness',\n",
        "       'speechiness', 'tempo', \n",
        "       'duration-min', 'year<=1960', 'year<=1980', 'year<=2000', 'year<=2010',\n",
        "       'year<=2020']]\n",
        "y=df['rp>0']\n",
        "sc_1=StandardScaler()\n",
        "sc_1.fit(X)\n",
        "X=pd.DataFrame(sc_1.fit_transform(X)) \n",
        "\n",
        "\n",
        " \n",
        "\n",
        "from sklearn.model_selection import train_test_split\n",
        "from sklearn.ensemble import RandomForestClassifier\n",
        "from sklearn.svm import SVC\n",
        "clf = RandomForestClassifier( n_estimators=1000,random_state=1,class_weight='balanced_subsample')\n",
        " \n",
        "clf.fit(X, y)\n"
      ],
      "execution_count": null,
      "outputs": [
        {
          "output_type": "execute_result",
          "data": {
            "text/plain": [
              "RandomForestClassifier(bootstrap=True, ccp_alpha=0.0,\n",
              "                       class_weight='balanced_subsample', criterion='gini',\n",
              "                       max_depth=None, max_features='auto', max_leaf_nodes=None,\n",
              "                       max_samples=None, min_impurity_decrease=0.0,\n",
              "                       min_impurity_split=None, min_samples_leaf=1,\n",
              "                       min_samples_split=2, min_weight_fraction_leaf=0.0,\n",
              "                       n_estimators=1000, n_jobs=None, oob_score=False,\n",
              "                       random_state=1, verbose=0, warm_start=False)"
            ]
          },
          "metadata": {
            "tags": []
          },
          "execution_count": 42
        }
      ]
    },
    {
      "cell_type": "code",
      "metadata": {
        "colab": {
          "base_uri": "https://localhost:8080/"
        },
        "id": "-unFUfS5fLVy",
        "outputId": "52f97683-5a87-4d36-d65c-7ca9462fa018"
      },
      "source": [
        "X_test=df2[[ 'energy' ,'danceability',\n",
        "       'explicit', 'instrumentalness','liveness',\n",
        "       'speechiness', 'tempo', \n",
        "       'duration-min', 'year<=1960','year<=1980', 'year<=2000', 'year<=2010',\n",
        "       'year<=2020']]\n",
        "y_test=df2['rp>0']\n",
        "sc_1.fit(X_test)\n",
        "X_test=pd.DataFrame(sc_1.fit_transform(X_test)) \n",
        "y_pred4=clf.predict(X_test)\n",
        "from sklearn.metrics import classification_report, confusion_matrix, accuracy_score\n",
        "result = confusion_matrix(y_test, y_pred4)\n",
        "print(\"Confusion Matrix:\")\n",
        "print(result)\n",
        "result1 = classification_report(y_test, y_pred4)\n",
        "print(\"Classification Report:\",)\n",
        "print (result1)\n",
        "result2 = accuracy_score(y_test,y_pred4)\n",
        "print(\"Accuracy:\",result2)"
      ],
      "execution_count": null,
      "outputs": [
        {
          "output_type": "stream",
          "text": [
            "Confusion Matrix:\n",
            "[[ 467  166]\n",
            " [  76 1691]]\n",
            "Classification Report:\n",
            "              precision    recall  f1-score   support\n",
            "\n",
            "           0       0.86      0.74      0.79       633\n",
            "           1       0.91      0.96      0.93      1767\n",
            "\n",
            "    accuracy                           0.90      2400\n",
            "   macro avg       0.89      0.85      0.86      2400\n",
            "weighted avg       0.90      0.90      0.90      2400\n",
            "\n",
            "Accuracy: 0.8991666666666667\n"
          ],
          "name": "stdout"
        }
      ]
    },
    {
      "cell_type": "code",
      "metadata": {
        "id": "WLRKmCPOfmB5"
      },
      "source": [
        "y_pred_final=[]\n",
        "for i in range (2400):\n",
        "  if (y_pred1[i]==1):\n",
        "    y_pred_final.append(4)\n",
        "  elif (y_pred2[i]==1):\n",
        "    y_pred_final.append(3)\n",
        "  elif  (y_pred3[i]==1):\n",
        "    y_pred_final.append(2)\n",
        "  elif (y_pred4[i]==1):\n",
        "    y_pred_final.append(1)\n",
        "  else:\n",
        "    y_pred_final.append(0)\n",
        "\n",
        "  \n",
        "\n",
        "\n"
      ],
      "execution_count": null,
      "outputs": []
    },
    {
      "cell_type": "code",
      "metadata": {
        "colab": {
          "base_uri": "https://localhost:8080/",
          "height": 232
        },
        "id": "s6VId8x-gsBk",
        "outputId": "556469f4-3f5f-46c3-bf15-6937edf7010f"
      },
      "source": [
        "df2.head()"
      ],
      "execution_count": null,
      "outputs": [
        {
          "output_type": "execute_result",
          "data": {
            "text/html": [
              "<div>\n",
              "<style scoped>\n",
              "    .dataframe tbody tr th:only-of-type {\n",
              "        vertical-align: middle;\n",
              "    }\n",
              "\n",
              "    .dataframe tbody tr th {\n",
              "        vertical-align: top;\n",
              "    }\n",
              "\n",
              "    .dataframe thead th {\n",
              "        text-align: right;\n",
              "    }\n",
              "</style>\n",
              "<table border=\"1\" class=\"dataframe\">\n",
              "  <thead>\n",
              "    <tr style=\"text-align: right;\">\n",
              "      <th></th>\n",
              "      <th>Unnamed: 0</th>\n",
              "      <th>Unnamed: 0.1</th>\n",
              "      <th>id</th>\n",
              "      <th>acousticness</th>\n",
              "      <th>danceability</th>\n",
              "      <th>energy</th>\n",
              "      <th>explicit</th>\n",
              "      <th>instrumentalness</th>\n",
              "      <th>key</th>\n",
              "      <th>liveness</th>\n",
              "      <th>loudness</th>\n",
              "      <th>mode</th>\n",
              "      <th>release_date</th>\n",
              "      <th>speechiness</th>\n",
              "      <th>tempo</th>\n",
              "      <th>valence</th>\n",
              "      <th>year</th>\n",
              "      <th>duration-min</th>\n",
              "      <th>popularity</th>\n",
              "      <th>mode*tempo</th>\n",
              "      <th>month</th>\n",
              "      <th>month_name</th>\n",
              "      <th>regression_popularity</th>\n",
              "      <th>rp&gt;0</th>\n",
              "      <th>rp&gt;1</th>\n",
              "      <th>rp&gt;2</th>\n",
              "      <th>rp&gt;3</th>\n",
              "      <th>year&gt;=2000</th>\n",
              "      <th>year&lt;=1960</th>\n",
              "      <th>year&lt;=1980</th>\n",
              "      <th>year&lt;=2000</th>\n",
              "      <th>year&lt;=2010</th>\n",
              "      <th>year&lt;=2020</th>\n",
              "    </tr>\n",
              "  </thead>\n",
              "  <tbody>\n",
              "    <tr>\n",
              "      <th>9827</th>\n",
              "      <td>9827</td>\n",
              "      <td>9827</td>\n",
              "      <td>6468</td>\n",
              "      <td>0.930</td>\n",
              "      <td>0.336</td>\n",
              "      <td>0.3450</td>\n",
              "      <td>0</td>\n",
              "      <td>0.00175</td>\n",
              "      <td>2</td>\n",
              "      <td>0.232</td>\n",
              "      <td>-13.359</td>\n",
              "      <td>Major</td>\n",
              "      <td>14-04-1986</td>\n",
              "      <td>0.0296</td>\n",
              "      <td>171.688</td>\n",
              "      <td>0.287</td>\n",
              "      <td>1986</td>\n",
              "      <td>3.4</td>\n",
              "      <td>low</td>\n",
              "      <td>171.688</td>\n",
              "      <td>4</td>\n",
              "      <td>April</td>\n",
              "      <td>1</td>\n",
              "      <td>1</td>\n",
              "      <td>0</td>\n",
              "      <td>0</td>\n",
              "      <td>0</td>\n",
              "      <td>0</td>\n",
              "      <td>0</td>\n",
              "      <td>0</td>\n",
              "      <td>1</td>\n",
              "      <td>0</td>\n",
              "      <td>0</td>\n",
              "    </tr>\n",
              "    <tr>\n",
              "      <th>9828</th>\n",
              "      <td>9828</td>\n",
              "      <td>9828</td>\n",
              "      <td>16182</td>\n",
              "      <td>0.221</td>\n",
              "      <td>0.738</td>\n",
              "      <td>0.1090</td>\n",
              "      <td>1</td>\n",
              "      <td>0.00000</td>\n",
              "      <td>11</td>\n",
              "      <td>0.212</td>\n",
              "      <td>-17.732</td>\n",
              "      <td>Minor</td>\n",
              "      <td>01-01-1935</td>\n",
              "      <td>0.9220</td>\n",
              "      <td>109.556</td>\n",
              "      <td>0.763</td>\n",
              "      <td>1935</td>\n",
              "      <td>2.9</td>\n",
              "      <td>very low</td>\n",
              "      <td>-109.556</td>\n",
              "      <td>1</td>\n",
              "      <td>January</td>\n",
              "      <td>0</td>\n",
              "      <td>0</td>\n",
              "      <td>0</td>\n",
              "      <td>0</td>\n",
              "      <td>0</td>\n",
              "      <td>0</td>\n",
              "      <td>1</td>\n",
              "      <td>0</td>\n",
              "      <td>0</td>\n",
              "      <td>0</td>\n",
              "      <td>0</td>\n",
              "    </tr>\n",
              "    <tr>\n",
              "      <th>9829</th>\n",
              "      <td>9829</td>\n",
              "      <td>9829</td>\n",
              "      <td>450</td>\n",
              "      <td>0.764</td>\n",
              "      <td>0.273</td>\n",
              "      <td>0.2060</td>\n",
              "      <td>0</td>\n",
              "      <td>0.00000</td>\n",
              "      <td>2</td>\n",
              "      <td>0.140</td>\n",
              "      <td>-9.348</td>\n",
              "      <td>Major</td>\n",
              "      <td>01-01-1983</td>\n",
              "      <td>0.0299</td>\n",
              "      <td>173.546</td>\n",
              "      <td>0.128</td>\n",
              "      <td>1983</td>\n",
              "      <td>3.7</td>\n",
              "      <td>low</td>\n",
              "      <td>173.546</td>\n",
              "      <td>1</td>\n",
              "      <td>January</td>\n",
              "      <td>1</td>\n",
              "      <td>1</td>\n",
              "      <td>0</td>\n",
              "      <td>0</td>\n",
              "      <td>0</td>\n",
              "      <td>0</td>\n",
              "      <td>0</td>\n",
              "      <td>0</td>\n",
              "      <td>1</td>\n",
              "      <td>0</td>\n",
              "      <td>0</td>\n",
              "    </tr>\n",
              "    <tr>\n",
              "      <th>9830</th>\n",
              "      <td>9830</td>\n",
              "      <td>9830</td>\n",
              "      <td>3951</td>\n",
              "      <td>0.895</td>\n",
              "      <td>0.262</td>\n",
              "      <td>0.0857</td>\n",
              "      <td>0</td>\n",
              "      <td>0.89600</td>\n",
              "      <td>8</td>\n",
              "      <td>0.153</td>\n",
              "      <td>-21.251</td>\n",
              "      <td>Minor</td>\n",
              "      <td>01-01-1990</td>\n",
              "      <td>0.0433</td>\n",
              "      <td>118.926</td>\n",
              "      <td>0.049</td>\n",
              "      <td>1990</td>\n",
              "      <td>2.0</td>\n",
              "      <td>average</td>\n",
              "      <td>-118.926</td>\n",
              "      <td>1</td>\n",
              "      <td>January</td>\n",
              "      <td>2</td>\n",
              "      <td>1</td>\n",
              "      <td>1</td>\n",
              "      <td>0</td>\n",
              "      <td>0</td>\n",
              "      <td>0</td>\n",
              "      <td>0</td>\n",
              "      <td>0</td>\n",
              "      <td>1</td>\n",
              "      <td>0</td>\n",
              "      <td>0</td>\n",
              "    </tr>\n",
              "    <tr>\n",
              "      <th>9831</th>\n",
              "      <td>9831</td>\n",
              "      <td>9831</td>\n",
              "      <td>13620</td>\n",
              "      <td>0.478</td>\n",
              "      <td>0.826</td>\n",
              "      <td>0.8230</td>\n",
              "      <td>0</td>\n",
              "      <td>0.00177</td>\n",
              "      <td>6</td>\n",
              "      <td>0.161</td>\n",
              "      <td>-5.816</td>\n",
              "      <td>Major</td>\n",
              "      <td>31-12-2005</td>\n",
              "      <td>0.1150</td>\n",
              "      <td>110.043</td>\n",
              "      <td>0.931</td>\n",
              "      <td>2005</td>\n",
              "      <td>5.6</td>\n",
              "      <td>very low</td>\n",
              "      <td>110.043</td>\n",
              "      <td>12</td>\n",
              "      <td>December</td>\n",
              "      <td>0</td>\n",
              "      <td>0</td>\n",
              "      <td>0</td>\n",
              "      <td>0</td>\n",
              "      <td>0</td>\n",
              "      <td>1</td>\n",
              "      <td>0</td>\n",
              "      <td>0</td>\n",
              "      <td>0</td>\n",
              "      <td>1</td>\n",
              "      <td>0</td>\n",
              "    </tr>\n",
              "  </tbody>\n",
              "</table>\n",
              "</div>"
            ],
            "text/plain": [
              "      Unnamed: 0  Unnamed: 0.1     id  ...  year<=2000  year<=2010  year<=2020\n",
              "9827        9827          9827   6468  ...           1           0           0\n",
              "9828        9828          9828  16182  ...           0           0           0\n",
              "9829        9829          9829    450  ...           1           0           0\n",
              "9830        9830          9830   3951  ...           1           0           0\n",
              "9831        9831          9831  13620  ...           0           1           0\n",
              "\n",
              "[5 rows x 33 columns]"
            ]
          },
          "metadata": {
            "tags": []
          },
          "execution_count": 47
        }
      ]
    },
    {
      "cell_type": "code",
      "metadata": {
        "colab": {
          "base_uri": "https://localhost:8080/"
        },
        "id": "-GKz0WXigvcz",
        "outputId": "e105693c-753e-4d60-8ac6-0c19d7a519a0"
      },
      "source": [
        "y_test=df2['regression_popularity']\n",
        "result = confusion_matrix(y_test, y_pred_final)\n",
        "print(\"Confusion Matrix:\")\n",
        "print(result)\n",
        "result1 = classification_report(y_test, y_pred_final)\n",
        "print(\"Classification Report:\",)\n",
        "print (result1)\n",
        "result2 = accuracy_score(y_test,y_pred_final)\n",
        "print(\"Accuracy:\",result2)"
      ],
      "execution_count": null,
      "outputs": [
        {
          "output_type": "stream",
          "text": [
            "Confusion Matrix:\n",
            "[[461  90  15  42  25]\n",
            " [ 53 348 189  16   5]\n",
            " [ 12 168 229 120  28]\n",
            " [  6  51 100 182 192]\n",
            " [  1   0   3  17  47]]\n",
            "Classification Report:\n",
            "              precision    recall  f1-score   support\n",
            "\n",
            "           0       0.86      0.73      0.79       633\n",
            "           1       0.53      0.57      0.55       611\n",
            "           2       0.43      0.41      0.42       557\n",
            "           3       0.48      0.34      0.40       531\n",
            "           4       0.16      0.69      0.26        68\n",
            "\n",
            "    accuracy                           0.53      2400\n",
            "   macro avg       0.49      0.55      0.48      2400\n",
            "weighted avg       0.57      0.53      0.54      2400\n",
            "\n",
            "Accuracy: 0.5279166666666667\n"
          ],
          "name": "stdout"
        }
      ]
    },
    {
      "cell_type": "code",
      "metadata": {
        "colab": {
          "base_uri": "https://localhost:8080/"
        },
        "id": "p5TDNHGRhXly",
        "outputId": "93cb82ba-7917-4f1a-e215-11a9cdb70993"
      },
      "source": [
        "y_pred1"
      ],
      "execution_count": null,
      "outputs": [
        {
          "output_type": "execute_result",
          "data": {
            "text/plain": [
              "array([0, 0, 0, ..., 0, 0, 1])"
            ]
          },
          "metadata": {
            "tags": []
          },
          "execution_count": 50
        }
      ]
    },
    {
      "cell_type": "code",
      "metadata": {
        "colab": {
          "base_uri": "https://localhost:8080/"
        },
        "id": "B4rqBqExhiHx",
        "outputId": "a432d3dd-5194-4cce-d768-5c82a679920b"
      },
      "source": [
        "y_pred2"
      ],
      "execution_count": null,
      "outputs": [
        {
          "output_type": "execute_result",
          "data": {
            "text/plain": [
              "array([0, 0, 0, ..., 0, 1, 1])"
            ]
          },
          "metadata": {
            "tags": []
          },
          "execution_count": 51
        }
      ]
    },
    {
      "cell_type": "code",
      "metadata": {
        "colab": {
          "base_uri": "https://localhost:8080/"
        },
        "id": "paGYpKMehkVJ",
        "outputId": "fe158353-5af4-48ba-be72-b8ff1a9926db"
      },
      "source": [
        "y_pred3"
      ],
      "execution_count": null,
      "outputs": [
        {
          "output_type": "execute_result",
          "data": {
            "text/plain": [
              "array([1, 0, 1, ..., 0, 1, 1])"
            ]
          },
          "metadata": {
            "tags": []
          },
          "execution_count": 52
        }
      ]
    },
    {
      "cell_type": "code",
      "metadata": {
        "colab": {
          "base_uri": "https://localhost:8080/"
        },
        "id": "govkd1eBhoRt",
        "outputId": "e048ae3d-1125-4ac7-a080-225376335552"
      },
      "source": [
        "y_pred4"
      ],
      "execution_count": null,
      "outputs": [
        {
          "output_type": "execute_result",
          "data": {
            "text/plain": [
              "array([1, 0, 1, ..., 1, 1, 1])"
            ]
          },
          "metadata": {
            "tags": []
          },
          "execution_count": 53
        }
      ]
    },
    {
      "cell_type": "code",
      "metadata": {
        "id": "zV_BnamVjYfF"
      },
      "source": [
        "from sklearn.base import clone\n",
        "\n",
        "\n",
        "class OrdinalClassifier():\n",
        "    \n",
        "    def __init__(self, clf):\n",
        "        self.clf = clf\n",
        "        self.clfs = {}\n",
        "    \n",
        "    def fit(self, X, y):\n",
        "        self.unique_class = np.sort(np.unique(y))\n",
        "        if self.unique_class.shape[0] > 2:\n",
        "            for i in range(self.unique_class.shape[0]-1):\n",
        "                # for each k - 1 ordinal value we fit a binary classification problem\n",
        "                binary_y = (y > self.unique_class[i]).astype(np.uint8)\n",
        "                clf = clone(self.clf)\n",
        "                clf.fit(X, binary_y)\n",
        "                self.clfs[i] = clf\n",
        "    \n",
        "    def predict_proba(self, X):\n",
        "        clfs_predict = {k:self.clfs[k].predict_proba(X) for k in self.clfs}\n",
        "        predicted = []\n",
        "        for i,y in enumerate(self.unique_class):\n",
        "            if i == 0:\n",
        "                # V1 = 1 - Pr(y > V1)\n",
        "                predicted.append(1 - clfs_predict[y][:,1])\n",
        "            elif y in clfs_predict:\n",
        "                # Vi = Pr(y > Vi-1) - Pr(y > Vi)\n",
        "                 predicted.append(clfs_predict[y-1][:,1] - clfs_predict[y][:,1])\n",
        "            else:\n",
        "                # Vk = Pr(y > Vk-1)\n",
        "                predicted.append(clfs_predict[y-1][:,1])\n",
        "        return np.vstack(predicted).T\n",
        "    \n",
        "    def predict(self, X):\n",
        "        return np.argmax(self.predict_proba(X), axis=1)"
      ],
      "execution_count": null,
      "outputs": []
    },
    {
      "cell_type": "code",
      "metadata": {
        "colab": {
          "base_uri": "https://localhost:8080/"
        },
        "id": "Z4sdkLoCjsSQ",
        "outputId": "07fc80a7-5ee0-49f7-8a2f-39bb8118561e"
      },
      "source": [
        "from sklearn.ensemble import RandomForestClassifier\n",
        "from sklearn.svm import SVC\n",
        "from sklearn.tree import DecisionTreeClassifier\n",
        "clf = OrdinalClassifier(RandomForestClassifier(n_estimators=1000,max_depth=8,class_weight='balanced'))\n",
        "X=df[[ 'energy' ,'danceability',\n",
        "       'explicit', 'instrumentalness','liveness',\n",
        "       'speechiness', 'tempo', \n",
        "       'duration-min', 'year<=1960', 'year<=1980', 'year<=2000', 'year<=2010',\n",
        "       'year<=2020']]\n",
        "y=df['regression_popularity']\n",
        "sc_1=StandardScaler()\n",
        "sc_1.fit(X)\n",
        "X=pd.DataFrame(sc_1.fit_transform(X)) \n",
        "strategy = {4:2000 }\n",
        "oversample = SMOTE(sampling_strategy=strategy)\n",
        "X, y = oversample.fit_resample(X, y)\n",
        "clf.fit(X, y)\n",
        "y_pred=clf.predict(X_test)\n",
        "print(y_pred)\n",
        "\n",
        "X_test=df2[[ 'energy' ,'danceability',\n",
        "       'explicit', 'instrumentalness','liveness',\n",
        "       'speechiness', 'tempo', \n",
        "       'duration-min', 'year<=1960','year<=1980', 'year<=2000', 'year<=2010',\n",
        "       'year<=2020']]\n",
        "y_test=df2['regression_popularity']\n",
        "sc_1.fit(X_test)\n",
        "X_test=pd.DataFrame(sc_1.fit_transform(X_test)) \n",
        "y_pred4=clf.predict(X_test)\n",
        "from sklearn.metrics import classification_report, confusion_matrix, accuracy_score\n",
        "result = confusion_matrix(y_test, y_pred4)\n",
        "print(\"Confusion Matrix:\")\n",
        "print(result)\n",
        "result1 = classification_report(y_test, y_pred4)\n",
        "print(\"Classification Report:\",)\n",
        "print (result1)\n",
        "result2 = accuracy_score(y_test,y_pred4)\n",
        "print(\"Accuracy:\",result2)"
      ],
      "execution_count": null,
      "outputs": [
        {
          "output_type": "stream",
          "text": [
            "/usr/local/lib/python3.7/dist-packages/sklearn/utils/deprecation.py:87: FutureWarning: Function safe_indexing is deprecated; safe_indexing is deprecated in version 0.22 and will be removed in version 0.24.\n",
            "  warnings.warn(msg, category=FutureWarning)\n"
          ],
          "name": "stderr"
        },
        {
          "output_type": "stream",
          "text": [
            "[1 0 1 ... 1 0 4]\n",
            "Confusion Matrix:\n",
            "[[532  48   2  17  34]\n",
            " [110 485   6   6   4]\n",
            " [ 50 341  31  97  38]\n",
            " [ 42 132  16 104 237]\n",
            " [  2   3   0  11  52]]\n",
            "Classification Report:\n",
            "              precision    recall  f1-score   support\n",
            "\n",
            "           0       0.72      0.84      0.78       633\n",
            "           1       0.48      0.79      0.60       611\n",
            "           2       0.56      0.06      0.10       557\n",
            "           3       0.44      0.20      0.27       531\n",
            "           4       0.14      0.76      0.24        68\n",
            "\n",
            "    accuracy                           0.50      2400\n",
            "   macro avg       0.47      0.53      0.40      2400\n",
            "weighted avg       0.55      0.50      0.45      2400\n",
            "\n",
            "Accuracy: 0.5016666666666667\n"
          ],
          "name": "stdout"
        }
      ]
    },
    {
      "cell_type": "code",
      "metadata": {
        "colab": {
          "base_uri": "https://localhost:8080/"
        },
        "id": "G6r9cSsVlB-w",
        "outputId": "a6015595-bd6e-4565-ea0d-07cd6e2132ff"
      },
      "source": [
        "\n",
        "# multi-class classification with Keras\n",
        "import pandas\n",
        "from keras.models import Sequential\n",
        "from keras.layers import Dense\n",
        "from keras.wrappers.scikit_learn import KerasClassifier\n",
        "from keras.utils import np_utils\n",
        "from sklearn.model_selection import cross_val_score\n",
        "from sklearn.model_selection import KFold\n",
        "from sklearn.preprocessing import LabelEncoder\n",
        "from sklearn.pipeline import Pipeline\n",
        "from keras.utils.np_utils import to_categorical\n",
        "\n",
        "\n",
        "X=df[[ 'acousticness', 'danceability',\n",
        "       'explicit', 'instrumentalness',  'liveness',\n",
        "       'speechiness', 'tempo', 'valence',\n",
        "       'duration-min', 'year<=1960', 'year<=1980', 'year<=2000', 'year<=2010',\n",
        "       'year<=2020']]\n",
        "y=df['regression_popularity']\n",
        "sc_1=StandardScaler()\n",
        "sc_1.fit(X)\n",
        "X=pd.DataFrame(sc_1.fit_transform(X))\n",
        "strategy = {4:4000,3:6000,2:8000,1:10000,0:14000}\n",
        "oversample = SMOTE(sampling_strategy=strategy)\n",
        "X, y = oversample.fit_resample(X, y)\n",
        "y2 = np_utils.to_categorical(y)\n",
        "\n",
        "model = Sequential()\n",
        "model.add(Dense(32, input_dim = 14 , activation = 'relu'))\n",
        "model.add(Dense(10, activation = 'relu'))\n",
        "model.add(Dense(10, activation = 'relu'))\n",
        "\n",
        "model.add(Dense(5, activation = 'softmax'))\n",
        "\n",
        "model.compile(loss = 'categorical_crossentropy' , optimizer = 'adam' , metrics = ['accuracy'] )\n",
        "\n",
        "model.fit(X,y2, epochs = 10, batch_size = 20)\n",
        "\n"
      ],
      "execution_count": null,
      "outputs": [
        {
          "output_type": "stream",
          "text": [
            "/usr/local/lib/python3.7/dist-packages/imblearn/utils/_validation.py:257: UserWarning: After over-sampling, the number of samples (4000) in class 4 will be larger than the number of samples in the majority class (class #0 -> 2589)\n",
            "  n_samples_majority))\n",
            "/usr/local/lib/python3.7/dist-packages/imblearn/utils/_validation.py:257: UserWarning: After over-sampling, the number of samples (6000) in class 3 will be larger than the number of samples in the majority class (class #0 -> 2589)\n",
            "  n_samples_majority))\n",
            "/usr/local/lib/python3.7/dist-packages/imblearn/utils/_validation.py:257: UserWarning: After over-sampling, the number of samples (8000) in class 2 will be larger than the number of samples in the majority class (class #0 -> 2589)\n",
            "  n_samples_majority))\n",
            "/usr/local/lib/python3.7/dist-packages/imblearn/utils/_validation.py:257: UserWarning: After over-sampling, the number of samples (10000) in class 1 will be larger than the number of samples in the majority class (class #0 -> 2589)\n",
            "  n_samples_majority))\n",
            "/usr/local/lib/python3.7/dist-packages/imblearn/utils/_validation.py:257: UserWarning: After over-sampling, the number of samples (14000) in class 0 will be larger than the number of samples in the majority class (class #0 -> 2589)\n",
            "  n_samples_majority))\n",
            "/usr/local/lib/python3.7/dist-packages/sklearn/utils/deprecation.py:87: FutureWarning: Function safe_indexing is deprecated; safe_indexing is deprecated in version 0.22 and will be removed in version 0.24.\n",
            "  warnings.warn(msg, category=FutureWarning)\n",
            "/usr/local/lib/python3.7/dist-packages/sklearn/utils/deprecation.py:87: FutureWarning: Function safe_indexing is deprecated; safe_indexing is deprecated in version 0.22 and will be removed in version 0.24.\n",
            "  warnings.warn(msg, category=FutureWarning)\n",
            "/usr/local/lib/python3.7/dist-packages/sklearn/utils/deprecation.py:87: FutureWarning: Function safe_indexing is deprecated; safe_indexing is deprecated in version 0.22 and will be removed in version 0.24.\n",
            "  warnings.warn(msg, category=FutureWarning)\n",
            "/usr/local/lib/python3.7/dist-packages/sklearn/utils/deprecation.py:87: FutureWarning: Function safe_indexing is deprecated; safe_indexing is deprecated in version 0.22 and will be removed in version 0.24.\n",
            "  warnings.warn(msg, category=FutureWarning)\n",
            "/usr/local/lib/python3.7/dist-packages/sklearn/utils/deprecation.py:87: FutureWarning: Function safe_indexing is deprecated; safe_indexing is deprecated in version 0.22 and will be removed in version 0.24.\n",
            "  warnings.warn(msg, category=FutureWarning)\n"
          ],
          "name": "stderr"
        },
        {
          "output_type": "stream",
          "text": [
            "Epoch 1/10\n",
            "10500/10500 [==============================] - 25s 2ms/step - loss: 1.0041 - accuracy: 0.5791\n",
            "Epoch 2/10\n",
            "10500/10500 [==============================] - 24s 2ms/step - loss: 0.8764 - accuracy: 0.6277\n",
            "Epoch 3/10\n",
            "10500/10500 [==============================] - 24s 2ms/step - loss: 0.8617 - accuracy: 0.6344\n",
            "Epoch 4/10\n",
            "10500/10500 [==============================] - 24s 2ms/step - loss: 0.8548 - accuracy: 0.6341\n",
            "Epoch 5/10\n",
            "10500/10500 [==============================] - 24s 2ms/step - loss: 0.8485 - accuracy: 0.6375\n",
            "Epoch 6/10\n",
            "10500/10500 [==============================] - 24s 2ms/step - loss: 0.8424 - accuracy: 0.6421\n",
            "Epoch 7/10\n",
            "10500/10500 [==============================] - 24s 2ms/step - loss: 0.8328 - accuracy: 0.6453\n",
            "Epoch 8/10\n",
            "10500/10500 [==============================] - 24s 2ms/step - loss: 0.8263 - accuracy: 0.6460\n",
            "Epoch 9/10\n",
            "10500/10500 [==============================] - 24s 2ms/step - loss: 0.8217 - accuracy: 0.6487\n",
            "Epoch 10/10\n",
            "10500/10500 [==============================] - 25s 2ms/step - loss: 0.8138 - accuracy: 0.6524\n"
          ],
          "name": "stdout"
        },
        {
          "output_type": "execute_result",
          "data": {
            "text/plain": [
              "<tensorflow.python.keras.callbacks.History at 0x7f03d02d4410>"
            ]
          },
          "metadata": {
            "tags": []
          },
          "execution_count": 70
        }
      ]
    },
    {
      "cell_type": "code",
      "metadata": {
        "colab": {
          "base_uri": "https://localhost:8080/"
        },
        "id": "r6IoB0d8pPRl",
        "outputId": "d2acc6a6-4572-40ca-93e4-d7714851e18e"
      },
      "source": [
        "X_test=df2[[ 'acousticness', 'danceability',\n",
        "       'explicit', 'instrumentalness',  'liveness',\n",
        "       'speechiness', 'tempo', 'valence',\n",
        "       'duration-min', 'year<=1960', 'year<=1980', 'year<=2000', 'year<=2010',\n",
        "       'year<=2020']]\n",
        "y_test=df2['regression_popularity']\n",
        "sc_1.fit(X_test)\n",
        "X_test=pd.DataFrame(sc_1.fit_transform(X_test))\n",
        "predictions = model.predict_classes(X_test)\n",
        "prediction_ = np.argmax(to_categorical(predictions), axis = 1)\n",
        "\n",
        "from sklearn.metrics import classification_report, confusion_matrix, accuracy_score\n",
        "y_pred=prediction_\n",
        "\n",
        "\n",
        "result = confusion_matrix(y_test, y_pred)\n",
        "print(\"Confusion Matrix:\")\n",
        "print(result)\n",
        "result1 = classification_report(y_test, y_pred)\n",
        "print(\"Classification Report:\",)\n",
        "print (result1)\n",
        "result2 = accuracy_score(y_test,y_pred)\n",
        "print(\"Accuracy:\",result2)"
      ],
      "execution_count": null,
      "outputs": [
        {
          "output_type": "stream",
          "text": [
            "Confusion Matrix:\n",
            "[[512  63  20  22  16]\n",
            " [ 71 341 195   2   2]\n",
            " [ 25 172 309  39  12]\n",
            " [ 53  61 171 142 104]\n",
            " [  6   1   5  24  32]]\n",
            "Classification Report:\n",
            "              precision    recall  f1-score   support\n",
            "\n",
            "           0       0.77      0.81      0.79       633\n",
            "           1       0.53      0.56      0.55       611\n",
            "           2       0.44      0.55      0.49       557\n",
            "           3       0.62      0.27      0.37       531\n",
            "           4       0.19      0.47      0.27        68\n",
            "\n",
            "    accuracy                           0.56      2400\n",
            "   macro avg       0.51      0.53      0.49      2400\n",
            "weighted avg       0.58      0.56      0.55      2400\n",
            "\n",
            "Accuracy: 0.5566666666666666\n"
          ],
          "name": "stdout"
        },
        {
          "output_type": "stream",
          "text": [
            "/usr/local/lib/python3.7/dist-packages/tensorflow/python/keras/engine/sequential.py:450: UserWarning: `model.predict_classes()` is deprecated and will be removed after 2021-01-01. Please use instead:* `np.argmax(model.predict(x), axis=-1)`,   if your model does multi-class classification   (e.g. if it uses a `softmax` last-layer activation).* `(model.predict(x) > 0.5).astype(\"int32\")`,   if your model does binary classification   (e.g. if it uses a `sigmoid` last-layer activation).\n",
            "  warnings.warn('`model.predict_classes()` is deprecated and '\n"
          ],
          "name": "stderr"
        }
      ]
    },
    {
      "cell_type": "code",
      "metadata": {
        "colab": {
          "base_uri": "https://localhost:8080/"
        },
        "id": "b_aVdDQFtugL",
        "outputId": "aa9fdd2b-6afe-429e-b4d0-1943684e60ce"
      },
      "source": [
        "from sklearn.model_selection import cross_val_score\n",
        "from sklearn.model_selection import RepeatedStratifiedKFold\n",
        "from sklearn.ensemble import RandomForestClassifier\n",
        "from sklearn.model_selection import train_test_split\n",
        "from sklearn import metrics\n",
        "from sklearn import preprocessing \n",
        "  \n",
        "\n",
        "\n",
        "\n",
        "X=df[[ 'acousticness', 'danceability',\n",
        "       'explicit', 'instrumentalness', 'key', 'liveness',\n",
        "       'speechiness', 'tempo', 'valence',\n",
        "       'duration-min', 'year<=1960', 'year<=1980', 'year<=2000', 'year<=2010',\n",
        "       'year<=2020']]\n",
        "y=df['regression_popularity']\n",
        "sc_1=StandardScaler()\n",
        "sc_1.fit(X)\n",
        "\n",
        "strategy = {4:1000,3:3000}\n",
        "oversample = SMOTE(sampling_strategy=strategy)\n",
        "X, y = oversample.fit_resample(X, y)\n",
        "model = RandomForestClassifier( criterion = 'entropy', random_state = 42,class_weight=\"balanced\")\n",
        "model.fit(X_train, y_train)\n"
      ],
      "execution_count": null,
      "outputs": [
        {
          "output_type": "stream",
          "text": [
            "/usr/local/lib/python3.7/dist-packages/imblearn/utils/_validation.py:257: UserWarning: After over-sampling, the number of samples (3000) in class 3 will be larger than the number of samples in the majority class (class #0 -> 2589)\n",
            "  n_samples_majority))\n",
            "/usr/local/lib/python3.7/dist-packages/sklearn/utils/deprecation.py:87: FutureWarning: Function safe_indexing is deprecated; safe_indexing is deprecated in version 0.22 and will be removed in version 0.24.\n",
            "  warnings.warn(msg, category=FutureWarning)\n",
            "/usr/local/lib/python3.7/dist-packages/sklearn/utils/deprecation.py:87: FutureWarning: Function safe_indexing is deprecated; safe_indexing is deprecated in version 0.22 and will be removed in version 0.24.\n",
            "  warnings.warn(msg, category=FutureWarning)\n"
          ],
          "name": "stderr"
        },
        {
          "output_type": "execute_result",
          "data": {
            "text/plain": [
              "RandomForestClassifier(bootstrap=True, ccp_alpha=0.0, class_weight='balanced',\n",
              "                       criterion='entropy', max_depth=None, max_features='auto',\n",
              "                       max_leaf_nodes=None, max_samples=None,\n",
              "                       min_impurity_decrease=0.0, min_impurity_split=None,\n",
              "                       min_samples_leaf=1, min_samples_split=2,\n",
              "                       min_weight_fraction_leaf=0.0, n_estimators=100,\n",
              "                       n_jobs=None, oob_score=False, random_state=42, verbose=0,\n",
              "                       warm_start=False)"
            ]
          },
          "metadata": {
            "tags": []
          },
          "execution_count": 80
        }
      ]
    },
    {
      "cell_type": "code",
      "metadata": {
        "colab": {
          "base_uri": "https://localhost:8080/"
        },
        "id": "wjaQ4nIruB1X",
        "outputId": "27be85b8-7162-4a7b-f311-e2d5941dcbd4"
      },
      "source": [
        "X_test=df2[[ 'energy' ,'danceability',\n",
        "       'explicit', 'instrumentalness','liveness',\n",
        "       'speechiness', 'tempo', \n",
        "       'duration-min', 'year<=1960','year<=1980', 'year<=2000', 'year<=2010',\n",
        "       'year<=2020']]\n",
        "y_test=df2['regression_popularity']\n",
        "sc_1.fit(X_test)\n",
        "X_test=pd.DataFrame(sc_1.fit_transform(X_test)) \n",
        "y_pred4=clf.predict(X_test)\n",
        "from sklearn.metrics import classification_report, confusion_matrix, accuracy_score\n",
        "result = confusion_matrix(y_test, y_pred4)\n",
        "print(\"Confusion Matrix:\")\n",
        "print(result)\n",
        "result1 = classification_report(y_test, y_pred4)\n",
        "print(\"Classification Report:\",)\n",
        "print (result1)\n",
        "result2 = accuracy_score(y_test,y_pred4)\n",
        "print(\"Accuracy:\",result2)"
      ],
      "execution_count": null,
      "outputs": [
        {
          "output_type": "stream",
          "text": [
            "Confusion Matrix:\n",
            "[[532  48   2  17  34]\n",
            " [110 485   6   6   4]\n",
            " [ 50 341  31  97  38]\n",
            " [ 42 132  16 104 237]\n",
            " [  2   3   0  11  52]]\n",
            "Classification Report:\n",
            "              precision    recall  f1-score   support\n",
            "\n",
            "           0       0.72      0.84      0.78       633\n",
            "           1       0.48      0.79      0.60       611\n",
            "           2       0.56      0.06      0.10       557\n",
            "           3       0.44      0.20      0.27       531\n",
            "           4       0.14      0.76      0.24        68\n",
            "\n",
            "    accuracy                           0.50      2400\n",
            "   macro avg       0.47      0.53      0.40      2400\n",
            "weighted avg       0.55      0.50      0.45      2400\n",
            "\n",
            "Accuracy: 0.5016666666666667\n"
          ],
          "name": "stdout"
        }
      ]
    },
    {
      "cell_type": "code",
      "metadata": {
        "id": "AGslA7cbEKr7"
      },
      "source": [
        ""
      ],
      "execution_count": null,
      "outputs": []
    }
  ]
}